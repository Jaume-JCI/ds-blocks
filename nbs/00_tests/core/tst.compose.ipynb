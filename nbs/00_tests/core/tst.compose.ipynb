{
 "cells": [
  {
   "cell_type": "code",
   "execution_count": 1,
   "id": "86b3a6da",
   "metadata": {},
   "outputs": [],
   "source": [
    "# hide\n",
    "# default_exp tests.core.test_compose\n",
    "from nbdev.showdoc import *\n",
    "from block_types.utils.nbdev_utils import nbdev_setup, TestRunner\n",
    "\n",
    "nbdev_setup ()\n",
    "tst = TestRunner (targets=['dummy'])"
   ]
  },
  {
   "cell_type": "markdown",
   "id": "4f1a487f",
   "metadata": {},
   "source": [
    "# Test compose"
   ]
  },
  {
   "cell_type": "code",
   "execution_count": 2,
   "id": "00c30900-4c9d-473d-aa61-630512bc57c9",
   "metadata": {},
   "outputs": [],
   "source": [
    "# export\n",
    "import pytest\n",
    "import os\n",
    "import joblib\n",
    "from IPython.display import display\n",
    "import pandas as pd\n",
    "import numpy as np\n",
    "import time\n",
    "from pathlib import Path\n",
    "\n",
    "from sklearn.preprocessing import StandardScaler\n",
    "from sklearn.utils import Bunch\n",
    "from sklearn.preprocessing import FunctionTransformer\n",
    "\n",
    "from block_types.core.compose import *\n",
    "from block_types.core.block_types import Component, PandasComponent, PickleSaverComponent\n",
    "from block_types.core.utils import PickleIO\n",
    "from block_types.utils.utils import remove_previous_results\n",
    "from block_types.core.data_conversion import DataConverter, PandasConverter\n",
    "\n",
    "import block_types.config.bt_defaults as dflt\n",
    "from block_types.utils.utils import check_last_part"
   ]
  },
  {
   "cell_type": "code",
   "execution_count": 3,
   "id": "900e1c41-7dfa-43c7-8100-af96990f3ad3",
   "metadata": {},
   "outputs": [],
   "source": [
    "#export\n",
    "@pytest.fixture (name='column_transformer_data')\n",
    "def column_transformer_data_fixture():\n",
    "    return column_transformer_data()\n",
    "\n",
    "@pytest.fixture (name='multi_split_data')\n",
    "def multi_split_data_fixture():\n",
    "    return multi_split_data()"
   ]
  },
  {
   "cell_type": "markdown",
   "id": "b974f24d-f4fe-46c6-9c03-56360544faa3",
   "metadata": {
    "tags": [],
    "toc-hr-collapsed": true
   },
   "source": [
    "## Parallel"
   ]
  },
  {
   "cell_type": "markdown",
   "id": "88866b64-f7fc-4e8d-81e0-3bec1bcdf0c4",
   "metadata": {
    "tags": []
   },
   "source": [
    "### `find_last_fitted_model`"
   ]
  },
  {
   "cell_type": "markdown",
   "id": "781df927-700d-4625-9726-4ba814e4edbc",
   "metadata": {},
   "source": [
    "#### Using Sequential"
   ]
  },
  {
   "cell_type": "markdown",
   "id": "46af70d4-8bd5-4b0b-b935-6822565556ec",
   "metadata": {},
   "source": [
    "##### First test / example"
   ]
  },
  {
   "cell_type": "code",
   "execution_count": 4,
   "id": "adf09452-6073-4d2e-b725-982f3a03b171",
   "metadata": {
    "tags": []
   },
   "outputs": [],
   "source": [
    "# export\n",
    "from block_types.utils.dummies import make_pipe_fit1\n",
    "\n",
    "def test_pipeline_find_last_fitted_model_seq_others ():\n",
    "    path_results = 'test_pipeline_find_last_fitted_model_seq_start'\n",
    "    remove_previous_results (path_results=path_results)\n",
    "    \n",
    "    # pipelines\n",
    "    pipe1 = make_pipe_fit1 ()\n",
    "    X = np.array([1,2,3]).reshape(-1,1)\n",
    "    r1 = pipe1.fit_apply (X)\n",
    "    \n",
    "    # case 1: component A\n",
    "    pipe2 = make_pipe_fit1 (path_results=path_results, verbose=2)\n",
    "    r = pipe2.A.fit_apply (X)\n",
    "    all_fitted = pipe2.find_last_fitted_model ()\n",
    "    assert not all_fitted\n",
    "    pipe2.A.raise_error = True\n",
    "    with pytest.raises (RuntimeError):\n",
    "        r2 = pipe2.fit_apply (None)\n",
    "    remove_previous_results (path_results=path_results)\n",
    "    \n",
    "    # case 2: component B\n",
    "    pipe2 = make_pipe_fit1 (path_results=path_results, verbose=2)\n",
    "    r = pipe2.A.fit_apply (X)\n",
    "    r = pipe2.B.fit_apply (r)\n",
    "    all_fitted = pipe2.find_last_fitted_model ()\n",
    "    assert not all_fitted\n",
    "    pipe2.A.raise_error = True\n",
    "    r2 = pipe2.fit_apply (None)\n",
    "    assert (r1==r2).all()\n",
    "    remove_previous_results (path_results=path_results)\n",
    "    \n",
    "    # case 2: component C\n",
    "    pipe2 = make_pipe_fit1 (path_results=path_results, verbose=2)\n",
    "    r = pipe2.A.fit_apply (X)\n",
    "    r = pipe2.B.fit_apply (r)\n",
    "    r = pipe2.C.fit_apply (r)\n",
    "    all_fitted = pipe2.find_last_fitted_model ()\n",
    "    assert not all_fitted\n",
    "    pipe2.A.raise_error = True\n",
    "    pipe2.B.raise_error = True\n",
    "    pipe2.B.estimator = Bunch ()\n",
    "    pipe2.C.estimator = Bunch ()\n",
    "    r2 = pipe2.fit_apply (None)\n",
    "    assert (r1==r2).all()\n",
    "    remove_previous_results (path_results=path_results)"
   ]
  },
  {
   "cell_type": "code",
   "execution_count": 5,
   "id": "edba910e-c84c-4af4-bfc8-a2b651dfdbcd",
   "metadata": {},
   "outputs": [
    {
     "name": "stdout",
     "output_type": "stream",
     "text": [
      "running test_pipeline_find_last_fitted_model_seq_others\n",
      "Did not find y as separate argument, but no_labels is False\n",
      "Did not find y as separate argument, but no_labels is False\n",
      "Did not find y as separate argument, but no_labels is False\n",
      "Did not find y as separate argument, but no_labels is False\n",
      "Did not find y as separate argument, but no_labels is False\n",
      "Did not find y as separate argument, but no_labels is False\n",
      "Did not find y as separate argument, but no_labels is False\n"
     ]
    },
    {
     "name": "stderr",
     "output_type": "stream",
     "text": [
      "applying A (on whole data)\n",
      "saving to /home/jcidatascience/jaume/workspace/remote/temp/block-types/test_pipeline_find_last_fitted_model_seq_start/whole/A_result.pk\n",
      "fitting pipeline (using whole data)\n",
      "applying A (on whole data)\n"
     ]
    },
    {
     "name": "stdout",
     "output_type": "stream",
     "text": [
      "Did not find y as separate argument, but no_labels is False\n",
      "Did not find y as separate argument, but no_labels is False\n"
     ]
    },
    {
     "name": "stderr",
     "output_type": "stream",
     "text": [
      "saving to /home/jcidatascience/jaume/workspace/remote/temp/block-types/test_pipeline_find_last_fitted_model_seq_start/whole/A_result.pk\n",
      "fitting B (using whole data)\n",
      "saving to /home/jcidatascience/jaume/workspace/remote/temp/block-types/test_pipeline_find_last_fitted_model_seq_start/models/B_estimator.pk\n",
      "applying B (on whole data)\n",
      "saving to /home/jcidatascience/jaume/workspace/remote/temp/block-types/test_pipeline_find_last_fitted_model_seq_start/whole/B_result.pk\n",
      "fitting pipeline (using whole data)\n",
      "fitting B (using whole data)\n",
      "loading from /home/jcidatascience/jaume/workspace/remote/temp/block-types/test_pipeline_find_last_fitted_model_seq_start/models/B_estimator.pk\n",
      "loaded pre-trained B\n",
      "applying B (on whole data)\n",
      "loading from /home/jcidatascience/jaume/workspace/remote/temp/block-types/test_pipeline_find_last_fitted_model_seq_start/whole/B_result.pk\n",
      "loaded pre-computed result\n",
      "fitting C (using whole data)\n",
      "saving to /home/jcidatascience/jaume/workspace/remote/temp/block-types/test_pipeline_find_last_fitted_model_seq_start/models/C_estimator.pk\n",
      "applying C (on whole data)\n",
      "saving to /home/jcidatascience/jaume/workspace/remote/temp/block-types/test_pipeline_find_last_fitted_model_seq_start/whole/C_result.pk\n",
      "applying D (on whole data)\n",
      "saving to /home/jcidatascience/jaume/workspace/remote/temp/block-types/test_pipeline_find_last_fitted_model_seq_start/whole/D_result.pk\n",
      "fitting E (using whole data)\n",
      "saving to /home/jcidatascience/jaume/workspace/remote/temp/block-types/test_pipeline_find_last_fitted_model_seq_start/models/E_estimator.pk\n",
      "applying E (on whole data)\n",
      "saving to /home/jcidatascience/jaume/workspace/remote/temp/block-types/test_pipeline_find_last_fitted_model_seq_start/whole/E_result.pk\n",
      "applying F (on whole data)\n",
      "saving to /home/jcidatascience/jaume/workspace/remote/temp/block-types/test_pipeline_find_last_fitted_model_seq_start/whole/F_result.pk\n",
      "fitting G (using whole data)\n",
      "saving to /home/jcidatascience/jaume/workspace/remote/temp/block-types/test_pipeline_find_last_fitted_model_seq_start/models/G_estimator.pk\n",
      "applying G (on whole data)\n",
      "saving to /home/jcidatascience/jaume/workspace/remote/temp/block-types/test_pipeline_find_last_fitted_model_seq_start/whole/G_result.pk\n",
      "saving to /home/jcidatascience/jaume/workspace/remote/temp/block-types/test_pipeline_find_last_fitted_model_seq_start/whole/pipeline_result.pk\n"
     ]
    },
    {
     "name": "stdout",
     "output_type": "stream",
     "text": [
      "Did not find y as separate argument, but no_labels is False\n",
      "Did not find y as separate argument, but no_labels is False\n",
      "Did not find y as separate argument, but no_labels is False\n",
      "Did not find y as separate argument, but no_labels is False\n",
      "Did not find y as separate argument, but no_labels is False\n",
      "Did not find y as separate argument, but no_labels is False\n"
     ]
    },
    {
     "name": "stderr",
     "output_type": "stream",
     "text": [
      "applying A (on whole data)\n",
      "saving to /home/jcidatascience/jaume/workspace/remote/temp/block-types/test_pipeline_find_last_fitted_model_seq_start/whole/A_result.pk\n",
      "fitting B (using whole data)\n",
      "saving to /home/jcidatascience/jaume/workspace/remote/temp/block-types/test_pipeline_find_last_fitted_model_seq_start/models/B_estimator.pk\n",
      "applying B (on whole data)\n",
      "saving to /home/jcidatascience/jaume/workspace/remote/temp/block-types/test_pipeline_find_last_fitted_model_seq_start/whole/B_result.pk\n",
      "fitting C (using whole data)\n",
      "saving to /home/jcidatascience/jaume/workspace/remote/temp/block-types/test_pipeline_find_last_fitted_model_seq_start/models/C_estimator.pk\n",
      "applying C (on whole data)\n",
      "saving to /home/jcidatascience/jaume/workspace/remote/temp/block-types/test_pipeline_find_last_fitted_model_seq_start/whole/C_result.pk\n",
      "fitting pipeline (using whole data)\n",
      "loading from /home/jcidatascience/jaume/workspace/remote/temp/block-types/test_pipeline_find_last_fitted_model_seq_start/models/B_estimator.pk\n",
      "fitting C (using whole data)\n",
      "loading from /home/jcidatascience/jaume/workspace/remote/temp/block-types/test_pipeline_find_last_fitted_model_seq_start/models/C_estimator.pk\n",
      "loaded pre-trained C\n",
      "applying C (on whole data)\n",
      "loading from /home/jcidatascience/jaume/workspace/remote/temp/block-types/test_pipeline_find_last_fitted_model_seq_start/whole/C_result.pk\n",
      "loaded pre-computed result\n",
      "applying D (on whole data)\n",
      "saving to /home/jcidatascience/jaume/workspace/remote/temp/block-types/test_pipeline_find_last_fitted_model_seq_start/whole/D_result.pk\n",
      "fitting E (using whole data)\n",
      "saving to /home/jcidatascience/jaume/workspace/remote/temp/block-types/test_pipeline_find_last_fitted_model_seq_start/models/E_estimator.pk\n",
      "applying E (on whole data)\n",
      "saving to /home/jcidatascience/jaume/workspace/remote/temp/block-types/test_pipeline_find_last_fitted_model_seq_start/whole/E_result.pk\n",
      "applying F (on whole data)\n",
      "saving to /home/jcidatascience/jaume/workspace/remote/temp/block-types/test_pipeline_find_last_fitted_model_seq_start/whole/F_result.pk\n",
      "fitting G (using whole data)\n",
      "saving to /home/jcidatascience/jaume/workspace/remote/temp/block-types/test_pipeline_find_last_fitted_model_seq_start/models/G_estimator.pk\n",
      "applying G (on whole data)\n",
      "saving to /home/jcidatascience/jaume/workspace/remote/temp/block-types/test_pipeline_find_last_fitted_model_seq_start/whole/G_result.pk\n",
      "saving to /home/jcidatascience/jaume/workspace/remote/temp/block-types/test_pipeline_find_last_fitted_model_seq_start/whole/pipeline_result.pk\n"
     ]
    },
    {
     "name": "stdout",
     "output_type": "stream",
     "text": [
      "Did not find y as separate argument, but no_labels is False\n",
      "Did not find y as separate argument, but no_labels is False\n",
      "Did not find y as separate argument, but no_labels is False\n",
      "Did not find y as separate argument, but no_labels is False\n",
      "Did not find y as separate argument, but no_labels is False\n",
      "Did not find y as separate argument, but no_labels is False\n",
      "Did not find y as separate argument, but no_labels is False\n"
     ]
    }
   ],
   "source": [
    "tst.run (test_pipeline_find_last_fitted_model_seq_others, tag='dummy')"
   ]
  },
  {
   "cell_type": "markdown",
   "id": "eb4026ff-2bd2-4de7-88cb-324fc710fa10",
   "metadata": {},
   "source": [
    "##### Second test / example"
   ]
  },
  {
   "cell_type": "markdown",
   "id": "4e2153f2-d03a-44d1-aa7e-a42c5ed59dca",
   "metadata": {},
   "source": [
    "#### Using Parallel"
   ]
  },
  {
   "cell_type": "code",
   "execution_count": 6,
   "id": "78340bb8-2073-4bab-b0e7-9966eaabfff5",
   "metadata": {
    "tags": []
   },
   "outputs": [],
   "source": [
    "# export\n",
    "from block_types.utils.dummies import make_pipe_fit2\n",
    "\n",
    "def test_pipeline_find_last_fitted_model_parallel_2 ():\n",
    "    path_results = 'test_pipeline_find_last_fitted_model_parallel_2'\n",
    "    remove_previous_results (path_results=path_results)\n",
    "    \n",
    "    # ******************************************************\n",
    "    # pipelines\n",
    "    pipe1 = make_pipe_fit2 ()\n",
    "    X = np.array([1,2,3]).reshape(-1,1)\n",
    "    r1 = pipe1.fit_apply (X)\n",
    "    \n",
    "    # ******************************************************\n",
    "    pipe2 = make_pipe_fit2 (path_results=path_results, verbose=2, root=True)\n",
    "    # second\n",
    "    r = pipe2.A0.fit_apply (X)\n",
    "    r = pipe2.A1.fit_apply (r)\n",
    "    b1 = pipe2.obj.B1.fit_apply (r)\n",
    "    b2 = pipe2.obj.B2.fit_apply (r)\n",
    "    \n",
    "    b3a = pipe2.obj.B3a.fit_apply (r)\n",
    "    b3b = pipe2.obj.B3b.fit_apply (b3a)\n",
    "    b3c = pipe2.obj.B3c.fit_apply (b3b)\n",
    "    b3d = pipe2.obj.B3d.fit_apply (b3c)\n",
    "    \n",
    "    b4a = pipe2.obj.B4a.fit_apply (r)\n",
    "    b4b = pipe2.obj.B4b.fit_apply (b4a)\n",
    "    b4c = pipe2.obj.B4c.fit_apply (b4b)\n",
    "    b4d = pipe2.obj.B4d.fit_apply (b4c)\n",
    "    b4e = pipe2.obj.B4e.fit_apply (b4d)\n",
    "    \n",
    "    b5 = pipe2.obj.B5.fit_apply (r)\n",
    "\n",
    "    all_fitted = pipe2.find_last_fitted_model ()\n",
    "    assert not all_fitted\n",
    "\n",
    "    pipe2.A0.raise_error = True\n",
    "    pipe2.A1.raise_error = True\n",
    "    \n",
    "    pipe2.obj.B3a.raise_error = True\n",
    "    pipe2.obj.B3b.raise_error = True\n",
    "    pipe2.obj.B3c.raise_error = True\n",
    "        \n",
    "    pipe2.obj.B4a.raise_error = True\n",
    "    pipe2.obj.B4b.raise_error = True\n",
    "    pipe2.obj.B4c.raise_error = True\n",
    "    pipe2.obj.B4d.raise_error = True\n",
    "    \n",
    "    pipe2.A1.create_estimator()\n",
    "    pipe2.obj.B2.create_estimator()\n",
    "    pipe2.obj.B3a.create_estimator()\n",
    "    pipe2.obj.B3b.create_estimator()\n",
    "    pipe2.obj.B4b.create_estimator()\n",
    "    pipe2.obj.B4c.create_estimator()\n",
    "    pipe2.obj.B4e.create_estimator()\n",
    "    pipe2.obj.B5.create_estimator()\n",
    "    \n",
    "    pipe2.logger.info (f'\\n{\"-\"*100}\\n')\n",
    "    r2 = pipe2.fit_apply (None)\n",
    "    assert (r1==r2).all()\n",
    "    \n",
    "    remove_previous_results (path_results=path_results)\n",
    "    \n",
    "    # ******************************************************\n",
    "    \n",
    "    pipe2.logger.info (f'\\n{\"*\"*100}\\n{\"*\"*100}\\n')\n",
    "    pipe2 = make_pipe_fit2 (path_results=path_results, verbose=2, root=True)\n",
    "    # second\n",
    "    r = pipe2.A0.fit_apply (X)\n",
    "    r = pipe2.A1.fit_apply (r)\n",
    "    b1 = pipe2.obj.B1.fit_apply (r)\n",
    "    b2 = pipe2.obj.B2.fit_apply (r)\n",
    "    \n",
    "    b3a = pipe2.obj.B3a.fit_apply (r)\n",
    "    b3b = pipe2.obj.B3b.fit_apply (b3a)\n",
    "    b3c = pipe2.obj.B3c.fit_apply (b3b)\n",
    "    b3d = pipe2.obj.B3d.fit_apply (b3c)\n",
    "    \n",
    "    b4 = pipe2.obj.pipeline_1_1.fit_apply (r)\n",
    "    b5 = pipe2.obj.B5.fit_apply (r)\n",
    "\n",
    "    all_fitted = pipe2.find_last_fitted_model ()\n",
    "    assert not all_fitted\n",
    "\n",
    "    pipe2.A0.raise_error = True\n",
    "    pipe2.A1.raise_error = True\n",
    "    \n",
    "    pipe2.obj.B3a.raise_error = True\n",
    "    pipe2.obj.B3b.raise_error = True\n",
    "    pipe2.obj.B3c.raise_error = True\n",
    "        \n",
    "    pipe2.obj.B4a.raise_error = True\n",
    "    pipe2.obj.B4b.raise_error = True\n",
    "    pipe2.obj.B4c.raise_error = True\n",
    "    pipe2.obj.B4d.raise_error = True\n",
    "    \n",
    "    pipe2.A1.create_estimator()\n",
    "    pipe2.obj.B2.create_estimator()\n",
    "    pipe2.obj.B3a.create_estimator()\n",
    "    pipe2.obj.B3b.create_estimator()\n",
    "    pipe2.obj.B4b.create_estimator()\n",
    "    pipe2.obj.B4c.create_estimator()\n",
    "    pipe2.obj.B4e.create_estimator()\n",
    "    pipe2.obj.B5.create_estimator()\n",
    "    \n",
    "    pipe2.logger.info (f'\\n{\"-\"*100}\\n')\n",
    "    r2 = pipe2.fit_apply (None)\n",
    "    assert (r1==r2).all()\n",
    "    \n",
    "    remove_previous_results (path_results=path_results)\n",
    "    \n",
    "    # ******************************************************\n",
    "    \n",
    "    pipe2.logger.info (f'\\n{\"*\"*100}\\n{\"*\"*100}\\n')\n",
    "    pipe2 = make_pipe_fit2 (path_results=path_results, verbose=2, root=True)\n",
    "    # second\n",
    "    r = pipe2.A0.fit_apply (X)\n",
    "    r = pipe2.A1.fit_apply (r)\n",
    "    r = pipe2.obj.parallel.fit_apply (r)\n",
    "\n",
    "    all_fitted = pipe2.find_last_fitted_model ()\n",
    "    assert not all_fitted\n",
    "\n",
    "    pipe2.A0.raise_error = True\n",
    "    pipe2.A1.raise_error = True\n",
    "    \n",
    "    pipe2.obj.B1.raise_error = True\n",
    "    pipe2.obj.B2.raise_error = True\n",
    "    \n",
    "    pipe2.obj.B3a.raise_error = True\n",
    "    pipe2.obj.B3b.raise_error = True\n",
    "    pipe2.obj.B3c.raise_error = True\n",
    "    pipe2.obj.B3d.raise_error = True\n",
    "        \n",
    "    pipe2.obj.B4a.raise_error = True\n",
    "    pipe2.obj.B4b.raise_error = True\n",
    "    pipe2.obj.B4c.raise_error = True\n",
    "    pipe2.obj.B4d.raise_error = True\n",
    "    pipe2.obj.B4e.raise_error = True\n",
    "    \n",
    "    pipe2.obj.B5.raise_error = True\n",
    "    \n",
    "    pipe2.A1.create_estimator()\n",
    "    pipe2.obj.B2.create_estimator()\n",
    "    pipe2.obj.B3a.create_estimator()\n",
    "    pipe2.obj.B3b.create_estimator()\n",
    "    pipe2.obj.B4b.create_estimator()\n",
    "    pipe2.obj.B4c.create_estimator()\n",
    "    pipe2.obj.B4e.create_estimator()\n",
    "    pipe2.obj.B5.create_estimator()\n",
    "    \n",
    "    pipe2.logger.info (f'\\n{\"-\"*100}\\n')\n",
    "    r2 = pipe2.fit_apply (None)\n",
    "    assert (r1==r2).all()\n",
    "    \n",
    "    remove_previous_results (path_results=path_results)\n",
    "    \n",
    "    # ******************************************************\n",
    "    pipe2.logger.info (f'\\n{\"*\"*100}\\n{\"*\"*100}\\n')\n",
    "    pipe2 = make_pipe_fit2 (path_results=path_results, verbose=2, root=True, new_parallel=True)\n",
    "    # second\n",
    "    r = pipe2.A0.fit_apply (X)\n",
    "    r = pipe2.A1.fit_apply (r)\n",
    "    r = pipe2.obj.new_parallel.fit_apply (r)\n",
    "    r = pipe2.C.fit_apply (r)\n",
    "\n",
    "    all_fitted = pipe2.find_last_fitted_model ()\n",
    "    assert not all_fitted\n",
    "\n",
    "    pipe2.A0.raise_error = True\n",
    "    pipe2.A1.raise_error = True\n",
    "    \n",
    "    pipe2.obj.B1.raise_error = True\n",
    "    pipe2.obj.B2.raise_error = True\n",
    "    \n",
    "    pipe2.obj.B3a.raise_error = True\n",
    "    pipe2.obj.B3b.raise_error = True\n",
    "    pipe2.obj.B3c.raise_error = True\n",
    "    pipe2.obj.B3d.raise_error = True\n",
    "        \n",
    "    pipe2.obj.B4a.raise_error = True\n",
    "    pipe2.obj.B4b.raise_error = True\n",
    "    pipe2.obj.B4c.raise_error = True\n",
    "    pipe2.obj.B4d.raise_error = True\n",
    "    pipe2.obj.B4e.raise_error = True\n",
    "    \n",
    "    pipe2.obj.B5.raise_error = True\n",
    "    \n",
    "    pipe2.new_parallel.raise_error = True\n",
    "    \n",
    "    pipe2.A1.create_estimator()\n",
    "    pipe2.obj.B2.create_estimator()\n",
    "    pipe2.obj.B3a.create_estimator()\n",
    "    pipe2.obj.B3b.create_estimator()\n",
    "    pipe2.obj.B4b.create_estimator()\n",
    "    pipe2.obj.B4c.create_estimator()\n",
    "    pipe2.obj.B4e.create_estimator()\n",
    "    pipe2.obj.B5.create_estimator()\n",
    "    \n",
    "    pipe2.logger.info (f'\\n{\"-\"*100}\\n')\n",
    "    r2 = pipe2.fit_apply (None)\n",
    "    assert (r1==r2).all()\n",
    "    \n",
    "    remove_previous_results (path_results=path_results)\n",
    "    \n",
    "    # ******************************************************\n",
    "    pipe2.logger.info (f'\\n{\"*\"*100}\\n{\"*\"*100}\\n')\n",
    "    pipe2 = make_pipe_fit2 (path_results=path_results, verbose=2, root=True, new_parallel=True)\n",
    "    # second\n",
    "    r = pipe2.A0.fit_apply (X)\n",
    "    r = pipe2.A1.fit_apply (r)\n",
    "    r = pipe2.obj.new_parallel.fit_apply (r)\n",
    "    r = pipe2.C.fit_apply (r)\n",
    "    r = pipe2.D.fit_apply (r)\n",
    "\n",
    "    all_fitted = pipe2.find_last_fitted_model ()\n",
    "    assert all_fitted\n",
    "\n",
    "    pipe2.A0.raise_error = True\n",
    "    pipe2.A1.raise_error = True\n",
    "    \n",
    "    pipe2.obj.B1.raise_error = True\n",
    "    pipe2.obj.B2.raise_error = True\n",
    "    \n",
    "    pipe2.obj.B3a.raise_error = True\n",
    "    pipe2.obj.B3b.raise_error = True\n",
    "    pipe2.obj.B3c.raise_error = True\n",
    "    pipe2.obj.B3d.raise_error = True\n",
    "        \n",
    "    pipe2.obj.B4a.raise_error = True\n",
    "    pipe2.obj.B4b.raise_error = True\n",
    "    pipe2.obj.B4c.raise_error = True\n",
    "    pipe2.obj.B4d.raise_error = True\n",
    "    pipe2.obj.B4e.raise_error = True\n",
    "    \n",
    "    pipe2.obj.B5.raise_error = True\n",
    "    \n",
    "    pipe2.new_parallel.raise_error = True\n",
    "    pipe2.C.raise_error = True\n",
    "    \n",
    "    pipe2.A1.create_estimator()\n",
    "    pipe2.obj.B2.create_estimator()\n",
    "    pipe2.obj.B3a.create_estimator()\n",
    "    pipe2.obj.B3b.create_estimator()\n",
    "    pipe2.obj.B4b.create_estimator()\n",
    "    pipe2.obj.B4c.create_estimator()\n",
    "    pipe2.obj.B4e.create_estimator()\n",
    "    pipe2.obj.B5.create_estimator()\n",
    "    \n",
    "    pipe2.D.create_estimator()\n",
    "    \n",
    "    pipe2.logger.info (f'\\n{\"-\"*100}\\n')\n",
    "    r2 = pipe2.fit_apply (None)\n",
    "    assert (r1==r2).all()\n",
    "    \n",
    "    remove_previous_results (path_results=path_results)"
   ]
  },
  {
   "cell_type": "code",
   "execution_count": 7,
   "id": "ffa3ca18-5889-4352-b1b8-19ac3a8d76a7",
   "metadata": {},
   "outputs": [
    {
     "name": "stdout",
     "output_type": "stream",
     "text": [
      "running test_pipeline_find_last_fitted_model_parallel_2\n",
      "parallel class: <class 'block_types.core.compose.Parallel'>\n",
      "Did not find y as separate argument, but no_labels is False\n",
      "Did not find y as separate argument, but no_labels is False\n",
      "Did not find y as separate argument, but no_labels is False\n",
      "Did not find y as separate argument, but no_labels is False\n",
      "Did not find y as separate argument, but no_labels is False\n",
      "Did not find y as separate argument, but no_labels is False\n",
      "Did not find y as separate argument, but no_labels is False\n",
      "Did not find y as separate argument, but no_labels is False\n",
      "Did not find y as separate argument, but no_labels is False\n",
      "Did not find y as separate argument, but no_labels is False\n",
      "Did not find y as separate argument, but no_labels is False\n",
      "Did not find y as separate argument, but no_labels is False\n",
      "Did not find y as separate argument, but no_labels is False\n",
      "Did not find y as separate argument, but no_labels is False\n"
     ]
    },
    {
     "ename": "TypeError",
     "evalue": "_apply() takes 2 positional arguments but 15 were given",
     "output_type": "error",
     "traceback": [
      "\u001b[0;31m---------------------------------------------------------------------------\u001b[0m",
      "\u001b[0;31mTypeError\u001b[0m                                 Traceback (most recent call last)",
      "\u001b[0;32m/tmp/ipykernel_56479/2349724212.py\u001b[0m in \u001b[0;36m<module>\u001b[0;34m\u001b[0m\n\u001b[0;32m----> 1\u001b[0;31m \u001b[0mtst\u001b[0m\u001b[0;34m.\u001b[0m\u001b[0mrun\u001b[0m \u001b[0;34m(\u001b[0m\u001b[0mtest_pipeline_find_last_fitted_model_parallel_2\u001b[0m\u001b[0;34m,\u001b[0m \u001b[0mtag\u001b[0m\u001b[0;34m=\u001b[0m\u001b[0;34m'dummy'\u001b[0m\u001b[0;34m)\u001b[0m\u001b[0;34m\u001b[0m\u001b[0;34m\u001b[0m\u001b[0m\n\u001b[0m",
      "\u001b[0;32m~/jaume/workspace/remote/temp/block-types/block_types/utils/nbdev_utils.py\u001b[0m in \u001b[0;36mrun\u001b[0;34m(self, test_func, data_func, do, include, debug, exclude, tag, show, store)\u001b[0m\n\u001b[1;32m    113\u001b[0m                 \u001b[0;32mif\u001b[0m \u001b[0mshow\u001b[0m\u001b[0;34m:\u001b[0m\u001b[0;34m\u001b[0m\u001b[0;34m\u001b[0m\u001b[0m\n\u001b[1;32m    114\u001b[0m                     \u001b[0mprint\u001b[0m \u001b[0;34m(\u001b[0m\u001b[0;34mf'running {name}'\u001b[0m\u001b[0;34m)\u001b[0m\u001b[0;34m\u001b[0m\u001b[0;34m\u001b[0m\u001b[0m\n\u001b[0;32m--> 115\u001b[0;31m                 \u001b[0mtest_func\u001b[0m \u001b[0;34m(\u001b[0m\u001b[0;34m*\u001b[0m\u001b[0margs\u001b[0m\u001b[0;34m)\u001b[0m\u001b[0;34m\u001b[0m\u001b[0;34m\u001b[0m\u001b[0m\n\u001b[0m\u001b[1;32m    116\u001b[0m \u001b[0;34m\u001b[0m\u001b[0m\n\u001b[1;32m    117\u001b[0m \u001b[0;31m# Cell\u001b[0m\u001b[0;34m\u001b[0m\u001b[0;34m\u001b[0m\u001b[0;34m\u001b[0m\u001b[0m\n",
      "\u001b[0;32m/tmp/ipykernel_56479/3899095246.py\u001b[0m in \u001b[0;36mtest_pipeline_find_last_fitted_model_parallel_2\u001b[0;34m()\u001b[0m\n\u001b[1;32m     10\u001b[0m     \u001b[0mpipe1\u001b[0m \u001b[0;34m=\u001b[0m \u001b[0mmake_pipe_fit2\u001b[0m \u001b[0;34m(\u001b[0m\u001b[0;34m)\u001b[0m\u001b[0;34m\u001b[0m\u001b[0;34m\u001b[0m\u001b[0m\n\u001b[1;32m     11\u001b[0m     \u001b[0mX\u001b[0m \u001b[0;34m=\u001b[0m \u001b[0mnp\u001b[0m\u001b[0;34m.\u001b[0m\u001b[0marray\u001b[0m\u001b[0;34m(\u001b[0m\u001b[0;34m[\u001b[0m\u001b[0;36m1\u001b[0m\u001b[0;34m,\u001b[0m\u001b[0;36m2\u001b[0m\u001b[0;34m,\u001b[0m\u001b[0;36m3\u001b[0m\u001b[0;34m]\u001b[0m\u001b[0;34m)\u001b[0m\u001b[0;34m.\u001b[0m\u001b[0mreshape\u001b[0m\u001b[0;34m(\u001b[0m\u001b[0;34m-\u001b[0m\u001b[0;36m1\u001b[0m\u001b[0;34m,\u001b[0m\u001b[0;36m1\u001b[0m\u001b[0;34m)\u001b[0m\u001b[0;34m\u001b[0m\u001b[0;34m\u001b[0m\u001b[0m\n\u001b[0;32m---> 12\u001b[0;31m     \u001b[0mr1\u001b[0m \u001b[0;34m=\u001b[0m \u001b[0mpipe1\u001b[0m\u001b[0;34m.\u001b[0m\u001b[0mfit_apply\u001b[0m \u001b[0;34m(\u001b[0m\u001b[0mX\u001b[0m\u001b[0;34m)\u001b[0m\u001b[0;34m\u001b[0m\u001b[0;34m\u001b[0m\u001b[0m\n\u001b[0m\u001b[1;32m     13\u001b[0m \u001b[0;34m\u001b[0m\u001b[0m\n\u001b[1;32m     14\u001b[0m     \u001b[0;31m# ******************************************************\u001b[0m\u001b[0;34m\u001b[0m\u001b[0;34m\u001b[0m\u001b[0;34m\u001b[0m\u001b[0m\n",
      "\u001b[0;32m~/jaume/workspace/remote/temp/block-types/block_types/core/block_types.py\u001b[0m in \u001b[0;36mfit_apply\u001b[0;34m(self, y, load_model, save_model, load_result, save_result, func, validation_data, test_data, *X, **kwargs)\u001b[0m\n\u001b[1;32m    317\u001b[0m                                   \u001b[0mload\u001b[0m\u001b[0;34m=\u001b[0m\u001b[0mload_model\u001b[0m\u001b[0;34m,\u001b[0m \u001b[0msave\u001b[0m\u001b[0;34m=\u001b[0m\u001b[0msave_model\u001b[0m\u001b[0;34m,\u001b[0m\u001b[0;34m\u001b[0m\u001b[0;34m\u001b[0m\u001b[0m\n\u001b[1;32m    318\u001b[0m                                   \u001b[0mfunc\u001b[0m\u001b[0;34m=\u001b[0m\u001b[0;34m'_fit_apply'\u001b[0m\u001b[0;34m,\u001b[0m \u001b[0mvalidation_data\u001b[0m\u001b[0;34m=\u001b[0m\u001b[0mvalidation_data\u001b[0m\u001b[0;34m,\u001b[0m\u001b[0;34m\u001b[0m\u001b[0;34m\u001b[0m\u001b[0m\n\u001b[0;32m--> 319\u001b[0;31m                                   test_data=test_data, **kwargs)\n\u001b[0m\u001b[1;32m    320\u001b[0m         \u001b[0;32melse\u001b[0m\u001b[0;34m:\u001b[0m\u001b[0;34m\u001b[0m\u001b[0;34m\u001b[0m\u001b[0m\n\u001b[1;32m    321\u001b[0m             \u001b[0;32mif\u001b[0m \u001b[0;32mnot\u001b[0m \u001b[0mself\u001b[0m\u001b[0;34m.\u001b[0m\u001b[0mdirect_fit\u001b[0m\u001b[0;34m:\u001b[0m\u001b[0;34m\u001b[0m\u001b[0;34m\u001b[0m\u001b[0m\n",
      "\u001b[0;32m~/jaume/workspace/remote/temp/block-types/block_types/core/block_types.py\u001b[0m in \u001b[0;36mfit_like\u001b[0;34m(self, y, load, save, split, func, validation_data, test_data, converter_args, *X, **kwargs)\u001b[0m\n\u001b[1;32m    271\u001b[0m                                                     'its aliases implemented when func=\"_fit_apply\"')\n\u001b[1;32m    272\u001b[0m                 \u001b[0mself\u001b[0m\u001b[0;34m.\u001b[0m\u001b[0mprofiler\u001b[0m\u001b[0;34m.\u001b[0m\u001b[0mstart_no_overhead_timer\u001b[0m \u001b[0;34m(\u001b[0m\u001b[0;34m)\u001b[0m\u001b[0;34m\u001b[0m\u001b[0;34m\u001b[0m\u001b[0m\n\u001b[0;32m--> 273\u001b[0;31m                 \u001b[0mresult\u001b[0m \u001b[0;34m=\u001b[0m \u001b[0mself\u001b[0m\u001b[0;34m.\u001b[0m\u001b[0mfit_apply_func\u001b[0m \u001b[0;34m(\u001b[0m\u001b[0;34m*\u001b[0m\u001b[0mX\u001b[0m\u001b[0;34m,\u001b[0m \u001b[0;34m**\u001b[0m\u001b[0madditional_data\u001b[0m\u001b[0;34m,\u001b[0m \u001b[0;34m**\u001b[0m\u001b[0mkwargs\u001b[0m\u001b[0;34m)\u001b[0m\u001b[0;34m\u001b[0m\u001b[0;34m\u001b[0m\u001b[0m\n\u001b[0m\u001b[1;32m    274\u001b[0m             \u001b[0;32melse\u001b[0m\u001b[0;34m:\u001b[0m\u001b[0;34m\u001b[0m\u001b[0;34m\u001b[0m\u001b[0m\n\u001b[1;32m    275\u001b[0m                 \u001b[0;32mraise\u001b[0m \u001b[0mValueError\u001b[0m \u001b[0;34m(\u001b[0m\u001b[0;34mf'function {func} not valid'\u001b[0m\u001b[0;34m)\u001b[0m\u001b[0;34m\u001b[0m\u001b[0;34m\u001b[0m\u001b[0m\n",
      "\u001b[0;32m~/jaume/workspace/remote/temp/block-types/block_types/core/compose.py\u001b[0m in \u001b[0;36m_fit_apply\u001b[0;34m(self, split, last, *X, **kwargs)\u001b[0m\n\u001b[1;32m    518\u001b[0m             \u001b[0mfirst\u001b[0m \u001b[0;34m+=\u001b[0m \u001b[0;36m1\u001b[0m\u001b[0;34m\u001b[0m\u001b[0;34m\u001b[0m\u001b[0m\n\u001b[1;32m    519\u001b[0m         \u001b[0;32mfor\u001b[0m \u001b[0mcomponent\u001b[0m \u001b[0;32min\u001b[0m \u001b[0mself\u001b[0m\u001b[0;34m.\u001b[0m\u001b[0mcomponents\u001b[0m\u001b[0;34m[\u001b[0m\u001b[0mfirst\u001b[0m\u001b[0;34m:\u001b[0m\u001b[0mlast\u001b[0m\u001b[0;34m]\u001b[0m\u001b[0;34m:\u001b[0m\u001b[0;34m\u001b[0m\u001b[0;34m\u001b[0m\u001b[0m\n\u001b[0;32m--> 520\u001b[0;31m             \u001b[0mX\u001b[0m \u001b[0;34m=\u001b[0m \u001b[0mcomponent\u001b[0m\u001b[0;34m.\u001b[0m\u001b[0mfit_apply\u001b[0m \u001b[0;34m(\u001b[0m\u001b[0mX\u001b[0m\u001b[0;34m,\u001b[0m \u001b[0;34m**\u001b[0m\u001b[0mkwargs\u001b[0m\u001b[0;34m)\u001b[0m\u001b[0;34m\u001b[0m\u001b[0;34m\u001b[0m\u001b[0m\n\u001b[0m\u001b[1;32m    521\u001b[0m         \u001b[0;32mreturn\u001b[0m \u001b[0mX\u001b[0m\u001b[0;34m\u001b[0m\u001b[0;34m\u001b[0m\u001b[0m\n\u001b[1;32m    522\u001b[0m \u001b[0;34m\u001b[0m\u001b[0m\n",
      "\u001b[0;32m~/jaume/workspace/remote/temp/block-types/block_types/core/block_types.py\u001b[0m in \u001b[0;36mfit_apply\u001b[0;34m(self, y, load_model, save_model, load_result, save_result, func, validation_data, test_data, *X, **kwargs)\u001b[0m\n\u001b[1;32m    329\u001b[0m             \u001b[0;32melse\u001b[0m\u001b[0;34m:\u001b[0m\u001b[0;34m\u001b[0m\u001b[0;34m\u001b[0m\u001b[0m\n\u001b[1;32m    330\u001b[0m                 \u001b[0mkwargs_apply\u001b[0m \u001b[0;34m=\u001b[0m \u001b[0mkwargs\u001b[0m\u001b[0;34m\u001b[0m\u001b[0;34m\u001b[0m\u001b[0m\n\u001b[0;32m--> 331\u001b[0;31m             \u001b[0;32mreturn\u001b[0m \u001b[0mself\u001b[0m\u001b[0;34m.\u001b[0m\u001b[0mfit\u001b[0m \u001b[0;34m(\u001b[0m\u001b[0;34m*\u001b[0m\u001b[0mX\u001b[0m\u001b[0;34m,\u001b[0m \u001b[0;34m**\u001b[0m\u001b[0mkwargs_fit\u001b[0m\u001b[0;34m)\u001b[0m\u001b[0;34m.\u001b[0m\u001b[0mapply\u001b[0m \u001b[0;34m(\u001b[0m\u001b[0;34m*\u001b[0m\u001b[0mX\u001b[0m\u001b[0;34m,\u001b[0m \u001b[0;34m**\u001b[0m\u001b[0mkwargs_apply\u001b[0m\u001b[0;34m)\u001b[0m\u001b[0;34m\u001b[0m\u001b[0;34m\u001b[0m\u001b[0m\n\u001b[0m\u001b[1;32m    332\u001b[0m \u001b[0;34m\u001b[0m\u001b[0m\n\u001b[1;32m    333\u001b[0m     \u001b[0;32mdef\u001b[0m \u001b[0m_add_validation_and_test\u001b[0m \u001b[0;34m(\u001b[0m\u001b[0mself\u001b[0m\u001b[0;34m,\u001b[0m \u001b[0mvalidation_data\u001b[0m\u001b[0;34m,\u001b[0m \u001b[0mtest_data\u001b[0m\u001b[0;34m)\u001b[0m\u001b[0;34m:\u001b[0m\u001b[0;34m\u001b[0m\u001b[0;34m\u001b[0m\u001b[0m\n",
      "\u001b[0;32m~/jaume/workspace/remote/temp/block-types/block_types/utils/dummies.py\u001b[0m in \u001b[0;36mapply\u001b[0;34m(self, *X, **kwargs)\u001b[0m\n\u001b[1;32m     42\u001b[0m         \u001b[0mself\u001b[0m\u001b[0;34m.\u001b[0m\u001b[0mapplied\u001b[0m \u001b[0;34m=\u001b[0m \u001b[0;32mTrue\u001b[0m\u001b[0;34m\u001b[0m\u001b[0;34m\u001b[0m\u001b[0m\n\u001b[1;32m     43\u001b[0m         \u001b[0;32mif\u001b[0m \u001b[0mself\u001b[0m\u001b[0;34m.\u001b[0m\u001b[0mraise_error\u001b[0m\u001b[0;34m:\u001b[0m \u001b[0;32mraise\u001b[0m \u001b[0mRuntimeError\u001b[0m \u001b[0;34m(\u001b[0m\u001b[0;34mf'{self.name}: apply should not be called'\u001b[0m\u001b[0;34m)\u001b[0m\u001b[0;34m\u001b[0m\u001b[0;34m\u001b[0m\u001b[0m\n\u001b[0;32m---> 44\u001b[0;31m         \u001b[0;32mreturn\u001b[0m \u001b[0msuper\u001b[0m\u001b[0;34m(\u001b[0m\u001b[0;34m)\u001b[0m\u001b[0;34m.\u001b[0m\u001b[0mapply\u001b[0m \u001b[0;34m(\u001b[0m\u001b[0;34m*\u001b[0m\u001b[0mX\u001b[0m\u001b[0;34m,\u001b[0m \u001b[0;34m**\u001b[0m\u001b[0mkwargs\u001b[0m\u001b[0;34m)\u001b[0m\u001b[0;34m\u001b[0m\u001b[0;34m\u001b[0m\u001b[0m\n\u001b[0m\u001b[1;32m     45\u001b[0m     \u001b[0m__call__\u001b[0m \u001b[0;34m=\u001b[0m \u001b[0mapply\u001b[0m\u001b[0;34m\u001b[0m\u001b[0;34m\u001b[0m\u001b[0m\n\u001b[1;32m     46\u001b[0m     \u001b[0mtransform\u001b[0m \u001b[0;34m=\u001b[0m \u001b[0mapply\u001b[0m\u001b[0;34m\u001b[0m\u001b[0;34m\u001b[0m\u001b[0m\n",
      "\u001b[0;32m~/jaume/workspace/remote/temp/block-types/block_types/core/block_types.py\u001b[0m in \u001b[0;36m__call__\u001b[0;34m(self, load, save, fit_apply, *X, **kwargs)\u001b[0m\n\u001b[1;32m    377\u001b[0m         \u001b[0;32massert\u001b[0m \u001b[0mself\u001b[0m\u001b[0;34m.\u001b[0m\u001b[0mresult_func\u001b[0m \u001b[0;32mis\u001b[0m \u001b[0;32mnot\u001b[0m \u001b[0;32mNone\u001b[0m\u001b[0;34m,\u001b[0m \u001b[0;34m'apply function not implemented'\u001b[0m\u001b[0;34m\u001b[0m\u001b[0;34m\u001b[0m\u001b[0m\n\u001b[1;32m    378\u001b[0m         result = self._compute_result (X, self.result_func, load=load, save=save, fit_apply=fit_apply,\n\u001b[0;32m--> 379\u001b[0;31m                                        **kwargs)\n\u001b[0m\u001b[1;32m    380\u001b[0m         \u001b[0;32mreturn\u001b[0m \u001b[0mresult\u001b[0m\u001b[0;34m\u001b[0m\u001b[0;34m\u001b[0m\u001b[0m\n\u001b[1;32m    381\u001b[0m \u001b[0;34m\u001b[0m\u001b[0m\n",
      "\u001b[0;32m~/jaume/workspace/remote/temp/block-types/block_types/core/block_types.py\u001b[0m in \u001b[0;36m_compute_result\u001b[0;34m(self, X, result_func, load, save, split, converter_args, fit_apply, **kwargs)\u001b[0m\n\u001b[1;32m    487\u001b[0m             \u001b[0mX\u001b[0m \u001b[0;34m=\u001b[0m \u001b[0mself\u001b[0m\u001b[0;34m.\u001b[0m\u001b[0mdata_converter\u001b[0m\u001b[0;34m.\u001b[0m\u001b[0mconvert_no_tuple\u001b[0m \u001b[0;34m(\u001b[0m\u001b[0mX\u001b[0m\u001b[0;34m)\u001b[0m\u001b[0;34m\u001b[0m\u001b[0;34m\u001b[0m\u001b[0m\n\u001b[1;32m    488\u001b[0m             \u001b[0mself\u001b[0m\u001b[0;34m.\u001b[0m\u001b[0mprofiler\u001b[0m\u001b[0;34m.\u001b[0m\u001b[0mstart_no_overhead_timer\u001b[0m \u001b[0;34m(\u001b[0m\u001b[0;34m)\u001b[0m\u001b[0;34m\u001b[0m\u001b[0;34m\u001b[0m\u001b[0m\n\u001b[0;32m--> 489\u001b[0;31m             \u001b[0mresult\u001b[0m \u001b[0;34m=\u001b[0m \u001b[0mresult_func\u001b[0m \u001b[0;34m(\u001b[0m\u001b[0;34m*\u001b[0m\u001b[0mX\u001b[0m\u001b[0;34m,\u001b[0m \u001b[0;34m**\u001b[0m\u001b[0mkwargs\u001b[0m\u001b[0;34m)\u001b[0m\u001b[0;34m\u001b[0m\u001b[0;34m\u001b[0m\u001b[0m\n\u001b[0m\u001b[1;32m    490\u001b[0m             \u001b[0mself\u001b[0m\u001b[0;34m.\u001b[0m\u001b[0mprofiler\u001b[0m\u001b[0;34m.\u001b[0m\u001b[0mfinish_no_overhead_timer\u001b[0m \u001b[0;34m(\u001b[0m\u001b[0;34m'apply'\u001b[0m\u001b[0;34m,\u001b[0m \u001b[0mself\u001b[0m\u001b[0;34m.\u001b[0m\u001b[0mdata_io\u001b[0m\u001b[0;34m.\u001b[0m\u001b[0msplit\u001b[0m\u001b[0;34m)\u001b[0m\u001b[0;34m\u001b[0m\u001b[0;34m\u001b[0m\u001b[0m\n\u001b[1;32m    491\u001b[0m             \u001b[0mresult\u001b[0m \u001b[0;34m=\u001b[0m \u001b[0mself\u001b[0m\u001b[0;34m.\u001b[0m\u001b[0mdata_converter\u001b[0m\u001b[0;34m.\u001b[0m\u001b[0mconvert_after_transforming\u001b[0m \u001b[0;34m(\u001b[0m\u001b[0mresult\u001b[0m\u001b[0;34m,\u001b[0m \u001b[0;34m**\u001b[0m\u001b[0mconverter_args\u001b[0m\u001b[0;34m)\u001b[0m\u001b[0;34m\u001b[0m\u001b[0;34m\u001b[0m\u001b[0m\n",
      "\u001b[0;31mTypeError\u001b[0m: _apply() takes 2 positional arguments but 15 were given"
     ]
    }
   ],
   "source": [
    "tst.run (test_pipeline_find_last_fitted_model_parallel_2, tag='dummy')"
   ]
  },
  {
   "cell_type": "markdown",
   "id": "76f7fb66-2cf8-4ffd-9098-9e20aa1e8dcc",
   "metadata": {},
   "source": [
    "## Data conversion"
   ]
  },
  {
   "cell_type": "code",
   "execution_count": null,
   "id": "41b4836e-87e7-4f66-86a7-007369acc6a3",
   "metadata": {},
   "outputs": [],
   "source": [
    "#export\n",
    "from block_types.utils.dummies import (DataSource, SumXY, MaxOfPositiveWithSeparateLabels, Sum1direct,\n",
    "                                       Multiply10direct, subtract_xy, MinOfPositiveWithoutSeparateLabels)"
   ]
  },
  {
   "cell_type": "code",
   "execution_count": null,
   "id": "91763f33-f635-4b6c-9ce0-44e47b6cc0b6",
   "metadata": {},
   "outputs": [],
   "source": [
    "result = DataSource ().apply()"
   ]
  },
  {
   "cell_type": "code",
   "execution_count": null,
   "id": "b32f0fb4-250f-4af6-b394-36d13d0b8c12",
   "metadata": {},
   "outputs": [],
   "source": [
    "result[0]"
   ]
  },
  {
   "cell_type": "code",
   "execution_count": null,
   "id": "0ec88189-d119-44ad-ad6b-0ec2c7913620",
   "metadata": {
    "tags": []
   },
   "outputs": [],
   "source": [
    "result[1]"
   ]
  },
  {
   "cell_type": "code",
   "execution_count": null,
   "id": "42c2189f-e690-42ef-a6d1-4a57d5adf8b7",
   "metadata": {},
   "outputs": [],
   "source": [
    "result"
   ]
  },
  {
   "cell_type": "code",
   "execution_count": null,
   "id": "7b983076-9676-4f8f-96f8-d1730503cc85",
   "metadata": {},
   "outputs": [],
   "source": [
    "SumXY ().fit_apply (result)"
   ]
  },
  {
   "cell_type": "code",
   "execution_count": null,
   "id": "0e410b9f-2c27-4b56-9d88-7cf1be43b86a",
   "metadata": {},
   "outputs": [],
   "source": [
    "#%debug"
   ]
  },
  {
   "cell_type": "code",
   "execution_count": null,
   "id": "25092506-418a-4f29-8bbe-c242431dc399",
   "metadata": {},
   "outputs": [],
   "source": [
    "class SumXYConverter (DataConverter):\n",
    "    def convert_before_transforming (self, X, **kwargs):\n",
    "        self.label = X[2]\n",
    "        return X[0], X[1]\n",
    "    def convert_after_transforming (self, result, **kwargs):\n",
    "        result['label'] = self.label\n",
    "        return result"
   ]
  },
  {
   "cell_type": "code",
   "execution_count": null,
   "id": "43f52c5d-4047-4ee8-af8c-247e7724af9f",
   "metadata": {},
   "outputs": [],
   "source": [
    "pipe = Sequential (DataSource (),\n",
    "                   SumXY (data_converter=SumXYConverter),\n",
    "                   PandasComponent (apply=lambda X: X*2))\n",
    "result = pipe ()\n",
    "result"
   ]
  },
  {
   "cell_type": "code",
   "execution_count": null,
   "id": "1fd44905-1bfe-41c9-b22d-b43fbca5793e",
   "metadata": {},
   "outputs": [],
   "source": [
    "result2 = pipe.fit_apply (())\n",
    "result2"
   ]
  },
  {
   "cell_type": "code",
   "execution_count": null,
   "id": "03bf08c1-13b7-4425-9ec1-1249af58db30",
   "metadata": {},
   "outputs": [],
   "source": [
    "result3=MaxOfPositiveWithSeparateLabels (data_converter='PandasConverter').fit_apply (result2)\n",
    "result3"
   ]
  },
  {
   "cell_type": "code",
   "execution_count": null,
   "id": "5efb4736-0088-49db-8ff7-ec43da993a80",
   "metadata": {},
   "outputs": [],
   "source": [
    "parallel = Parallel (Sum1direct (data_converter='PandasConverter'), \n",
    "                     Multiply10direct (data_converter='PandasConverter'),\n",
    "                     finalize_result=lambda X: tuple(X)\n",
    "                    )\n",
    "result4=parallel.fit_apply (result3)\n",
    "result4"
   ]
  },
  {
   "cell_type": "code",
   "execution_count": null,
   "id": "fb19c5b7-1d37-445c-87d9-7cbe463f000c",
   "metadata": {},
   "outputs": [],
   "source": [
    "result5=PandasComponent(apply=subtract_xy).fit_apply (result4)\n",
    "result5"
   ]
  },
  {
   "cell_type": "code",
   "execution_count": null,
   "id": "88876986-1949-4f2e-bc3f-3d41c4926935",
   "metadata": {},
   "outputs": [],
   "source": [
    "result6=MinOfPositiveWithoutSeparateLabels (\n",
    "    data_converter=PandasConverter (separate_labels=False)).fit_apply (result5)\n",
    "result6"
   ]
  },
  {
   "cell_type": "code",
   "execution_count": null,
   "id": "bdd3bba5-878b-4565-b7af-7d551691777c",
   "metadata": {},
   "outputs": [],
   "source": [
    "pipe = Sequential (DataSource (),\n",
    "                   SumXY (data_converter=SumXYConverter),\n",
    "                   PandasComponent (apply=lambda X: X*2),\n",
    "                   MaxOfPositiveWithSeparateLabels (data_converter='PandasConverter'),\n",
    "                   Parallel (Sum1direct (data_converter='PandasConverter'), \n",
    "                             Multiply10direct (data_converter='PandasConverter'),\n",
    "                             finalize_result=lambda X: tuple(X)),\n",
    "                   PandasComponent(apply=subtract_xy),\n",
    "                   MinOfPositiveWithoutSeparateLabels (),\n",
    "                   make_column_transformer ((Multiply10direct (), ['a','b']), \n",
    "                                            (Sum1direct (), ['c','d'])),\n",
    "                   Sum1direct ())"
   ]
  }
 ],
 "metadata": {
  "kernelspec": {
   "display_name": "Python (test_block_types)",
   "language": "python",
   "name": "test_block_types"
  },
  "language_info": {
   "codemirror_mode": {
    "name": "ipython",
    "version": 3
   },
   "file_extension": ".py",
   "mimetype": "text/x-python",
   "name": "python",
   "nbconvert_exporter": "python",
   "pygments_lexer": "ipython3",
   "version": "3.7.10"
  }
 },
 "nbformat": 4,
 "nbformat_minor": 5
}
