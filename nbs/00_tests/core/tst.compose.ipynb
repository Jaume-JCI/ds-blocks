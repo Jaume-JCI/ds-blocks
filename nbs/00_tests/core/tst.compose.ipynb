{
 "cells": [
  {
   "cell_type": "code",
   "execution_count": 1,
   "id": "86b3a6da",
   "metadata": {},
   "outputs": [],
   "source": [
    "# hide\n",
    "# default_exp tests.core.test_compose\n",
    "from nbdev.showdoc import *\n",
    "from block_types.utils.nbdev_utils import nbdev_setup, TestRunner\n",
    "\n",
    "nbdev_setup ()\n",
    "tst = TestRunner (targets=['dummy'])"
   ]
  },
  {
   "cell_type": "markdown",
   "id": "4f1a487f",
   "metadata": {},
   "source": [
    "# Test compose"
   ]
  },
  {
   "cell_type": "code",
   "execution_count": 2,
   "id": "00c30900-4c9d-473d-aa61-630512bc57c9",
   "metadata": {},
   "outputs": [],
   "source": [
    "# export\n",
    "import pytest\n",
    "import os\n",
    "import joblib\n",
    "from IPython.display import display\n",
    "import pandas as pd\n",
    "import numpy as np\n",
    "import time\n",
    "from pathlib import Path\n",
    "\n",
    "from sklearn.preprocessing import StandardScaler\n",
    "from sklearn.utils import Bunch\n",
    "from sklearn.preprocessing import FunctionTransformer\n",
    "\n",
    "from block_types.core.compose import *\n",
    "from block_types.core.block_types import (Component, \n",
    "                                          PandasComponent)\n",
    "from block_types.core.utils import PickleIO\n",
    "from block_types.utils.utils import remove_previous_results\n",
    "from block_types.core.block_types import Component, PickleSaverComponent\n",
    "\n",
    "import block_types.config.bt_defaults as dflt\n",
    "from block_types.utils.utils import check_last_part"
   ]
  },
  {
   "cell_type": "code",
   "execution_count": null,
   "id": "900e1c41-7dfa-43c7-8100-af96990f3ad3",
   "metadata": {},
   "outputs": [],
   "source": [
    "#export\n",
    "@pytest.fixture (name='column_transformer_data')\n",
    "def column_transformer_data_fixture():\n",
    "    return column_transformer_data()\n",
    "\n",
    "@pytest.fixture (name='multi_split_data')\n",
    "def multi_split_data_fixture():\n",
    "    return multi_split_data()"
   ]
  }
 ],
 "metadata": {
  "kernelspec": {
   "display_name": "Python (block_types)",
   "language": "python",
   "name": "block_types"
  },
  "language_info": {
   "codemirror_mode": {
    "name": "ipython",
    "version": 3
   },
   "file_extension": ".py",
   "mimetype": "text/x-python",
   "name": "python",
   "nbconvert_exporter": "python",
   "pygments_lexer": "ipython3",
   "version": "3.7.10"
  }
 },
 "nbformat": 4,
 "nbformat_minor": 5
}
