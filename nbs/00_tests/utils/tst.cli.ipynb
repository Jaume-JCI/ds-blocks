{
 "cells": [
  {
   "cell_type": "code",
   "execution_count": 1,
   "id": "86b3a6da",
   "metadata": {},
   "outputs": [],
   "source": [
    "# hide\n",
    "# default_exp tests.utils.test_cli\n",
    "import os\n",
    "from nbdev.showdoc import *\n",
    "from warnings import filterwarnings\n",
    "filterwarnings(\"ignore\")\n",
    "\n",
    "from dsblocks.utils.nbdev_utils import cd_root\n",
    "cd_root ()"
   ]
  },
  {
   "cell_type": "markdown",
   "id": "4f1a487f",
   "metadata": {},
   "source": [
    "# Test cli tools"
   ]
  },
  {
   "cell_type": "code",
   "execution_count": 2,
   "id": "00c30900-4c9d-473d-aa61-630512bc57c9",
   "metadata": {},
   "outputs": [],
   "source": [
    "# export\n",
    "import pytest\n",
    "import os\n",
    "import joblib\n",
    "from IPython.display import display\n",
    "\n",
    "from dsblocks.utils.cli import *\n",
    "from dsblocks.utils.utils import remove_previous_results"
   ]
  }
 ],
 "metadata": {
  "kernelspec": {
   "display_name": "Python (dsblocks)",
   "language": "python",
   "name": "dsblocks"
  },
  "language_info": {
   "codemirror_mode": {
    "name": "ipython",
    "version": 3
   },
   "file_extension": ".py",
   "mimetype": "text/x-python",
   "name": "python",
   "nbconvert_exporter": "python",
   "pygments_lexer": "ipython3",
   "version": "3.9.12"
  }
 },
 "nbformat": 4,
 "nbformat_minor": 5
}
