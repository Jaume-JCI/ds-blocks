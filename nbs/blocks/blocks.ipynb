{
 "cells": [
  {
   "cell_type": "code",
   "execution_count": null,
   "id": "fc3d19fe",
   "metadata": {},
   "outputs": [],
   "source": [
    "# hide\n",
    "# default_exp blocks.blocks\n",
    "from nbdev.showdoc import *\n",
    "from dsblocks.utils.nbdev_utils import nbdev_setup, TestRunner\n",
    "\n",
    "nbdev_setup ()\n",
    "tst = TestRunner (targets=[])"
   ]
  },
  {
   "cell_type": "markdown",
   "id": "8e7658d5",
   "metadata": {},
   "source": [
    "# Custom components\n",
    "\n",
    "> Custom components like split generator"
   ]
  },
  {
   "cell_type": "code",
   "execution_count": null,
   "id": "ae9bfa50",
   "metadata": {},
   "outputs": [],
   "source": [
    "#export\n",
    "import abc\n",
    "import sklearn\n",
    "import numpy as np\n",
    "\n",
    "from dsblocks.core.components import Component\n",
    "from dsblocks.config import bt_defaults as dflt"
   ]
  },
  {
   "cell_type": "code",
   "execution_count": null,
   "id": "5504f290-1f99-4b87-ad34-1cd7b54abe16",
   "metadata": {},
   "outputs": [],
   "source": [
    "#for tests\n",
    "import numpy as np\n",
    "import pandas as pd\n",
    "\n",
    "import pytest \n",
    "from sklearn.model_selection import KFold"
   ]
  },
  {
   "cell_type": "markdown",
   "id": "0a074278-c0d3-49e8-a611-b2fce5d31d79",
   "metadata": {},
   "source": [
    "## Splitter"
   ]
  },
  {
   "cell_type": "code",
   "execution_count": null,
   "id": "201ca903-61da-49cc-bc7e-22595f537b62",
   "metadata": {},
   "outputs": [],
   "source": [
    "#export\n",
    "class Splitter (Component):\n",
    "    def __init__ (self, training='train', validation='validation', test='test', \n",
    "                  split_col='split', **kwargs):\n",
    "        super().__init__ (**kwargs)\n",
    "    \n",
    "    def _apply (self, df):\n",
    "        result = dict(training=df[df[self.split_col]==self.training], \n",
    "                        validation=df[df[self.split_col]==self.validation], \n",
    "                        test=df[df[self.split_col]==self.test])\n",
    "        return {k:result[k] for k in result if not result[k].empty}"
   ]
  },
  {
   "cell_type": "markdown",
   "id": "bded6367-8d70-41f8-9d88-58f10adfc571",
   "metadata": {},
   "source": [
    "### Example"
   ]
  },
  {
   "cell_type": "code",
   "execution_count": null,
   "id": "06a50b7a-b706-46df-8686-07d92f506b6f",
   "metadata": {},
   "outputs": [],
   "source": [
    "# exports tests.blocks.test_blocks\n",
    "def test_splitter ():\n",
    "    df = pd.DataFrame ({'a': list(range(10)),\n",
    "                        'b': list (range(10)),\n",
    "                        'split': (['test','training','test','validation','test','training','validation']+\n",
    "                                  ['test']*3)\n",
    "                        })\n",
    "    dict_results = Splitter (training='training')(df)\n",
    "\n",
    "    reference = dict(training=[1,5], \n",
    "                     validation=[3,6], \n",
    "                     test=[0,2,4,7,8,9])\n",
    "    for k in ['training', 'validation', 'test']:\n",
    "        df = dict_results[k]\n",
    "        assert (df.columns == ['a','b','split']).all()\n",
    "        assert (df['split']==k).all()\n",
    "        assert (df.a == reference[k]).all()\n",
    "        assert (df.b == reference[k]).all()"
   ]
  },
  {
   "cell_type": "code",
   "execution_count": null,
   "id": "36a86a66-3d58-4f3e-8aef-5ec21e6663ed",
   "metadata": {},
   "outputs": [],
   "source": [
    "tst.run (test_splitter, tag='dummy')"
   ]
  },
  {
   "cell_type": "markdown",
   "id": "8c70ee55-b1dd-472e-8924-5bd949750a9c",
   "metadata": {},
   "source": [
    "## DoubleKFold"
   ]
  },
  {
   "cell_type": "markdown",
   "id": "4ac19fa2-6f4d-4f3c-885b-a6457a9dbaf7",
   "metadata": {},
   "source": [
    "### DoubleKFoldBase"
   ]
  },
  {
   "cell_type": "code",
   "execution_count": null,
   "id": "6595a108-c07b-4a99-a441-942038d0ad85",
   "metadata": {},
   "outputs": [],
   "source": [
    "#export\n",
    "class DoubleKFoldBase (metaclass=abc.ABCMeta):\n",
    "    def __init__ (self, cv, split_col='split', label_col='label', group_col=None, **kwargs):\n",
    "        self.cv = cv\n",
    "        self.n_splits = self.cv.get_n_splits ()\n",
    "        self.split_col = split_col\n",
    "        self.label_col = label_col\n",
    "        self.group_col = group_col\n",
    "    \n",
    "    def get_n_splits (self):\n",
    "        return self.n_splits\n",
    "    \n",
    "    @abc.abstractmethod\n",
    "    def split (self, df, y=None, groups=None):\n",
    "        pass"
   ]
  },
  {
   "cell_type": "markdown",
   "id": "5a1b2306-78f2-4ee5-a8e9-d5c14200ffa2",
   "metadata": {},
   "source": [
    "### SingleKFold"
   ]
  },
  {
   "cell_type": "code",
   "execution_count": null,
   "id": "25464b0d-a356-450a-9f7e-8ce0683867b7",
   "metadata": {},
   "outputs": [],
   "source": [
    "#export\n",
    "class SingleKFold (DoubleKFoldBase):\n",
    "    def __init__ (self, cv, **kwargs):\n",
    "        super().__init__ (cv, **kwargs)\n",
    "    def split (self, df, y=None, groups=None):\n",
    "        groups = (groups if groups is not None \n",
    "                  else df[self.group_col] if self.group_col is not None \n",
    "                  else None)\n",
    "        y = y if y is not None else df[self.label_col]\n",
    "        self.generator = self.cv.split (df, y, groups=groups)\n",
    "        empty_array = np.array([])\n",
    "        for i in range(self.n_splits):\n",
    "            training, validation = next (self.generator)\n",
    "            yield training, validation, empty_array"
   ]
  },
  {
   "cell_type": "markdown",
   "id": "7f0a8880-8c6b-4daa-af57-8ac26a219632",
   "metadata": {},
   "source": [
    "#### Example / test"
   ]
  },
  {
   "cell_type": "code",
   "execution_count": null,
   "id": "225833c7-22a4-4ae5-9eb0-76d3a29eaa89",
   "metadata": {},
   "outputs": [],
   "source": [
    "# exports tests.blocks.test_blocks\n",
    "def test_single_kfold ():\n",
    "    df = pd.DataFrame ({'a': list(range(10)),\n",
    "                        'b': list (range(10)),\n",
    "                        'label': [0]*5+[1]*5})\n",
    "\n",
    "    cv2 = SingleKFold (KFold (5))\n",
    "    generator = cv2.split (df)\n",
    "\n",
    "    expected = (\n",
    "        dict(training=[2, 3, 4, 5, 6, 7, 8, 9], validation=[0, 1]),\n",
    "        dict(training=[0, 1, 4, 5, 6, 7, 8, 9], validation=[2, 3]),\n",
    "        dict(training=[0, 1, 2, 3, 6, 7, 8, 9], validation=[4, 5]),\n",
    "        dict(training=[0, 1, 2, 3, 4, 5, 8, 9], validation=[6, 7]),\n",
    "        dict(training=[0, 1, 2, 3, 4, 5, 6, 7], validation=[8, 9])\n",
    "    )\n",
    "\n",
    "    for i in range (5):\n",
    "        training, validation, test = next (generator)\n",
    "        assert all(training==expected[i]['training'])\n",
    "        assert all(validation==expected[i]['validation'])\n",
    "        assert all(test == np.array([]))"
   ]
  },
  {
   "cell_type": "code",
   "execution_count": null,
   "id": "6f4baeea-012d-4ff3-943a-3060dc4f9876",
   "metadata": {},
   "outputs": [],
   "source": [
    "tst.run (test_single_kfold, tag='dummy')"
   ]
  },
  {
   "cell_type": "markdown",
   "id": "a2c3fb3b-aa2d-4172-99a3-74a03ce2b1ba",
   "metadata": {},
   "source": [
    "### FixedDoubleKFold"
   ]
  },
  {
   "cell_type": "code",
   "execution_count": null,
   "id": "6c1f8f39-0a05-4d61-bcaf-4ce7537d013e",
   "metadata": {},
   "outputs": [],
   "source": [
    "#export\n",
    "class FixedDoubleKFold (DoubleKFoldBase):\n",
    "    def __init__ (self, cv, input_test_label='test', **kwargs):\n",
    "        super().__init__ (cv, **kwargs)\n",
    "        self.input_test_label = input_test_label\n",
    "        \n",
    "    def split (self, df, y=None, groups=None):\n",
    "        test = np.where(df[self.split_col]==self.input_test_label)[0]\n",
    "        training_cond = df[self.split_col] != self.input_test_label\n",
    "        training = np.where (training_cond)[0]\n",
    "        \n",
    "        groups = (groups[training] if groups is not None \n",
    "                  else df.loc[training_cond, self.group_col] if self.group_col is not None \n",
    "                  else None)\n",
    "        y = (y[training] if y is not None else df.loc[training_cond, self.label_col])\n",
    "        \n",
    "        self.generator = self.cv.split (df[training_cond], y, groups=groups)\n",
    "        \n",
    "        for i in range(self.n_splits):\n",
    "            training_training, training_validation = next (self.generator)\n",
    "            validation_final, training_final = training[training_validation], training[training_training]\n",
    "            yield training_final, validation_final, test"
   ]
  },
  {
   "cell_type": "markdown",
   "id": "440f1f8e-279c-415b-ae2e-15aef12bd748",
   "metadata": {},
   "source": [
    "#### Example / test"
   ]
  },
  {
   "cell_type": "code",
   "execution_count": null,
   "id": "85f8d1ec-4688-477b-8146-4d52b2a3c3ad",
   "metadata": {},
   "outputs": [],
   "source": [
    "# exports tests.blocks.test_blocks\n",
    "def test_fixed_double_kfold ():\n",
    "    df = pd.DataFrame ({'a': list(range(20)),\n",
    "                        'b': list (range(20)),\n",
    "                        'split': ['training','test']*10,\n",
    "                        'label': ([0]*5+[1]*5)*2})\n",
    "\n",
    "    cv2 = FixedDoubleKFold (KFold (5))\n",
    "    generator = cv2.split (df)\n",
    "\n",
    "    expected = (\n",
    "        dict(training=[4, 6, 8, 10, 12, 14, 16, 18], validation=[0, 2], test=[1, 3, 5, 7, 9, 11, 13, 15, 17, 19]),\n",
    "        dict(training=[0, 2, 8, 10, 12, 14, 16, 18], validation=[4, 6], test=[1, 3, 5, 7, 9, 11, 13, 15, 17, 19]),\n",
    "        dict(training=[0, 2, 4, 6, 12, 14, 16, 18], validation=[8, 10], test=[1, 3, 5, 7, 9, 11, 13, 15, 17, 19]),\n",
    "        dict(training=[0, 2, 4, 6, 8, 10, 16, 18], validation=[12, 14], test=[1, 3, 5, 7, 9, 11, 13, 15, 17, 19]),\n",
    "        dict(training=[0, 2, 4, 6, 8, 10, 12, 14], validation=[16, 18], test=[1, 3, 5, 7, 9, 11, 13, 15, 17, 19]),\n",
    "    )\n",
    "\n",
    "    for i in range (5):\n",
    "        training, validation, test = next (generator)\n",
    "        assert all(training==expected[i]['training'])\n",
    "        assert all(validation==expected[i]['validation'])\n",
    "        assert all(test==expected[i]['test'])"
   ]
  },
  {
   "cell_type": "code",
   "execution_count": null,
   "id": "51a5bdbf-92c8-4a92-88eb-d151f0d838af",
   "metadata": {},
   "outputs": [],
   "source": [
    "tst.run (test_fixed_double_kfold, tag='dummy')"
   ]
  },
  {
   "cell_type": "markdown",
   "id": "75d1348e-05a4-4a0c-93e4-c4617d9c4bd4",
   "metadata": {},
   "source": [
    "## SkSplitGenerator"
   ]
  },
  {
   "cell_type": "code",
   "execution_count": null,
   "id": "f3bc6e63-3c4d-4442-a0ba-f423d700dd60",
   "metadata": {},
   "outputs": [],
   "source": [
    "#export\n",
    "class SkSplitGenerator (Component):\n",
    "    def __init__ (self, split_generator, group_col=None, label_col=None, split_col=None, \n",
    "                  use_splitter=False, training_label='training', validation_label='validation', \n",
    "                  test_label='test', type_split='single', input_test_label='test', **kwargs):\n",
    "        super ().__init__ (**kwargs)\n",
    "        self.splitter = Splitter () if use_splitter else None\n",
    "        self.generator = None\n",
    "        if type_split == 'single':\n",
    "            self.split_generator = SingleKFold (split_generator, split_col=split_col, label_col=label_col, \n",
    "                                                group_col=group_col)\n",
    "            self.validation_label = self.test_label\n",
    "        elif type_split == 'fixed':\n",
    "            self.split_generator = FixedDoubleKFold (split_generator, input_test_label=input_test_label, \n",
    "                                                     split_col=split_col, label_col=label_col, \n",
    "                                                     group_col=group_col)\n",
    "        else:\n",
    "            raise NotImplementedError (f'type_split {type_split} not recognized')\n",
    "            \n",
    "    def _fit_apply (self, X, y=None, **kwargs):       \n",
    "        if self.generator is None: self.generator = self.split_generator.split (X, y=y, **kwargs)\n",
    "        training, validation, test = next (self.generator)\n",
    "        X = self._create_split (X, training, validation, test)\n",
    "        return X\n",
    "    \n",
    "    def _apply (self, X, **kwargs):\n",
    "        training, validation, test = np.array([]), np.array([]), np.arange (X.shape[0])\n",
    "        X = self._create_split (X, training, validation, test)\n",
    "        return X\n",
    "    \n",
    "    def _create_split (self, X, training, validation, test):\n",
    "        if self.split_col is not None:\n",
    "            X[self.split_col] = None\n",
    "            X[self.split_col].iloc[training] = self.training_label\n",
    "            X[self.split_col].iloc[validation] = self.validation_label\n",
    "            X[self.split_col].iloc[test] = self.test_label\n",
    "        else:\n",
    "            X = (X, (training, validation, test))\n",
    "            \n",
    "        if self.use_splitter:\n",
    "            X = self.splitter (X)\n",
    "        return X\n",
    "    \n",
    "    def reset (self):\n",
    "        self.generator = None"
   ]
  },
  {
   "cell_type": "markdown",
   "id": "3272692e-d7cd-4420-9273-80723cacc5a5",
   "metadata": {},
   "source": [
    "### Example"
   ]
  },
  {
   "cell_type": "code",
   "execution_count": null,
   "id": "9ddc16be-cd43-45f8-9954-8b4caa5d8a78",
   "metadata": {},
   "outputs": [],
   "source": [
    "# exports tests.blocks.test_blocks\n",
    "def test_sksplit_generator ():\n",
    "    df = pd.DataFrame ({'a': list(range(10)),\n",
    "                       'b': list (range(10)),\n",
    "                       'label': [0]*5+[1]*5})\n",
    "    df_original = df.copy()\n",
    "    generator = SkSplitGenerator (KFold (n_splits=5), \n",
    "                                  label_col='label', \n",
    "                                  split_col='split')\n",
    "\n",
    "    reference = pd.concat ([df_original, pd.DataFrame({'split': ['test']*2 + ['training']*8})], axis=1)\n",
    "    dfr=generator.fit_apply (df)\n",
    "    assert (reference==dfr).all().all()\n",
    "    \n",
    "    dfr=generator.fit_apply (df)\n",
    "    reference = pd.concat ([df_original, pd.DataFrame({'split': ['training']*2 + ['test']*2 + ['training']*6})], \n",
    "                           axis=1)\n",
    "    assert (reference==dfr).all().all()\n",
    "\n",
    "    dfr=generator.apply (df)\n",
    "    reference = pd.concat ([df_original, pd.DataFrame({'split': ['test']*10})], axis=1)\n",
    "    assert (reference==dfr).all().all()"
   ]
  },
  {
   "cell_type": "code",
   "execution_count": null,
   "id": "84f5c501-b176-4bd0-bac5-46a7376579b8",
   "metadata": {},
   "outputs": [],
   "source": [
    "tst.run (test_sksplit_generator, tag='dummy')"
   ]
  },
  {
   "cell_type": "markdown",
   "id": "ec110d61-be8e-40e3-9fdd-75dfad005399",
   "metadata": {},
   "source": [
    "### Resetting generator"
   ]
  },
  {
   "cell_type": "code",
   "execution_count": null,
   "id": "8f73a44b-378f-4f43-ab38-3dfe7e67bab4",
   "metadata": {},
   "outputs": [],
   "source": [
    "# exports tests.blocks.test_blocks\n",
    "def test_sksplit_generator_reset ():\n",
    "    df = pd.DataFrame ({'a': list(range(9)),\n",
    "                       'b': list (range(9)),\n",
    "                       'label': [0]*5+[1]*4})\n",
    "    df_original = df.copy()\n",
    "    generator = SkSplitGenerator (KFold (n_splits=5), \n",
    "                                  label_col='label', \n",
    "                                  split_col='split')\n",
    "    for i in range(5):\n",
    "        dfr=generator.fit_apply (df)\n",
    "    with pytest.raises (StopIteration):\n",
    "        dfr=generator.fit_apply (df)\n",
    "    \n",
    "    generator.reset()\n",
    "    for i in range(5):\n",
    "        dfr=generator.fit_apply (df)\n",
    "    with pytest.raises (StopIteration):\n",
    "        dfr=generator.fit_apply (df)"
   ]
  },
  {
   "cell_type": "code",
   "execution_count": null,
   "id": "f3f07c1c-299b-490c-a57a-062d92fcf9ce",
   "metadata": {},
   "outputs": [
    {
     "name": "stdout",
     "output_type": "stream",
     "text": [
      "running test_sksplit_generator_reset\n"
     ]
    }
   ],
   "source": [
    "tst.run (test_sksplit_generator_reset, tag='dummy')"
   ]
  },
  {
   "cell_type": "markdown",
   "id": "b860aa39-5e2c-434c-9914-27d6178feeb4",
   "metadata": {},
   "source": [
    "## Evaluator"
   ]
  },
  {
   "cell_type": "markdown",
   "id": "8162ac10-6b43-47f8-a076-2230cd792036",
   "metadata": {},
   "source": [
    "### Evaluator"
   ]
  },
  {
   "cell_type": "code",
   "execution_count": null,
   "id": "3db9a4c5-095c-4d41-a5d9-c7d21d5e1e10",
   "metadata": {},
   "outputs": [],
   "source": [
    "#export\n",
    "class Evaluator (Component, metaclass=abc.ABCMeta):\n",
    "    def __init__ (self, classification_metrics='accuracy_score', regression_metrics=[], custom_metrics=[], \n",
    "                  **kwargs):\n",
    "        classification_metrics = self._get_metrics (classification_metrics)\n",
    "        regression_metrics = self._get_metrics (regression_metrics)\n",
    "        super().__init__ (**kwargs)\n",
    "        self.apply_to_separate_splits = True\n",
    "    \n",
    "    def _get_metrics (self, metrics):\n",
    "        metrics = [metrics] if isinstance (metrics, str) else metrics\n",
    "        for i, metric in enumerate(metrics):\n",
    "            metrics[i] = getattr(sklearn.metrics, metrics[i]) if isinstance(metrics[i], str) else metrics[i]\n",
    "        return metrics\n",
    "    \n",
    "    @abc.abstractmethod\n",
    "    def _apply (self, df, **kwargs):\n",
    "        pass"
   ]
  },
  {
   "cell_type": "markdown",
   "id": "dcff2e20-4874-48c4-9919-4b0e0af82ac7",
   "metadata": {},
   "source": [
    "### PandasEvaluator"
   ]
  },
  {
   "cell_type": "code",
   "execution_count": null,
   "id": "10a24220-c038-4812-a3ac-d9acfc16b640",
   "metadata": {},
   "outputs": [],
   "source": [
    "#export\n",
    "class PandasEvaluator (Evaluator):\n",
    "    def __init__ (self, groundtruth_col='label', prediction_col='pred', classification_col='classification', \n",
    "                  **kwargs):\n",
    "        super().__init__ (**kwargs)\n",
    "\n",
    "    def _apply (self, df, **kwargs):\n",
    "        dict_results = {metric.__name__: metric (df[self.groundtruth_col], df[self.classification_col]) \n",
    "                        for metric in self.classification_metrics}\n",
    "        dict_results.update( {metric.__name__: metric (df[self.groundtruth_col], df[self.prediction_col]) \n",
    "                                for metric in self.regression_metrics})\n",
    "        for metric in self.custom_metrics:\n",
    "            dict_results.update (metric (df, label_col=self.groundtruth_col, prediction_col=self.prediction_col, \n",
    "                                         classification_col=self.classification_col))\n",
    "        return dict_results"
   ]
  },
  {
   "cell_type": "markdown",
   "id": "27a772d5-f9ab-4702-80da-67d945a003b3",
   "metadata": {},
   "source": [
    "### Example"
   ]
  },
  {
   "cell_type": "code",
   "execution_count": null,
   "id": "552bd199-d9c0-476d-acdb-d4f5119a46b2",
   "metadata": {},
   "outputs": [],
   "source": [
    "# exports tests.blocks.test_blocks\n",
    "def test_pandas_evaluator ():\n",
    "    df = pd.DataFrame ({'a': list(range(10)),\n",
    "                       'b': list (range(10)),\n",
    "                       'label': [0]*5+[1]*5,\n",
    "                       'classification': [0]*4+[1]*6})\n",
    "    assert PandasEvaluator ()(df) == {'accuracy_score': 0.9}\n",
    "\n",
    "    evaluator = PandasEvaluator (classification_metrics=['accuracy_score', 'auc'], \n",
    "                                 regression_metrics=['mean_squared_error', 'max_error'],\n",
    "                                 prediction_col='classification')\n",
    "    assert evaluator (df)=={'accuracy_score': 0.9, 'auc': 1.0, 'mean_squared_error': 0.1, 'max_error': 1}"
   ]
  },
  {
   "cell_type": "code",
   "execution_count": null,
   "id": "52fb1f75-f1a7-4ada-b2bd-6385b945ced3",
   "metadata": {},
   "outputs": [],
   "source": [
    "tst.run (test_pandas_evaluator, tag='dummy')"
   ]
  }
 ],
 "metadata": {
  "kernelspec": {
   "display_name": "Python (dsblocks)",
   "language": "python",
   "name": "dsblocks"
  }
 },
 "nbformat": 4,
 "nbformat_minor": 5
}
