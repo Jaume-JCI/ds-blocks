{
 "cells": [
  {
   "cell_type": "code",
   "execution_count": 2,
   "id": "fc3d19fe",
   "metadata": {},
   "outputs": [],
   "source": [
    "# hide\n",
    "# default_exp blocks.blocks\n",
    "from nbdev.showdoc import *\n",
    "from block_types.utils.nbdev_utils import nbdev_setup, TestRunner\n",
    "\n",
    "nbdev_setup ()\n",
    "tst = TestRunner (targets=['dummy'])"
   ]
  },
  {
   "cell_type": "markdown",
   "id": "8e7658d5",
   "metadata": {
    "tags": []
   },
   "source": [
    "# Custom components\n",
    "\n",
    "> Custom components like split generator"
   ]
  },
  {
   "cell_type": "code",
   "execution_count": 15,
   "id": "ae9bfa50",
   "metadata": {},
   "outputs": [],
   "source": [
    "#export\n",
    "import sklearn\n",
    "import numpy as np\n",
    "\n",
    "from block_types.core.block_types import Component\n",
    "from block_types.config import bt_defaults as dflt"
   ]
  },
  {
   "cell_type": "code",
   "execution_count": 4,
   "id": "5504f290-1f99-4b87-ad34-1cd7b54abe16",
   "metadata": {},
   "outputs": [],
   "source": [
    "#for tests\n",
    "import numpy as np\n",
    "import pandas as pd\n",
    "\n",
    "import pytest \n",
    "from sklearn.model_selection import KFold"
   ]
  },
  {
   "cell_type": "markdown",
   "id": "75d1348e-05a4-4a0c-93e4-c4617d9c4bd4",
   "metadata": {},
   "source": [
    "## SkSplitGenerator"
   ]
  },
  {
   "cell_type": "code",
   "execution_count": 5,
   "id": "f3bc6e63-3c4d-4442-a0ba-f423d700dd60",
   "metadata": {},
   "outputs": [],
   "source": [
    "#export\n",
    "class SkSplitGenerator (Component):\n",
    "    def __init__ (self, split_generator, group_column=None, label_column=None, split_column=None, \n",
    "                  use_splitter=False, **kwargs):\n",
    "        super ().__init__ (**kwargs)\n",
    "        self.splitter = Splitter () if use_splitter else None\n",
    "        self.generator = None\n",
    "            \n",
    "    def _fit_apply (self, X, y=None, **kwargs):\n",
    "        if y is None: \n",
    "            if self.label_column is not None: \n",
    "                y = X[self.label_column] \n",
    "            else:\n",
    "                raise ValueError ('either label_column must be set or y is passed')\n",
    "        groups = X[self.group_column] if self.group_column is not None else None\n",
    "        if self.generator is None: self.generator = self.split_generator.split (X, y, groups, **kwargs)\n",
    "        train, test = next (self.generator)\n",
    "        X = self._create_split (X, train, test)\n",
    "        return X\n",
    "    def _apply (self, X, **kwargs):\n",
    "        train, test = np.array([]), np.arange (X.shape[0])\n",
    "        X = self._create_split (X, train, test)\n",
    "        return X\n",
    "    \n",
    "    def _create_split (self, X, train, test):\n",
    "        if self.split_column is not None:\n",
    "            X[self.split_column] = None\n",
    "            X[self.split_column].iloc[train] = 'training'\n",
    "            X[self.split_column].iloc[test] = 'test'\n",
    "        else:\n",
    "            X = (X, (train, test))\n",
    "        if self.use_splitter:\n",
    "            X = self.splitter (X)\n",
    "        return X"
   ]
  },
  {
   "cell_type": "markdown",
   "id": "3272692e-d7cd-4420-9273-80723cacc5a5",
   "metadata": {
    "tags": [],
    "toc-hr-collapsed": true
   },
   "source": [
    "### Example"
   ]
  },
  {
   "cell_type": "code",
   "execution_count": 6,
   "id": "9ddc16be-cd43-45f8-9954-8b4caa5d8a78",
   "metadata": {},
   "outputs": [],
   "source": [
    "# exports tests.blocks.test_blocks\n",
    "def test_sksplit_generator ():\n",
    "    df = pd.DataFrame ({'a': list(range(10)),\n",
    "                       'b': list (range(10)),\n",
    "                       'label': [0]*5+[1]*5})\n",
    "    df_original = df.copy()\n",
    "    generator = SkSplitGenerator (KFold (n_splits=5), \n",
    "                                  label_column='label', \n",
    "                                  split_column='split')\n",
    "\n",
    "    reference = pd.concat ([df_original, pd.DataFrame({'split': ['test']*2 + ['training']*8})], axis=1)\n",
    "    dfr=generator.fit_apply (df)\n",
    "    assert (reference==dfr).all().all()\n",
    "    dfr=generator.fit_apply (df)\n",
    "\n",
    "    reference = pd.concat ([df_original, pd.DataFrame({'split': ['training']*2 + ['test']*2 + ['training']*6})], axis=1)\n",
    "    assert (reference==dfr).all().all()\n",
    "\n",
    "    dfr=generator.apply (df)\n",
    "    reference = pd.concat ([df_original, pd.DataFrame({'split': ['test']*10})], axis=1)\n",
    "    assert (reference==dfr).all().all()"
   ]
  },
  {
   "cell_type": "code",
   "execution_count": 7,
   "id": "84f5c501-b176-4bd0-bac5-46a7376579b8",
   "metadata": {
    "tags": []
   },
   "outputs": [
    {
     "name": "stdout",
     "output_type": "stream",
     "text": [
      "running test_sksplit_generator\n"
     ]
    }
   ],
   "source": [
    "tst.run (test_sksplit_generator, tag='dummy')"
   ]
  },
  {
   "cell_type": "markdown",
   "id": "b860aa39-5e2c-434c-9914-27d6178feeb4",
   "metadata": {},
   "source": [
    "## Evaluator"
   ]
  },
  {
   "cell_type": "code",
   "execution_count": 21,
   "id": "10a24220-c038-4812-a3ac-d9acfc16b640",
   "metadata": {
    "tags": []
   },
   "outputs": [],
   "source": [
    "#export\n",
    "class PandasEvaluator (Component):\n",
    "    def __init__ (self, classification_metrics='accuracy_score', regression_metrics=[], custom_metrics=[], \n",
    "                  groundtruth_col='label', prediction_col='pred', classification_col='classification', **kwargs):\n",
    "        classification_metrics = self._get_metrics (classification_metrics)\n",
    "        regression_metrics = self._get_metrics (regression_metrics)\n",
    "        super().__init__ (**kwargs)\n",
    "        \n",
    "    def _get_metrics (self, metrics):\n",
    "        metrics = [metrics] if isinstance (metrics, str) else metrics\n",
    "        for i, metric in enumerate(metrics):\n",
    "            metrics[i] = getattr(sklearn.metrics, metrics[i]) if isinstance(metrics[i], str) else metrics[i]\n",
    "        return metrics\n",
    "    def _apply (self, df, **kwargs):\n",
    "        dict_results = {metric.__name__: metric (df[self.groundtruth_col], df[self.classification_col]) \n",
    "                        for metric in self.classification_metrics}\n",
    "        dict_results.update( {metric.__name__: metric (df[self.groundtruth_col], df[self.prediction_col]) \n",
    "                                for metric in self.regression_metrics})\n",
    "        for metric in self.custom_metrics:\n",
    "            dict_results.update (metric (df, label_col=self.groundtruth_col, prediction_col=self.prediction_col, \n",
    "                                         classification_col=self.classification_col))\n",
    "        return dict_results"
   ]
  },
  {
   "cell_type": "markdown",
   "id": "27a772d5-f9ab-4702-80da-67d945a003b3",
   "metadata": {
    "tags": [],
    "toc-hr-collapsed": true
   },
   "source": [
    "### Example"
   ]
  },
  {
   "cell_type": "code",
   "execution_count": 23,
   "id": "552bd199-d9c0-476d-acdb-d4f5119a46b2",
   "metadata": {
    "tags": []
   },
   "outputs": [],
   "source": [
    "# exports tests.blocks.test_blocks\n",
    "def test_pandas_evaluator ():\n",
    "    df = pd.DataFrame ({'a': list(range(10)),\n",
    "                       'b': list (range(10)),\n",
    "                       'label': [0]*5+[1]*5,\n",
    "                       'classification': [0]*4+[1]*6})\n",
    "    assert PandasEvaluator ()(df) == {'accuracy_score': 0.9}\n",
    "\n",
    "    evaluator = PandasEvaluator (classification_metrics=['accuracy_score', 'auc'], \n",
    "                                 regression_metrics=['mean_squared_error', 'max_error'],\n",
    "                                 prediction_col='classification')\n",
    "    assert evaluator (df)=={'accuracy_score': 0.9, 'auc': 1.0, 'mean_squared_error': 0.1, 'max_error': 1}"
   ]
  },
  {
   "cell_type": "code",
   "execution_count": 24,
   "id": "52fb1f75-f1a7-4ada-b2bd-6385b945ced3",
   "metadata": {
    "tags": []
   },
   "outputs": [
    {
     "name": "stdout",
     "output_type": "stream",
     "text": [
      "running test_pandas_evaluator\n"
     ]
    }
   ],
   "source": [
    "tst.run (test_pandas_evaluator, tag='dummy')"
   ]
  }
 ],
 "metadata": {
  "kernelspec": {
   "display_name": "Python (block_types)",
   "language": "python",
   "name": "block_types"
  },
  "language_info": {
   "codemirror_mode": {
    "name": "ipython",
    "version": 3
   },
   "file_extension": ".py",
   "mimetype": "text/x-python",
   "name": "python",
   "nbconvert_exporter": "python",
   "pygments_lexer": "ipython3",
   "version": "3.7.10"
  }
 },
 "nbformat": 4,
 "nbformat_minor": 5
}
