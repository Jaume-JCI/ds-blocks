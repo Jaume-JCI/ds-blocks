{
 "cells": [
  {
   "cell_type": "code",
   "execution_count": 1,
   "id": "e40c7b96",
   "metadata": {},
   "outputs": [],
   "source": [
    "# hide\n",
    "# default_exp datasets.datasets\n",
    "from nbdev.showdoc import *\n",
    "from block_types.utils.nbdev_utils import nbdev_setup, TestRunner\n",
    "\n",
    "nbdev_setup ()\n",
    "tst = TestRunner (targets=['dummy'])"
   ]
  },
  {
   "cell_type": "markdown",
   "id": "e411bc84",
   "metadata": {},
   "source": [
    "# Datasets\n",
    "\n",
    "> Classes for loading datasets"
   ]
  },
  {
   "cell_type": "code",
   "execution_count": 2,
   "id": "15248ffa",
   "metadata": {},
   "outputs": [],
   "source": [
    "#export\n",
    "from pathlib import Path\n",
    "import abc\n",
    "import pandas as pd\n",
    "import numpy as np\n",
    "import logging\n",
    "\n",
    "# block_types API\n",
    "from block_types.config import bt_defaults as dflt\n",
    "from block_types.utils.utils import set_logger"
   ]
  },
  {
   "cell_type": "code",
   "execution_count": 3,
   "id": "ec1dea55-09aa-4eb2-9a2a-316c80fbc324",
   "metadata": {},
   "outputs": [],
   "source": [
    "#for tests\n",
    "import pytest \n",
    "import logging"
   ]
  },
  {
   "cell_type": "markdown",
   "id": "7cf4fbc4-de04-42df-94d4-9ba765634ade",
   "metadata": {},
   "source": [
    "## DataSet"
   ]
  },
  {
   "cell_type": "code",
   "execution_count": 8,
   "id": "d523d8fa",
   "metadata": {},
   "outputs": [],
   "source": [
    "# export\n",
    "class DataSet (metaclass=abc.ABCMeta):\n",
    "    \"\"\"Abstract DataSet class.\"\"\"\n",
    "    def __init__ (self, logger = None, verbose=dflt.verbose, **kwargs):\n",
    "        \"\"\"\n",
    "        Initialize common attributes and fields, in particular the logger.\n",
    "        \n",
    "        Parameters\n",
    "        ----------\n",
    "        logger : logging.Logger or None, optional\n",
    "            Logger used to write messages\n",
    "        verbose : int, optional\n",
    "            Verbosity, 0: warning or critical, 1: info, 2: debug.\n",
    "        \"\"\"\n",
    "        if logger is None:\n",
    "            self.logger = set_logger ('block_types', verbose=verbose)\n",
    "        else:\n",
    "            self.logger = logger\n",
    "    @abc.abstractmethod\n",
    "    def load (self):\n",
    "        pass"
   ]
  },
  {
   "cell_type": "markdown",
   "id": "a57d587b-f9c6-4b36-ab31-92bbaacce80c",
   "metadata": {},
   "source": [
    "### Usage example"
   ]
  },
  {
   "cell_type": "code",
   "execution_count": 24,
   "id": "5d92e091-e1e9-4b64-a305-b141d6ba5da1",
   "metadata": {},
   "outputs": [],
   "source": [
    "# export tests.datasets.test_datasets\n",
    "class MyDataSet (DataSet):\n",
    "    def __init__ (self, **kwargs):\n",
    "        super().__init__ (**kwargs)\n",
    "    def load (self):\n",
    "        return [2, 1, 3]\n",
    "def test_dataset ():\n",
    "    dataset = MyDataSet ()\n",
    "    x = dataset.load ()\n",
    "    assert x==[2, 1, 3]\n",
    "    assert isinstance(dataset.logger, logging.Logger)"
   ]
  },
  {
   "cell_type": "code",
   "execution_count": 25,
   "id": "a89c9760-97b7-4dc5-b9e6-05822e488717",
   "metadata": {},
   "outputs": [
    {
     "name": "stdout",
     "output_type": "stream",
     "text": [
      "running test_dataset\n"
     ]
    }
   ],
   "source": [
    "tst.run (test_dataset, tag='dummy')"
   ]
  }
 ],
 "metadata": {
  "kernelspec": {
   "display_name": "Python (block_types)",
   "language": "python",
   "name": "block_types"
  },
  "language_info": {
   "codemirror_mode": {
    "name": "ipython",
    "version": 3
   },
   "file_extension": ".py",
   "mimetype": "text/x-python",
   "name": "python",
   "nbconvert_exporter": "python",
   "pygments_lexer": "ipython3",
   "version": "3.7.10"
  }
 },
 "nbformat": 4,
 "nbformat_minor": 5
}
