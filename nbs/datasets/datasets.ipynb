{
 "cells": [
  {
   "cell_type": "code",
   "execution_count": null,
   "id": "e40c7b96",
   "metadata": {},
   "outputs": [],
   "source": [
    "# hide\n",
    "# default_exp datasets.datasets\n",
    "from nbdev.showdoc import *\n",
    "from block_types.utils.nbdev_utils import nbdev_setup, TestRunner\n",
    "\n",
    "nbdev_setup ()\n",
    "tst = TestRunner (targets=['dummy'])"
   ]
  },
  {
   "cell_type": "markdown",
   "id": "e411bc84",
   "metadata": {},
   "source": [
    "# Datasets\n",
    "\n",
    "> Classes for loading datasets"
   ]
  },
  {
   "cell_type": "code",
   "execution_count": null,
   "id": "15248ffa",
   "metadata": {},
   "outputs": [],
   "source": [
    "#export\n",
    "from pathlib import Path\n",
    "import abc\n",
    "import pandas as pd\n",
    "import numpy as np\n",
    "\n",
    "# block_types API\n",
    "from block_types.config import bt_defaults as dflt\n",
    "from block_types.utils.utils import set_logger"
   ]
  },
  {
   "cell_type": "code",
   "execution_count": null,
   "id": "ec1dea55-09aa-4eb2-9a2a-316c80fbc324",
   "metadata": {},
   "outputs": [],
   "source": [
    "#for tests\n",
    "import pytest "
   ]
  },
  {
   "cell_type": "code",
   "execution_count": null,
   "id": "d523d8fa",
   "metadata": {},
   "outputs": [],
   "source": [
    "# export\n",
    "class DataSet (metaclass=abc.ABCMeta):\n",
    "    \"\"\"Abstract DataSet class.\"\"\"\n",
    "    def __init__ (self, logger = None, verbose=dflt.verbose, **kwargs):\n",
    "        \"\"\"\n",
    "        Initialize common attributes and fields, in particular the logger.\n",
    "        \n",
    "        Parameters\n",
    "        ----------\n",
    "        logger : logging.Logger or None, optional\n",
    "            Logger used to write messages\n",
    "        verbose : int, optional\n",
    "            Verbosity, 0: warning or critical, 1: info, 2: debug.\n",
    "        \"\"\"\n",
    "        if logger is None:\n",
    "            self.logger = set_logger ('block_types', verbose=verbose)\n",
    "        else:\n",
    "            self.logger = logger\n",
    "    @abc.abstractmethod\n",
    "    def load ():\n",
    "        pass"
   ]
  }
 ],
 "metadata": {
  "kernelspec": {
   "display_name": "Python (csp_new)",
   "language": "python",
   "name": "csp_new"
  },
  "language_info": {
   "codemirror_mode": {
    "name": "ipython",
    "version": 3
   },
   "file_extension": ".py",
   "mimetype": "text/x-python",
   "name": "python",
   "nbconvert_exporter": "python",
   "pygments_lexer": "ipython3",
   "version": "3.7.10"
  }
 },
 "nbformat": 4,
 "nbformat_minor": 5
}
