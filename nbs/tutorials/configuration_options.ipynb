{
 "cells": [
  {
   "cell_type": "markdown",
   "metadata": {},
   "source": [
    "# Configuration\n",
    "\n",
    "> Discussion about alternatives for implementating configuration objects. Currently just unordered notes, in progress."
   ]
  },
  {
   "cell_type": "markdown",
   "metadata": {},
   "source": [
    "The current implementation makes extensive use of configuration parameters thoughout the code. Parameters being used for the each run are stored in disk both as pickle and json format for easy access. Default parameters are indicated in the `defaults` module.\n",
    "\n",
    "Traditional mechanisms used for storing configuration parameters are:"
   ]
  },
  {
   "cell_type": "markdown",
   "metadata": {},
   "source": [
    "## 1.  Dictionary of parameters\n",
    "\n",
    "Read a dictionary of parameters from config file (e.g., .json, .ini, or other typical formats):"
   ]
  },
  {
   "cell_type": "code",
   "execution_count": null,
   "metadata": {},
   "outputs": [
    {
     "data": {
      "text/plain": [
       "{'learning_rate': 0.0001, 'epochs': 50, 'path_results': 'results/experiment4'}"
      ]
     },
     "execution_count": null,
     "metadata": {},
     "output_type": "execute_result"
    }
   ],
   "source": [
    "import json\n",
    "\n",
    "config = json.load (open('tutorials/examples/config.json','rt'))\n",
    "config"
   ]
  },
  {
   "cell_type": "markdown",
   "metadata": {},
   "source": [
    "Optionally, convert this dictionary to object"
   ]
  },
  {
   "cell_type": "code",
   "execution_count": null,
   "metadata": {},
   "outputs": [
    {
     "name": "stdout",
     "output_type": "stream",
     "text": [
      "0.0001\n"
     ]
    }
   ],
   "source": [
    "from sklearn.utils import Bunch\n",
    "\n",
    "config = Bunch(**config)\n",
    "\n",
    "print (config.learning_rate)"
   ]
  },
  {
   "cell_type": "markdown",
   "metadata": {},
   "source": [
    "Pass this object everywhere throughout the code"
   ]
  },
  {
   "cell_type": "code",
   "execution_count": null,
   "metadata": {},
   "outputs": [
    {
     "name": "stdout",
     "output_type": "stream",
     "text": [
      "config parameters received: {'learning_rate': 0.0001, 'epochs': 50, 'path_results': 'results/experiment4'}\n",
      "using learning rate: 0.0001\n"
     ]
    }
   ],
   "source": [
    "import numpy as np\n",
    "\n",
    "def pipeline (config):\n",
    "    print (f'config parameters received: {config}')\n",
    "    data = np.random.rand (10,2)\n",
    "    learn (data, config)\n",
    "    learn (data, config)\n",
    "    \n",
    "def learn (data, config):\n",
    "    print (f'using learning rate: {config.learning_rate}')\n",
    "    \n",
    "def inference (data, config):\n",
    "    print (f'saving results to: {config.path_results}')\n",
    "\n",
    "pipeline (config)"
   ]
  },
  {
   "cell_type": "markdown",
   "metadata": {},
   "source": [
    "The problem with this approach is that the parameters being used by each function is hidden."
   ]
  }
 ],
 "metadata": {
  "kernelspec": {
   "display_name": "Python 3 (ipykernel)",
   "language": "python",
   "name": "python3"
  },
  "language_info": {
   "codemirror_mode": {
    "name": "ipython",
    "version": 3
   },
   "file_extension": ".py",
   "mimetype": "text/x-python",
   "name": "python",
   "nbconvert_exporter": "python",
   "pygments_lexer": "ipython3",
   "version": "3.7.10"
  }
 },
 "nbformat": 4,
 "nbformat_minor": 4
}
