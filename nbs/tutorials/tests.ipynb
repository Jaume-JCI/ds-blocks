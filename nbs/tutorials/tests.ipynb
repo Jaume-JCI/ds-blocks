{
 "cells": [
  {
   "cell_type": "markdown",
   "metadata": {},
   "source": [
    "# Tests\n",
    "\n",
    "> Using pytest together with nbdev"
   ]
  },
  {
   "cell_type": "markdown",
   "metadata": {},
   "source": [
    "To make this possible, we follow these steps:\n",
    "\n",
    "#### 1. Notebooks\n",
    "\n",
    "- For each notebook `x.y.ipynb`, we create another notebook `tests.x.test_y.ipynb`\n",
    "- In `tests.x.test_y.ipynb`:\n",
    "    - We import the functions and classes from x.y.ipynb that we are going to test\n",
    "    ```python\n",
    "    from library.x.y import *\n",
    "    ```\n",
    "    - We define all the necessary fixtures with name parameter. For example:\n",
    "    ```python\n",
    "    @pytest.fixture (name='example_data')\n",
    "    def example_fixture ():\n",
    "        return example_data ()\n",
    "    ```\n",
    "- In `x.y.ipynb`, every time we write a test in one cell, we export it to `tests.x.test_y.ipynb`, as follows:\n",
    "    ```python\n",
    "    # export tests.x.test_y\n",
    "    ```\n",
    "- In `x.y.ipynb`, the tests are run using the TestRunner object:\n",
    "    - At the beginning of the notebook, we import TestRunner and instantiate an object:\n",
    "        ```python\n",
    "        from block_types.utils.nbdev_utils import TestRunner\n",
    "        tst = TestRunner (targets=['my_tag', 'my_second_tag'])\n",
    "\n",
    "    - We implement each test as a function:\n",
    "    \n",
    "        ```python\n",
    "        def test_function ():\n",
    "            ...\n",
    "        ```\n",
    "    - We run the test using the `tst.run` method:\n",
    "        ```python\n",
    "        tst.run (test_function, tag='my_tag')\n",
    "        ```\n",
    "\n",
    "#### 2. Files\n",
    "\n",
    "1. In `.github/workflows/main.yml`, comment out condition using `nbdev_diff_nbs`\n",
    "1. In `.gitignore`, add *name_library*/test \n",
    "1. Either manually, or based on python script:\n",
    "    - `cp -r *name_library*/test .`\n",
    "    - replace imports to be absolute\n"
   ]
  },
  {
   "cell_type": "code",
   "execution_count": null,
   "metadata": {},
   "outputs": [],
   "source": []
  }
 ],
 "metadata": {
  "kernelspec": {
   "display_name": "Python 3 (ipykernel)",
   "language": "python",
   "name": "python3"
  },
  "language_info": {
   "codemirror_mode": {
    "name": "ipython",
    "version": 3
   },
   "file_extension": ".py",
   "mimetype": "text/x-python",
   "name": "python",
   "nbconvert_exporter": "python",
   "pygments_lexer": "ipython3",
   "version": "3.7.10"
  }
 },
 "nbformat": 4,
 "nbformat_minor": 4
}
