{
 "cells": [
  {
   "cell_type": "code",
   "execution_count": null,
   "id": "d35b3dbf",
   "metadata": {},
   "outputs": [],
   "source": [
    "# hide\n",
    "# default_exp config.bt_defaults\n",
    "import os\n",
    "from nbdev.showdoc import *\n",
    "if not os.path.exists('settings.ini'):\n",
    "    os.chdir('..')\n",
    "    "
   ]
  },
  {
   "cell_type": "markdown",
   "id": "a1cb586a",
   "metadata": {},
   "source": [
    "# Default values\n",
    "\n",
    "> Default values in block-types"
   ]
  },
  {
   "cell_type": "code",
   "execution_count": 1,
   "id": "1c0d2c5d",
   "metadata": {},
   "outputs": [],
   "source": [
    "#exports\n",
    "\n",
    "# ***************************************\n",
    "# I / O paths, file formats, etc.\n",
    "# ***************************************\n",
    "path_results = None\n",
    "path_data = 'data'\n",
    "file_format = 'parquet'\n",
    "overwrite = True\n",
    "verbose = 1\n",
    "\n",
    "save_splits = dict(training=True,\n",
    "                  test=True,\n",
    "                  validation=True,\n",
    "                  whole=True)"
   ]
  },
  {
   "cell_type": "code",
   "execution_count": null,
   "id": "1c9be533",
   "metadata": {},
   "outputs": [],
   "source": []
  }
 ],
 "metadata": {
  "kernelspec": {
   "display_name": "Python (csp_new)",
   "language": "python",
   "name": "csp_new"
  },
  "language_info": {
   "codemirror_mode": {
    "name": "ipython",
    "version": 3
   },
   "file_extension": ".py",
   "mimetype": "text/x-python",
   "name": "python",
   "nbconvert_exporter": "python",
   "pygments_lexer": "ipython3",
   "version": "3.7.10"
  }
 },
 "nbformat": 4,
 "nbformat_minor": 5
}
