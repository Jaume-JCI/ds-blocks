{
 "cells": [
  {
   "cell_type": "code",
   "execution_count": null,
   "metadata": {},
   "outputs": [],
   "source": [
    "# hide\n",
    "import os\n",
    "if not os.path.exists('settings.ini'):\n",
    "    os.chdir('..')"
   ]
  },
  {
   "cell_type": "markdown",
   "metadata": {},
   "source": [
    "# Block Types\n",
    "\n",
    "> Block types for building Data Science pipelines"
   ]
  },
  {
   "cell_type": "markdown",
   "metadata": {},
   "source": [
    "## Install\n",
    "\n",
    "Create a new conda environment and activate it:\n",
    "```bash\n",
    "conda create -n block_types python=3.7.10 pip=20.2.4\n",
    "conda activate block_types\n",
    "```\n",
    "\n",
    "Clone the repo and cd to its root path:\n",
    "```bash\n",
    "git clone git@github.com:Jaume-JCI/block-types.git\n",
    "cd block-types\n",
    "```\n",
    "\n",
    "Install the dependencies:\n",
    "```\n",
    "pip install -e .\n",
    "```"
   ]
  }
 ],
 "metadata": {
  "kernelspec": {
   "display_name": "Python (csp_new)",
   "language": "python",
   "name": "csp_new"
  },
  "language_info": {
   "codemirror_mode": {
    "name": "ipython",
    "version": 3
   },
   "file_extension": ".py",
   "mimetype": "text/x-python",
   "name": "python",
   "nbconvert_exporter": "python",
   "pygments_lexer": "ipython3",
   "version": "3.7.10"
  }
 },
 "nbformat": 4,
 "nbformat_minor": 2
}
