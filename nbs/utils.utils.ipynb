{
 "cells": [
  {
   "cell_type": "code",
   "execution_count": null,
   "id": "86b3a6da",
   "metadata": {},
   "outputs": [],
   "source": [
    "# hide\n",
    "# default_exp utils.utils\n",
    "import os\n",
    "from nbdev.showdoc import *\n",
    "if not os.path.exists('settings.ini'):\n",
    "    os.chdir('..')"
   ]
  },
  {
   "cell_type": "markdown",
   "id": "4f1a487f",
   "metadata": {},
   "source": [
    "# Utils"
   ]
  },
  {
   "cell_type": "code",
   "execution_count": null,
   "id": "84ae5095",
   "metadata": {},
   "outputs": [],
   "source": [
    "# export\n",
    "import os\n",
    "import numpy as np\n",
    "import random as python_random\n",
    "import logging\n",
    "import shutil\n",
    "from pathlib import Path\n",
    "\n",
    "# block-types\n",
    "import block_types.config.defaults as dflt\n",
    "\n",
    "def make_reproducible ():\n",
    "    \"\"\"\n",
    "    Make results obtained from neural network model reproducible. \n",
    "    \n",
    "    This function should be run at the very beginning. The result \n",
    "    of calling this is that the pipeline produces the exact same \n",
    "    results as previous runs.\n",
    "    \"\"\"\n",
    "    os.environ['CUDA_VISIBLE_DEVICES'] = ''\n",
    "    os.environ['PYTHONHASHSEED'] = '0'\n",
    "\n",
    "    # The below is necessary for starting Numpy generated random numbers\n",
    "    # in a well-defined initial state.\n",
    "    np.random.seed(123)\n",
    "\n",
    "    # The below is necessary for starting core Python generated random numbers\n",
    "    # in a well-defined state.\n",
    "    python_random.seed(123)\n",
    "\n",
    "    # The below set_seed() will make random number generation\n",
    "    # in the TensorFlow backend have a well-defined initial state.\n",
    "    # For further details, see:\n",
    "    # https://www.tensorflow.org/api_docs/python/tf/random/set_seed\n",
    "    try:\n",
    "        import tensorflow as tf\n",
    "        tf.random.set_seed(1234)\n",
    "    except:\n",
    "        print ('tensorflow needs to be installed in order to run make_reproducible()')"
   ]
  },
  {
   "cell_type": "code",
   "execution_count": null,
   "id": "9023753b",
   "metadata": {},
   "outputs": [],
   "source": [
    "# export \n",
    "def set_logger (name, path_results='log', stdout=True,\n",
    "                mode='w', just_message = False, filename='logs.txt',\n",
    "                logging_level=logging.DEBUG, verbose=None):\n",
    "    \"\"\"Set logger.\"\"\"\n",
    "    logger = logging.getLogger(name)\n",
    "    if verbose is not None:\n",
    "        logging_level = logging.DEBUG if verbose == 2 else logging.INFO if verbose == 1 else logging.WARNING\n",
    "    logger.setLevel(logging_level)\n",
    "\n",
    "    for hdlr in logger.handlers[:]:  # remove all old handlers\n",
    "        logger.removeHandler(hdlr)\n",
    "\n",
    "    #if not logger.hasHandlers():\n",
    "\n",
    "    # Create handlers\n",
    "    if stdout:\n",
    "        c_handler = logging.StreamHandler()\n",
    "        c_handler.setLevel(logging_level)\n",
    "        c_format = logging.Formatter('%(message)s')\n",
    "        c_handler.setFormatter(c_format)\n",
    "        logger.addHandler(c_handler)\n",
    "\n",
    "    os.makedirs(path_results, exist_ok=True)\n",
    "    f_handler = logging.FileHandler('%s/%s' %(path_results, filename), mode = mode)\n",
    "    f_handler.setLevel(logging_level)\n",
    "    if just_message:\n",
    "        f_format = logging.Formatter('%(asctime)s - %(message)s')\n",
    "    else:\n",
    "        f_format = logging.Formatter('%(asctime)s - %(name)s - %(levelname)s {%(filename)s:%(funcName)s:%(lineno)d} - %(message)s')\n",
    "    f_handler.setFormatter(f_format)\n",
    "    logger.addHandler(f_handler)\n",
    "    logger.propagate = 0\n",
    "\n",
    "    return logger"
   ]
  },
  {
   "cell_type": "code",
   "execution_count": null,
   "id": "914b164c",
   "metadata": {},
   "outputs": [],
   "source": [
    "# export\n",
    "def remove_previous_results (path_results=dflt.path_results):\n",
    "    \"\"\"Remove folder containing previous results, if exists.\"\"\"\n",
    "    if Path(path_results).exists():\n",
    "        shutil.rmtree(path_results)"
   ]
  },
  {
   "cell_type": "code",
   "execution_count": null,
   "id": "a4f4d794",
   "metadata": {},
   "outputs": [],
   "source": [
    "# export\n",
    "def set_tf_loglevel(level):\n",
    "    if level >= logging.FATAL:\n",
    "        os.environ['TF_CPP_MIN_LOG_LEVEL'] = '3'\n",
    "    if level >= logging.ERROR:\n",
    "        os.environ['TF_CPP_MIN_LOG_LEVEL'] = '2'\n",
    "    if level >= logging.WARNING:\n",
    "        os.environ['TF_CPP_MIN_LOG_LEVEL'] = '1'\n",
    "    else:\n",
    "        os.environ['TF_CPP_MIN_LOG_LEVEL'] = '0'\n",
    "    logging.getLogger('tensorflow').setLevel(level)\n",
    "    \n",
    "    tf.get_logger().setLevel(level)"
   ]
  }
 ],
 "metadata": {
  "kernelspec": {
   "display_name": "Python (csp_new)",
   "language": "python",
   "name": "csp_new"
  },
  "language_info": {
   "codemirror_mode": {
    "name": "ipython",
    "version": 3
   },
   "file_extension": ".py",
   "mimetype": "text/x-python",
   "name": "python",
   "nbconvert_exporter": "python",
   "pygments_lexer": "ipython3",
   "version": "3.7.10"
  }
 },
 "nbformat": 4,
 "nbformat_minor": 5
}
