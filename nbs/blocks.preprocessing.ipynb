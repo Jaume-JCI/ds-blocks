{
 "cells": [
  {
   "cell_type": "code",
   "execution_count": null,
   "id": "fc3d19fe",
   "metadata": {},
   "outputs": [],
   "source": [
    "# hide\n",
    "# default_exp blocks.preprocessing\n",
    "import os\n",
    "from nbdev.showdoc import *\n",
    "if not os.path.exists('settings.ini'):\n",
    "    os.chdir('..')"
   ]
  },
  {
   "cell_type": "markdown",
   "id": "8e7658d5",
   "metadata": {},
   "source": [
    "# Preprocessing components\n",
    "\n",
    "> Preprocessing components like one hot encoder"
   ]
  },
  {
   "cell_type": "code",
   "execution_count": null,
   "id": "ae9bfa50",
   "metadata": {},
   "outputs": [],
   "source": [
    "#export\n",
    "import pandas as pd\n",
    "import sklearn.preprocessing\n",
    "from block_types.core.block_types import PandasComponent\n",
    "from sklearn.utils.validation import check_is_fitted\n",
    "from sklearn.exceptions import NotFittedError"
   ]
  },
  {
   "cell_type": "code",
   "execution_count": null,
   "id": "908ed7cb",
   "metadata": {},
   "outputs": [],
   "source": [
    "#export\n",
    "class OneHotEncoder (PandasComponent):\n",
    "    def __init__ (self, \n",
    "                  categories='auto',\n",
    "                  handle_unknown='ignore',\n",
    "                  dtype=int,\n",
    "                  **kwargs):\n",
    "        super().__init__ (**kwargs)\n",
    "        self.categories = categories\n",
    "        self.handle_unknown = handle_unknown\n",
    "        self.one_hot_encoder = sklearn.preprocessing.OneHotEncoder(categories=categories,\n",
    "                                                                    handle_unknown=handle_unknown,\n",
    "                                                                    sparse=False)\n",
    "        self.dtype = dtype\n",
    "        \n",
    "    def _fit (self, X, y=None):\n",
    "        self.one_hot_encoder.fit (X)\n",
    "        return self\n",
    "    \n",
    "    def _apply (self, df):\n",
    "        try:\n",
    "            check_is_fitted (self.one_hot_encoder)\n",
    "        except NotFittedError:\n",
    "            if self.categories != 'auto':\n",
    "                self.one_hot_encoder.fit(df)\n",
    "            else:\n",
    "                raise NotFittedError('OneHotEncoder must be fitted first')\n",
    "        X = self.one_hot_encoder.transform(df)\n",
    "        if self.dtype is int or self.dtype == 'int':\n",
    "            X = X.astype(int)\n",
    "        df = pd.DataFrame (data=X, \n",
    "                           columns=self.one_hot_encoder.get_feature_names(input_features=df.columns),\n",
    "                           index=df.index)\n",
    "        return df"
   ]
  },
  {
   "cell_type": "code",
   "execution_count": null,
   "id": "3651d43b",
   "metadata": {},
   "outputs": [],
   "source": [
    "df = pd.DataFrame({'x1':['b','b','a','b','a'],\n",
    "                   'x2':['e','c','d','e','f'],\n",
    "                  })\n",
    "one_hot_encoder = OneHotEncoder(categories=[['a','b'],['c','d','e']])\n",
    "dfr = one_hot_encoder.transform (df)\n",
    "\n",
    "# show result\n",
    "print ('result:')\n",
    "display (dfr)\n",
    "\n",
    "# compare against pd.get_dummies, removing last column corresponding to category 'f'\n",
    "df_dummies = pd.get_dummies (df).iloc[:,:-1] \n",
    "assert (dfr==df_dummies).all().all()"
   ]
  },
  {
   "cell_type": "code",
   "execution_count": null,
   "id": "cc6f6c2d",
   "metadata": {},
   "outputs": [],
   "source": [
    "import pytest \n",
    "# test categories='auto'\n",
    "one_hot_encoder = OneHotEncoder(categories='auto')\n",
    "\n",
    "# 1.- if categories='auto', we must call fit  before calling transform:\n",
    "with pytest.raises(Exception):\n",
    "    dfr = one_hot_encoder.transform (df)\n",
    "\n",
    "# test that 'auto' returns the same as pd.get_dummies\n",
    "dfr = one_hot_encoder.fit_transform (df)\n",
    "print ('result:'); display(dfr)\n",
    "assert (dfr==pd.get_dummies (df)).all().all()"
   ]
  }
 ],
 "metadata": {
  "kernelspec": {
   "display_name": "Python (block_types)",
   "language": "python",
   "name": "block_types"
  },
  "language_info": {
   "codemirror_mode": {
    "name": "ipython",
    "version": 3
   },
   "file_extension": ".py",
   "mimetype": "text/x-python",
   "name": "python",
   "nbconvert_exporter": "python",
   "pygments_lexer": "ipython3",
   "version": "3.7.10"
  }
 },
 "nbformat": 4,
 "nbformat_minor": 5
}
