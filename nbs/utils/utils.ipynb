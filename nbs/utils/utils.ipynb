{
 "cells": [
  {
   "cell_type": "code",
   "execution_count": 1,
   "id": "86b3a6da",
   "metadata": {},
   "outputs": [],
   "source": [
    "# hide\n",
    "# default_exp utils.utils\n",
    "from nbdev.showdoc import *\n",
    "from block_types.utils.nbdev_utils import nbdev_setup, TestRunner\n",
    "\n",
    "nbdev_setup ()\n",
    "tst = TestRunner (targets=['dummy'])"
   ]
  },
  {
   "cell_type": "markdown",
   "id": "4f1a487f",
   "metadata": {},
   "source": [
    "# Utils"
   ]
  },
  {
   "cell_type": "code",
   "execution_count": 5,
   "id": "00c30900-4c9d-473d-aa61-630512bc57c9",
   "metadata": {},
   "outputs": [],
   "source": [
    "# export\n",
    "import sys\n",
    "import os\n",
    "import random as python_random\n",
    "import logging\n",
    "import shutil\n",
    "from pathlib import Path\n",
    "import re\n",
    "import inspect \n",
    "import numpy as np\n",
    "\n",
    "# block-types\n",
    "import block_types.config.bt_defaults as dflt"
   ]
  },
  {
   "cell_type": "code",
   "execution_count": 6,
   "id": "7ef37c2e-429f-4c21-9792-3666f230cd3c",
   "metadata": {},
   "outputs": [],
   "source": [
    "#for tests\n",
    "import pytest\n",
    "import numpy as np"
   ]
  },
  {
   "cell_type": "markdown",
   "id": "d1f923e2-fd03-4226-8c3b-6c51d4678ae0",
   "metadata": {
    "tags": []
   },
   "source": [
    "## make_reproducible"
   ]
  },
  {
   "cell_type": "code",
   "execution_count": 7,
   "id": "84ae5095",
   "metadata": {},
   "outputs": [],
   "source": [
    "# export\n",
    "def make_reproducible ():\n",
    "    \"\"\"\n",
    "    Make results obtained from neural network model reproducible. \n",
    "    \n",
    "    This function should be run at the very beginning. The result \n",
    "    of calling this is that the pipeline produces the exact same \n",
    "    results as previous runs.\n",
    "    \"\"\"\n",
    "    os.environ['CUDA_VISIBLE_DEVICES'] = ''\n",
    "    os.environ['PYTHONHASHSEED'] = '0'\n",
    "\n",
    "    # The below is necessary for starting Numpy generated random numbers\n",
    "    # in a well-defined initial state.\n",
    "    np.random.seed(123)\n",
    "\n",
    "    # The below is necessary for starting core Python generated random numbers\n",
    "    # in a well-defined state.\n",
    "    python_random.seed(123)\n",
    "\n",
    "    # The below set_seed() will make random number generation\n",
    "    # in the TensorFlow backend have a well-defined initial state.\n",
    "    # For further details, see:\n",
    "    # https://www.tensorflow.org/api_docs/python/tf/random/set_seed\n",
    "    try:\n",
    "        import tensorflow as tf\n",
    "        tf.random.set_seed(1234)\n",
    "    except:\n",
    "        print ('tensorflow needs to be installed in order to run make_reproducible()')"
   ]
  },
  {
   "cell_type": "markdown",
   "id": "4525a042-fd06-41a0-9ce3-87ccfeeec5d8",
   "metadata": {},
   "source": [
    "### Usage example"
   ]
  },
  {
   "cell_type": "code",
   "execution_count": 8,
   "id": "85313127-0dcb-4453-b320-064fafcbad19",
   "metadata": {},
   "outputs": [],
   "source": [
    "# exports tests.utils.test_utils\n",
    "#@pytest.mark.reference_fails\n",
    "def test_make_reproducible ():\n",
    "    make_reproducible ()\n",
    "    x = np.random.rand(10)\n",
    "    make_reproducible ()\n",
    "    x2 = np.random.rand(10)\n",
    "    assert (x==x2).all()"
   ]
  },
  {
   "cell_type": "code",
   "execution_count": 9,
   "id": "fff1d97b-4f3d-499a-a600-da95d9dcf461",
   "metadata": {},
   "outputs": [
    {
     "name": "stdout",
     "output_type": "stream",
     "text": [
      "running test_make_reproducible\n"
     ]
    },
    {
     "name": "stderr",
     "output_type": "stream",
     "text": [
      "2022-02-02 11:37:42.793921: W tensorflow/stream_executor/platform/default/dso_loader.cc:64] Could not load dynamic library 'libcudart.so.11.0'; dlerror: libcudart.so.11.0: cannot open shared object file: No such file or directory; LD_LIBRARY_PATH: /opt/intel/compilers_and_libraries_2018.1.163/linux/tbb/lib/intel64_lin/gcc4.7:/opt/intel/compilers_and_libraries_2018.1.163/linux/compiler/lib/intel64_lin:/opt/intel/compilers_and_libraries_2018.1.163/linux/mkl/lib/intel64_lin:/opt/intel/compilers_and_libraries_2018.1.163/linux/tbb/lib/intel64_lin/gcc4.7:/opt/intel/compilers_and_libraries_2018.1.163/linux/compiler/lib/intel64_lin:/opt/intel/compilers_and_libraries_2018.1.163/linux/mkl/lib/intel64_lin::/usr/local/cuda/lib64:/usr/local/cuda/extras/CUPTI/lib64/:/usr/local/cuda/lib64:/usr/local/cuda/extras/CUPTI/lib64/\n",
      "2022-02-02 11:37:42.793961: I tensorflow/stream_executor/cuda/cudart_stub.cc:29] Ignore above cudart dlerror if you do not have a GPU set up on your machine.\n"
     ]
    }
   ],
   "source": [
    "tst.run (test_make_reproducible, tag='dummy')"
   ]
  },
  {
   "cell_type": "markdown",
   "id": "9382b7cf-dfb4-4c39-944c-a60a3a89206b",
   "metadata": {},
   "source": [
    "## set_logger"
   ]
  },
  {
   "cell_type": "code",
   "execution_count": 10,
   "id": "140e280e-c429-4d8c-924f-56c0dae4de3f",
   "metadata": {},
   "outputs": [],
   "source": [
    "# TODO: use a custom class instead of separate functions for dealing with logging"
   ]
  },
  {
   "cell_type": "markdown",
   "id": "2707f592-4243-4cfa-a47a-6c6b5f0b43f2",
   "metadata": {
    "tags": []
   },
   "source": [
    "### get_logging_level"
   ]
  },
  {
   "cell_type": "code",
   "execution_count": 11,
   "id": "7720523d-c4ce-4288-83da-59abc2a2b3f6",
   "metadata": {},
   "outputs": [],
   "source": [
    "# export \n",
    "def get_logging_level (verbose):\n",
    "    return logging.DEBUG if verbose == 2 else logging.INFO if verbose == 1 else logging.WARNING"
   ]
  },
  {
   "cell_type": "markdown",
   "id": "eaaccc94-db2a-47a8-bf55-f74cb70a9130",
   "metadata": {},
   "source": [
    "### delete_logger"
   ]
  },
  {
   "cell_type": "code",
   "execution_count": 12,
   "id": "2aca6beb-1570-408d-8267-acf79db8a04d",
   "metadata": {},
   "outputs": [],
   "source": [
    "#export\n",
    "def delete_logger (name, path_results='log', filename='logs.txt'):\n",
    "    if filename is not None and path_results is not None:\n",
    "        path_to_log_file = f'{path_results}/{filename}'\n",
    "        if os.path.exists (path_to_log_file):\n",
    "            os.remove (path_to_log_file)"
   ]
  },
  {
   "cell_type": "markdown",
   "id": "9131f845-a47c-4d58-8c8f-5acfe626c9a9",
   "metadata": {},
   "source": [
    "### set_logger"
   ]
  },
  {
   "cell_type": "code",
   "execution_count": 18,
   "id": "fceaa4e6-758d-40b5-ac26-9783947c11c7",
   "metadata": {},
   "outputs": [],
   "source": [
    "#export    \n",
    "def set_logger (name, path_results='log', stdout=True,\n",
    "                mode='a', just_message = False, filename='logs.txt',\n",
    "                logging_level=logging.DEBUG, verbose=None, verbose_out=None, \n",
    "                print_path=False):\n",
    "    \"\"\"Set logger.\"\"\"\n",
    "    logger = logging.getLogger(name)\n",
    "    if verbose is not None:\n",
    "        logging_level = get_logging_level (verbose)\n",
    "    if verbose_out is not None:\n",
    "        logging_level_out = get_logging_level (verbose_out)\n",
    "    else:\n",
    "        logging_level_out = logging_level\n",
    "    logger.setLevel(logging_level)\n",
    "\n",
    "    for hdlr in logger.handlers[:]:  # remove all old handlers\n",
    "        logger.removeHandler(hdlr)\n",
    "\n",
    "    #if not logger.hasHandlers():\n",
    "\n",
    "    # Create handlers\n",
    "    if stdout:\n",
    "        c_handler = logging.StreamHandler()\n",
    "        c_handler.setLevel(logging_level_out)\n",
    "        c_format = logging.Formatter('%(message)s')\n",
    "        c_handler.setFormatter(c_format)\n",
    "        logger.addHandler(c_handler)\n",
    "    else:\n",
    "        logger.removeHandler(sys.stderr)\n",
    "\n",
    "    if filename is not None and path_results is not None:\n",
    "        os.makedirs(path_results, exist_ok=True)\n",
    "        path_to_log_file = f'{path_results}/{filename}'\n",
    "        #pdb.set_trace()\n",
    "        if print_path: print (f'log written in {os.path.abspath(path_to_log_file)}')\n",
    "        f_handler = logging.FileHandler (path_to_log_file, mode = mode)\n",
    "        f_handler.setLevel(logging_level)\n",
    "        if just_message:\n",
    "            f_format = logging.Formatter('%(asctime)s - %(message)s')\n",
    "        else:\n",
    "            f_format = logging.Formatter('%(asctime)s - %(name)s - %(levelname)s {%(filename)s:%(funcName)s:%(lineno)d} - %(message)s')\n",
    "        f_handler.setFormatter(f_format)\n",
    "        logger.addHandler(f_handler)\n",
    "    #logger.propagate = 0\n",
    "    logger.propagate = False\n",
    "\n",
    "    return logger"
   ]
  },
  {
   "cell_type": "markdown",
   "id": "c3afceaf-ff61-4771-9798-f3f2e44fbc2d",
   "metadata": {},
   "source": [
    "### set_empty_logger"
   ]
  },
  {
   "cell_type": "code",
   "execution_count": 14,
   "id": "728e538e-dca2-4ce6-9141-bfae98c66a1b",
   "metadata": {},
   "outputs": [],
   "source": [
    "#export\n",
    "def set_empty_logger ():\n",
    "    return set_logger ('no_logging', stdout=False, filename=None, verbose=0)"
   ]
  },
  {
   "cell_type": "markdown",
   "id": "607d686d-0cd6-4051-897a-3964c09afc81",
   "metadata": {},
   "source": [
    "### set_verbosity"
   ]
  },
  {
   "cell_type": "code",
   "execution_count": 15,
   "id": "08891fe2-590f-48bc-9280-451714ed1d77",
   "metadata": {},
   "outputs": [],
   "source": [
    "# export\n",
    "def set_verbosity (name=None, logger=None, logging_level=logging.DEBUG, verbose=None, verbose_out=None):\n",
    "    \"\"\"Set logger.\"\"\"\n",
    "    if logger is None:\n",
    "        assert name is not None, 'either logger or name must be not None'\n",
    "        logger = logging.getLogger(name)\n",
    "    if verbose is not None:\n",
    "        logging_level = get_logging_level (verbose)\n",
    "    if verbose_out is not None:\n",
    "        logging_level_out = get_logging_level (verbose_out)\n",
    "    else:\n",
    "        logging_level_out = logging_level\n",
    "    logger.setLevel(logging_level)\n",
    "\n",
    "    for hdlr in logger.handlers[:]:  # remove all old handlers\n",
    "        hdlr.setLevel(logging_level)"
   ]
  },
  {
   "cell_type": "markdown",
   "id": "0c63dbcb-8d96-4187-91a1-d70f2f8acebf",
   "metadata": {},
   "source": [
    "### Usage example"
   ]
  },
  {
   "cell_type": "code",
   "execution_count": 16,
   "id": "d75d6ec4-4812-49a7-968f-a89682e0808f",
   "metadata": {},
   "outputs": [],
   "source": [
    "# exports tests.utils.test_utils\n",
    "#@pytest.mark.reference_fails\n",
    "def test_set_logger ():\n",
    "    path_results = 'test_logger'\n",
    "    logger = set_logger ('test', path_results=path_results)\n",
    "    assert os.listdir ('test_logger')==['logs.txt']\n",
    "    assert logger.level==logging.DEBUG\n",
    "\n",
    "    logger = set_logger ('test', path_results=path_results, verbose=1)\n",
    "    assert logger.level==logging.INFO\n",
    "\n",
    "    set_verbosity (logger=logger, verbose=0)\n",
    "    assert logger.level==logging.WARNING\n",
    "\n",
    "    for hdlr in logger.handlers[:]:  \n",
    "        assert hdlr.level==logging.WARNING\n",
    "        \n",
    "    delete_logger ('test', path_results=path_results)\n",
    "    assert os.listdir ('test_logger')==[]\n",
    "    \n",
    "    logger = set_empty_logger ()\n",
    "    logger.critical ('this does not show up')\n",
    "    assert os.listdir ('test_logger')==[]\n",
    "        \n",
    "    shutil.rmtree (path_results)"
   ]
  },
  {
   "cell_type": "code",
   "execution_count": 20,
   "id": "084e45c5-e9b4-41d9-bccd-196959b24a06",
   "metadata": {},
   "outputs": [
    {
     "name": "stdout",
     "output_type": "stream",
     "text": [
      "> \u001b[0;32m/tmp/ipykernel_63467/4030641049.py\u001b[0m(4)\u001b[0;36mtest_set_logger\u001b[0;34m()\u001b[0m\n",
      "\u001b[0;32m      2 \u001b[0;31m\u001b[0;31m#@pytest.mark.reference_fails\u001b[0m\u001b[0;34m\u001b[0m\u001b[0;34m\u001b[0m\u001b[0;34m\u001b[0m\u001b[0m\n",
      "\u001b[0m\u001b[0;32m      3 \u001b[0;31m\u001b[0;32mdef\u001b[0m \u001b[0mtest_set_logger\u001b[0m \u001b[0;34m(\u001b[0m\u001b[0;34m)\u001b[0m\u001b[0;34m:\u001b[0m\u001b[0;34m\u001b[0m\u001b[0;34m\u001b[0m\u001b[0m\n",
      "\u001b[0m\u001b[0;32m----> 4 \u001b[0;31m    \u001b[0mpath_results\u001b[0m \u001b[0;34m=\u001b[0m \u001b[0;34m'test_logger'\u001b[0m\u001b[0;34m\u001b[0m\u001b[0;34m\u001b[0m\u001b[0m\n",
      "\u001b[0m\u001b[0;32m      5 \u001b[0;31m    \u001b[0mlogger\u001b[0m \u001b[0;34m=\u001b[0m \u001b[0mset_logger\u001b[0m \u001b[0;34m(\u001b[0m\u001b[0;34m'test'\u001b[0m\u001b[0;34m,\u001b[0m \u001b[0mpath_results\u001b[0m\u001b[0;34m=\u001b[0m\u001b[0mpath_results\u001b[0m\u001b[0;34m)\u001b[0m\u001b[0;34m\u001b[0m\u001b[0;34m\u001b[0m\u001b[0m\n",
      "\u001b[0m\u001b[0;32m      6 \u001b[0;31m    \u001b[0;32massert\u001b[0m \u001b[0mos\u001b[0m\u001b[0;34m.\u001b[0m\u001b[0mlistdir\u001b[0m \u001b[0;34m(\u001b[0m\u001b[0;34m'test_logger'\u001b[0m\u001b[0;34m)\u001b[0m\u001b[0;34m==\u001b[0m\u001b[0;34m[\u001b[0m\u001b[0;34m'logs.txt'\u001b[0m\u001b[0;34m]\u001b[0m\u001b[0;34m\u001b[0m\u001b[0;34m\u001b[0m\u001b[0m\n",
      "\u001b[0m\n"
     ]
    },
    {
     "name": "stdin",
     "output_type": "stream",
     "text": [
      "ipdb>  b set_empty_logger\n"
     ]
    },
    {
     "name": "stdout",
     "output_type": "stream",
     "text": [
      "Breakpoint 3 at /tmp/ipykernel_63467/500908706.py:2\n"
     ]
    },
    {
     "name": "stdin",
     "output_type": "stream",
     "text": [
      "ipdb>  c\n"
     ]
    },
    {
     "name": "stdout",
     "output_type": "stream",
     "text": [
      "> \u001b[0;32m/tmp/ipykernel_63467/500908706.py\u001b[0m(3)\u001b[0;36mset_empty_logger\u001b[0;34m()\u001b[0m\n",
      "\u001b[0;32m      1 \u001b[0;31m\u001b[0;31m#export\u001b[0m\u001b[0;34m\u001b[0m\u001b[0;34m\u001b[0m\u001b[0;34m\u001b[0m\u001b[0m\n",
      "\u001b[0m\u001b[1;31m3\u001b[0;32m     2 \u001b[0;31m\u001b[0;32mdef\u001b[0m \u001b[0mset_empty_logger\u001b[0m \u001b[0;34m(\u001b[0m\u001b[0;34m)\u001b[0m\u001b[0;34m:\u001b[0m\u001b[0;34m\u001b[0m\u001b[0;34m\u001b[0m\u001b[0m\n",
      "\u001b[0m\u001b[0;32m----> 3 \u001b[0;31m    \u001b[0;32mreturn\u001b[0m \u001b[0mset_logger\u001b[0m \u001b[0;34m(\u001b[0m\u001b[0;34m'no_logging'\u001b[0m\u001b[0;34m,\u001b[0m \u001b[0mstdout\u001b[0m\u001b[0;34m=\u001b[0m\u001b[0;32mFalse\u001b[0m\u001b[0;34m,\u001b[0m \u001b[0mfilename\u001b[0m\u001b[0;34m=\u001b[0m\u001b[0;32mNone\u001b[0m\u001b[0;34m,\u001b[0m \u001b[0mverbose\u001b[0m\u001b[0;34m=\u001b[0m\u001b[0;36m0\u001b[0m\u001b[0;34m)\u001b[0m\u001b[0;34m\u001b[0m\u001b[0;34m\u001b[0m\u001b[0m\n",
      "\u001b[0m\n"
     ]
    },
    {
     "name": "stdin",
     "output_type": "stream",
     "text": [
      "ipdb>  s\n"
     ]
    },
    {
     "name": "stdout",
     "output_type": "stream",
     "text": [
      "--Call--\n",
      "> \u001b[0;32m/tmp/ipykernel_63467/3883365675.py\u001b[0m(2)\u001b[0;36mset_logger\u001b[0;34m()\u001b[0m\n",
      "\u001b[0;32m      1 \u001b[0;31m\u001b[0;31m#export\u001b[0m\u001b[0;34m\u001b[0m\u001b[0;34m\u001b[0m\u001b[0;34m\u001b[0m\u001b[0m\n",
      "\u001b[0m\u001b[0;32m----> 2 \u001b[0;31mdef set_logger (name, path_results='log', stdout=True,\n",
      "\u001b[0m\u001b[0;32m      3 \u001b[0;31m                \u001b[0mmode\u001b[0m\u001b[0;34m=\u001b[0m\u001b[0;34m'a'\u001b[0m\u001b[0;34m,\u001b[0m \u001b[0mjust_message\u001b[0m \u001b[0;34m=\u001b[0m \u001b[0;32mFalse\u001b[0m\u001b[0;34m,\u001b[0m \u001b[0mfilename\u001b[0m\u001b[0;34m=\u001b[0m\u001b[0;34m'logs.txt'\u001b[0m\u001b[0;34m,\u001b[0m\u001b[0;34m\u001b[0m\u001b[0;34m\u001b[0m\u001b[0m\n",
      "\u001b[0m\u001b[0;32m      4 \u001b[0;31m                \u001b[0mlogging_level\u001b[0m\u001b[0;34m=\u001b[0m\u001b[0mlogging\u001b[0m\u001b[0;34m.\u001b[0m\u001b[0mDEBUG\u001b[0m\u001b[0;34m,\u001b[0m \u001b[0mverbose\u001b[0m\u001b[0;34m=\u001b[0m\u001b[0;32mNone\u001b[0m\u001b[0;34m,\u001b[0m \u001b[0mverbose_out\u001b[0m\u001b[0;34m=\u001b[0m\u001b[0;32mNone\u001b[0m\u001b[0;34m,\u001b[0m\u001b[0;34m\u001b[0m\u001b[0;34m\u001b[0m\u001b[0m\n",
      "\u001b[0m\u001b[0;32m      5 \u001b[0;31m                print_path=False):\n",
      "\u001b[0m\n"
     ]
    },
    {
     "name": "stdin",
     "output_type": "stream",
     "text": [
      "ipdb>  ll\n"
     ]
    },
    {
     "name": "stdout",
     "output_type": "stream",
     "text": [
      "\u001b[0;32m----> 2 \u001b[0;31mdef set_logger (name, path_results='log', stdout=True,\n",
      "\u001b[0m\u001b[1;32m      3 \u001b[0m                \u001b[0mmode\u001b[0m\u001b[0;34m=\u001b[0m\u001b[0;34m'a'\u001b[0m\u001b[0;34m,\u001b[0m \u001b[0mjust_message\u001b[0m \u001b[0;34m=\u001b[0m \u001b[0;32mFalse\u001b[0m\u001b[0;34m,\u001b[0m \u001b[0mfilename\u001b[0m\u001b[0;34m=\u001b[0m\u001b[0;34m'logs.txt'\u001b[0m\u001b[0;34m,\u001b[0m\u001b[0;34m\u001b[0m\u001b[0;34m\u001b[0m\u001b[0m\n",
      "\u001b[1;32m      4 \u001b[0m                \u001b[0mlogging_level\u001b[0m\u001b[0;34m=\u001b[0m\u001b[0mlogging\u001b[0m\u001b[0;34m.\u001b[0m\u001b[0mDEBUG\u001b[0m\u001b[0;34m,\u001b[0m \u001b[0mverbose\u001b[0m\u001b[0;34m=\u001b[0m\u001b[0;32mNone\u001b[0m\u001b[0;34m,\u001b[0m \u001b[0mverbose_out\u001b[0m\u001b[0;34m=\u001b[0m\u001b[0;32mNone\u001b[0m\u001b[0;34m,\u001b[0m\u001b[0;34m\u001b[0m\u001b[0;34m\u001b[0m\u001b[0m\n",
      "\u001b[1;32m      5 \u001b[0m                print_path=False):\n",
      "\u001b[1;32m      6 \u001b[0m    \u001b[0;34m\"\"\"Set logger.\"\"\"\u001b[0m\u001b[0;34m\u001b[0m\u001b[0;34m\u001b[0m\u001b[0m\n",
      "\u001b[1;32m      7 \u001b[0m    \u001b[0mlogger\u001b[0m \u001b[0;34m=\u001b[0m \u001b[0mlogging\u001b[0m\u001b[0;34m.\u001b[0m\u001b[0mgetLogger\u001b[0m\u001b[0;34m(\u001b[0m\u001b[0mname\u001b[0m\u001b[0;34m)\u001b[0m\u001b[0;34m\u001b[0m\u001b[0;34m\u001b[0m\u001b[0m\n",
      "\u001b[1;32m      8 \u001b[0m    \u001b[0;32mif\u001b[0m \u001b[0mverbose\u001b[0m \u001b[0;32mis\u001b[0m \u001b[0;32mnot\u001b[0m \u001b[0;32mNone\u001b[0m\u001b[0;34m:\u001b[0m\u001b[0;34m\u001b[0m\u001b[0;34m\u001b[0m\u001b[0m\n",
      "\u001b[1;32m      9 \u001b[0m        \u001b[0mlogging_level\u001b[0m \u001b[0;34m=\u001b[0m \u001b[0mget_logging_level\u001b[0m \u001b[0;34m(\u001b[0m\u001b[0mverbose\u001b[0m\u001b[0;34m)\u001b[0m\u001b[0;34m\u001b[0m\u001b[0;34m\u001b[0m\u001b[0m\n",
      "\u001b[1;32m     10 \u001b[0m    \u001b[0;32mif\u001b[0m \u001b[0mverbose_out\u001b[0m \u001b[0;32mis\u001b[0m \u001b[0;32mnot\u001b[0m \u001b[0;32mNone\u001b[0m\u001b[0;34m:\u001b[0m\u001b[0;34m\u001b[0m\u001b[0;34m\u001b[0m\u001b[0m\n",
      "\u001b[1;32m     11 \u001b[0m        \u001b[0mlogging_level_out\u001b[0m \u001b[0;34m=\u001b[0m \u001b[0mget_logging_level\u001b[0m \u001b[0;34m(\u001b[0m\u001b[0mverbose_out\u001b[0m\u001b[0;34m)\u001b[0m\u001b[0;34m\u001b[0m\u001b[0;34m\u001b[0m\u001b[0m\n",
      "\u001b[1;32m     12 \u001b[0m    \u001b[0;32melse\u001b[0m\u001b[0;34m:\u001b[0m\u001b[0;34m\u001b[0m\u001b[0;34m\u001b[0m\u001b[0m\n",
      "\u001b[1;32m     13 \u001b[0m        \u001b[0mlogging_level_out\u001b[0m \u001b[0;34m=\u001b[0m \u001b[0mlogging_level\u001b[0m\u001b[0;34m\u001b[0m\u001b[0;34m\u001b[0m\u001b[0m\n",
      "\u001b[1;32m     14 \u001b[0m    \u001b[0mlogger\u001b[0m\u001b[0;34m.\u001b[0m\u001b[0msetLevel\u001b[0m\u001b[0;34m(\u001b[0m\u001b[0mlogging_level\u001b[0m\u001b[0;34m)\u001b[0m\u001b[0;34m\u001b[0m\u001b[0;34m\u001b[0m\u001b[0m\n",
      "\u001b[1;32m     15 \u001b[0m\u001b[0;34m\u001b[0m\u001b[0m\n",
      "\u001b[1;32m     16 \u001b[0m    \u001b[0;32mfor\u001b[0m \u001b[0mhdlr\u001b[0m \u001b[0;32min\u001b[0m \u001b[0mlogger\u001b[0m\u001b[0;34m.\u001b[0m\u001b[0mhandlers\u001b[0m\u001b[0;34m[\u001b[0m\u001b[0;34m:\u001b[0m\u001b[0;34m]\u001b[0m\u001b[0;34m:\u001b[0m  \u001b[0;31m# remove all old handlers\u001b[0m\u001b[0;34m\u001b[0m\u001b[0;34m\u001b[0m\u001b[0m\n",
      "\u001b[1;32m     17 \u001b[0m        \u001b[0mlogger\u001b[0m\u001b[0;34m.\u001b[0m\u001b[0mremoveHandler\u001b[0m\u001b[0;34m(\u001b[0m\u001b[0mhdlr\u001b[0m\u001b[0;34m)\u001b[0m\u001b[0;34m\u001b[0m\u001b[0;34m\u001b[0m\u001b[0m\n",
      "\u001b[1;32m     18 \u001b[0m\u001b[0;34m\u001b[0m\u001b[0m\n",
      "\u001b[1;32m     19 \u001b[0m    \u001b[0;31m#if not logger.hasHandlers():\u001b[0m\u001b[0;34m\u001b[0m\u001b[0;34m\u001b[0m\u001b[0;34m\u001b[0m\u001b[0m\n",
      "\u001b[1;32m     20 \u001b[0m\u001b[0;34m\u001b[0m\u001b[0m\n",
      "\u001b[1;32m     21 \u001b[0m    \u001b[0;31m# Create handlers\u001b[0m\u001b[0;34m\u001b[0m\u001b[0;34m\u001b[0m\u001b[0;34m\u001b[0m\u001b[0m\n",
      "\u001b[1;32m     22 \u001b[0m    \u001b[0;32mif\u001b[0m \u001b[0mstdout\u001b[0m\u001b[0;34m:\u001b[0m\u001b[0;34m\u001b[0m\u001b[0;34m\u001b[0m\u001b[0m\n",
      "\u001b[1;32m     23 \u001b[0m        \u001b[0mc_handler\u001b[0m \u001b[0;34m=\u001b[0m \u001b[0mlogging\u001b[0m\u001b[0;34m.\u001b[0m\u001b[0mStreamHandler\u001b[0m\u001b[0;34m(\u001b[0m\u001b[0;34m)\u001b[0m\u001b[0;34m\u001b[0m\u001b[0;34m\u001b[0m\u001b[0m\n",
      "\u001b[1;32m     24 \u001b[0m        \u001b[0mc_handler\u001b[0m\u001b[0;34m.\u001b[0m\u001b[0msetLevel\u001b[0m\u001b[0;34m(\u001b[0m\u001b[0mlogging_level_out\u001b[0m\u001b[0;34m)\u001b[0m\u001b[0;34m\u001b[0m\u001b[0;34m\u001b[0m\u001b[0m\n",
      "\u001b[1;32m     25 \u001b[0m        \u001b[0mc_format\u001b[0m \u001b[0;34m=\u001b[0m \u001b[0mlogging\u001b[0m\u001b[0;34m.\u001b[0m\u001b[0mFormatter\u001b[0m\u001b[0;34m(\u001b[0m\u001b[0;34m'%(message)s'\u001b[0m\u001b[0;34m)\u001b[0m\u001b[0;34m\u001b[0m\u001b[0;34m\u001b[0m\u001b[0m\n",
      "\u001b[1;32m     26 \u001b[0m        \u001b[0mc_handler\u001b[0m\u001b[0;34m.\u001b[0m\u001b[0msetFormatter\u001b[0m\u001b[0;34m(\u001b[0m\u001b[0mc_format\u001b[0m\u001b[0;34m)\u001b[0m\u001b[0;34m\u001b[0m\u001b[0;34m\u001b[0m\u001b[0m\n",
      "\u001b[1;32m     27 \u001b[0m        \u001b[0mlogger\u001b[0m\u001b[0;34m.\u001b[0m\u001b[0maddHandler\u001b[0m\u001b[0;34m(\u001b[0m\u001b[0mc_handler\u001b[0m\u001b[0;34m)\u001b[0m\u001b[0;34m\u001b[0m\u001b[0;34m\u001b[0m\u001b[0m\n",
      "\u001b[1;32m     28 \u001b[0m\u001b[0;34m\u001b[0m\u001b[0m\n",
      "\u001b[1;32m     29 \u001b[0m    \u001b[0;32mif\u001b[0m \u001b[0mfilename\u001b[0m \u001b[0;32mis\u001b[0m \u001b[0;32mnot\u001b[0m \u001b[0;32mNone\u001b[0m \u001b[0;32mand\u001b[0m \u001b[0mpath_results\u001b[0m \u001b[0;32mis\u001b[0m \u001b[0;32mnot\u001b[0m \u001b[0;32mNone\u001b[0m\u001b[0;34m:\u001b[0m\u001b[0;34m\u001b[0m\u001b[0;34m\u001b[0m\u001b[0m\n",
      "\u001b[1;32m     30 \u001b[0m        \u001b[0mos\u001b[0m\u001b[0;34m.\u001b[0m\u001b[0mmakedirs\u001b[0m\u001b[0;34m(\u001b[0m\u001b[0mpath_results\u001b[0m\u001b[0;34m,\u001b[0m \u001b[0mexist_ok\u001b[0m\u001b[0;34m=\u001b[0m\u001b[0;32mTrue\u001b[0m\u001b[0;34m)\u001b[0m\u001b[0;34m\u001b[0m\u001b[0;34m\u001b[0m\u001b[0m\n",
      "\u001b[1;32m     31 \u001b[0m        \u001b[0mpath_to_log_file\u001b[0m \u001b[0;34m=\u001b[0m \u001b[0;34mf'{path_results}/{filename}'\u001b[0m\u001b[0;34m\u001b[0m\u001b[0;34m\u001b[0m\u001b[0m\n",
      "\u001b[1;32m     32 \u001b[0m        \u001b[0;31m#pdb.set_trace()\u001b[0m\u001b[0;34m\u001b[0m\u001b[0;34m\u001b[0m\u001b[0;34m\u001b[0m\u001b[0m\n",
      "\u001b[1;32m     33 \u001b[0m        \u001b[0;32mif\u001b[0m \u001b[0mprint_path\u001b[0m\u001b[0;34m:\u001b[0m \u001b[0mprint\u001b[0m \u001b[0;34m(\u001b[0m\u001b[0;34mf'log written in {os.path.abspath(path_to_log_file)}'\u001b[0m\u001b[0;34m)\u001b[0m\u001b[0;34m\u001b[0m\u001b[0;34m\u001b[0m\u001b[0m\n",
      "\u001b[1;32m     34 \u001b[0m        \u001b[0mf_handler\u001b[0m \u001b[0;34m=\u001b[0m \u001b[0mlogging\u001b[0m\u001b[0;34m.\u001b[0m\u001b[0mFileHandler\u001b[0m \u001b[0;34m(\u001b[0m\u001b[0mpath_to_log_file\u001b[0m\u001b[0;34m,\u001b[0m \u001b[0mmode\u001b[0m \u001b[0;34m=\u001b[0m \u001b[0mmode\u001b[0m\u001b[0;34m)\u001b[0m\u001b[0;34m\u001b[0m\u001b[0;34m\u001b[0m\u001b[0m\n",
      "\u001b[1;32m     35 \u001b[0m        \u001b[0mf_handler\u001b[0m\u001b[0;34m.\u001b[0m\u001b[0msetLevel\u001b[0m\u001b[0;34m(\u001b[0m\u001b[0mlogging_level\u001b[0m\u001b[0;34m)\u001b[0m\u001b[0;34m\u001b[0m\u001b[0;34m\u001b[0m\u001b[0m\n",
      "\u001b[1;32m     36 \u001b[0m        \u001b[0;32mif\u001b[0m \u001b[0mjust_message\u001b[0m\u001b[0;34m:\u001b[0m\u001b[0;34m\u001b[0m\u001b[0;34m\u001b[0m\u001b[0m\n",
      "\u001b[1;32m     37 \u001b[0m            \u001b[0mf_format\u001b[0m \u001b[0;34m=\u001b[0m \u001b[0mlogging\u001b[0m\u001b[0;34m.\u001b[0m\u001b[0mFormatter\u001b[0m\u001b[0;34m(\u001b[0m\u001b[0;34m'%(asctime)s - %(message)s'\u001b[0m\u001b[0;34m)\u001b[0m\u001b[0;34m\u001b[0m\u001b[0;34m\u001b[0m\u001b[0m\n",
      "\u001b[1;32m     38 \u001b[0m        \u001b[0;32melse\u001b[0m\u001b[0;34m:\u001b[0m\u001b[0;34m\u001b[0m\u001b[0;34m\u001b[0m\u001b[0m\n",
      "\u001b[1;32m     39 \u001b[0m            \u001b[0mf_format\u001b[0m \u001b[0;34m=\u001b[0m \u001b[0mlogging\u001b[0m\u001b[0;34m.\u001b[0m\u001b[0mFormatter\u001b[0m\u001b[0;34m(\u001b[0m\u001b[0;34m'%(asctime)s - %(name)s - %(levelname)s {%(filename)s:%(funcName)s:%(lineno)d} - %(message)s'\u001b[0m\u001b[0;34m)\u001b[0m\u001b[0;34m\u001b[0m\u001b[0;34m\u001b[0m\u001b[0m\n",
      "\u001b[1;32m     40 \u001b[0m        \u001b[0mf_handler\u001b[0m\u001b[0;34m.\u001b[0m\u001b[0msetFormatter\u001b[0m\u001b[0;34m(\u001b[0m\u001b[0mf_format\u001b[0m\u001b[0;34m)\u001b[0m\u001b[0;34m\u001b[0m\u001b[0;34m\u001b[0m\u001b[0m\n",
      "\u001b[1;32m     41 \u001b[0m        \u001b[0mlogger\u001b[0m\u001b[0;34m.\u001b[0m\u001b[0maddHandler\u001b[0m\u001b[0;34m(\u001b[0m\u001b[0mf_handler\u001b[0m\u001b[0;34m)\u001b[0m\u001b[0;34m\u001b[0m\u001b[0;34m\u001b[0m\u001b[0m\n",
      "\u001b[1;32m     42 \u001b[0m    \u001b[0;31m#logger.propagate = 0\u001b[0m\u001b[0;34m\u001b[0m\u001b[0;34m\u001b[0m\u001b[0;34m\u001b[0m\u001b[0m\n",
      "\u001b[1;32m     43 \u001b[0m    \u001b[0mlogger\u001b[0m\u001b[0;34m.\u001b[0m\u001b[0mpropagate\u001b[0m \u001b[0;34m=\u001b[0m \u001b[0;32mFalse\u001b[0m\u001b[0;34m\u001b[0m\u001b[0;34m\u001b[0m\u001b[0m\n",
      "\u001b[1;32m     44 \u001b[0m\u001b[0;34m\u001b[0m\u001b[0m\n",
      "\u001b[1;32m     45 \u001b[0m    \u001b[0;32mreturn\u001b[0m \u001b[0mlogger\u001b[0m\u001b[0;34m\u001b[0m\u001b[0;34m\u001b[0m\u001b[0m\n",
      "\n"
     ]
    },
    {
     "name": "stdin",
     "output_type": "stream",
     "text": [
      "ipdb>  b 22\n"
     ]
    },
    {
     "name": "stdout",
     "output_type": "stream",
     "text": [
      "Breakpoint 4 at /tmp/ipykernel_63467/3883365675.py:22\n"
     ]
    },
    {
     "name": "stdin",
     "output_type": "stream",
     "text": [
      "ipdb>  c\n"
     ]
    },
    {
     "name": "stdout",
     "output_type": "stream",
     "text": [
      "> \u001b[0;32m/tmp/ipykernel_63467/3883365675.py\u001b[0m(22)\u001b[0;36mset_logger\u001b[0;34m()\u001b[0m\n",
      "\u001b[0;32m     20 \u001b[0;31m\u001b[0;34m\u001b[0m\u001b[0m\n",
      "\u001b[0m\u001b[0;32m     21 \u001b[0;31m    \u001b[0;31m# Create handlers\u001b[0m\u001b[0;34m\u001b[0m\u001b[0;34m\u001b[0m\u001b[0;34m\u001b[0m\u001b[0m\n",
      "\u001b[0m\u001b[1;31m4\u001b[0;32m--> 22 \u001b[0;31m    \u001b[0;32mif\u001b[0m \u001b[0mstdout\u001b[0m\u001b[0;34m:\u001b[0m\u001b[0;34m\u001b[0m\u001b[0;34m\u001b[0m\u001b[0m\n",
      "\u001b[0m\u001b[0;32m     23 \u001b[0;31m        \u001b[0mc_handler\u001b[0m \u001b[0;34m=\u001b[0m \u001b[0mlogging\u001b[0m\u001b[0;34m.\u001b[0m\u001b[0mStreamHandler\u001b[0m\u001b[0;34m(\u001b[0m\u001b[0;34m)\u001b[0m\u001b[0;34m\u001b[0m\u001b[0;34m\u001b[0m\u001b[0m\n",
      "\u001b[0m\u001b[0;32m     24 \u001b[0;31m        \u001b[0mc_handler\u001b[0m\u001b[0;34m.\u001b[0m\u001b[0msetLevel\u001b[0m\u001b[0;34m(\u001b[0m\u001b[0mlogging_level_out\u001b[0m\u001b[0;34m)\u001b[0m\u001b[0;34m\u001b[0m\u001b[0;34m\u001b[0m\u001b[0m\n",
      "\u001b[0m\n"
     ]
    },
    {
     "name": "stdin",
     "output_type": "stream",
     "text": [
      "ipdb>  logger.handlers\n"
     ]
    },
    {
     "name": "stdout",
     "output_type": "stream",
     "text": [
      "[]\n"
     ]
    },
    {
     "name": "stdin",
     "output_type": "stream",
     "text": [
      "ipdb>  n\n"
     ]
    },
    {
     "name": "stdout",
     "output_type": "stream",
     "text": [
      "> \u001b[0;32m/tmp/ipykernel_63467/3883365675.py\u001b[0m(29)\u001b[0;36mset_logger\u001b[0;34m()\u001b[0m\n",
      "\u001b[0;32m     27 \u001b[0;31m        \u001b[0mlogger\u001b[0m\u001b[0;34m.\u001b[0m\u001b[0maddHandler\u001b[0m\u001b[0;34m(\u001b[0m\u001b[0mc_handler\u001b[0m\u001b[0;34m)\u001b[0m\u001b[0;34m\u001b[0m\u001b[0;34m\u001b[0m\u001b[0m\n",
      "\u001b[0m\u001b[0;32m     28 \u001b[0;31m\u001b[0;34m\u001b[0m\u001b[0m\n",
      "\u001b[0m\u001b[0;32m---> 29 \u001b[0;31m    \u001b[0;32mif\u001b[0m \u001b[0mfilename\u001b[0m \u001b[0;32mis\u001b[0m \u001b[0;32mnot\u001b[0m \u001b[0;32mNone\u001b[0m \u001b[0;32mand\u001b[0m \u001b[0mpath_results\u001b[0m \u001b[0;32mis\u001b[0m \u001b[0;32mnot\u001b[0m \u001b[0;32mNone\u001b[0m\u001b[0;34m:\u001b[0m\u001b[0;34m\u001b[0m\u001b[0;34m\u001b[0m\u001b[0m\n",
      "\u001b[0m\u001b[0;32m     30 \u001b[0;31m        \u001b[0mos\u001b[0m\u001b[0;34m.\u001b[0m\u001b[0mmakedirs\u001b[0m\u001b[0;34m(\u001b[0m\u001b[0mpath_results\u001b[0m\u001b[0;34m,\u001b[0m \u001b[0mexist_ok\u001b[0m\u001b[0;34m=\u001b[0m\u001b[0;32mTrue\u001b[0m\u001b[0;34m)\u001b[0m\u001b[0;34m\u001b[0m\u001b[0;34m\u001b[0m\u001b[0m\n",
      "\u001b[0m\u001b[0;32m     31 \u001b[0;31m        \u001b[0mpath_to_log_file\u001b[0m \u001b[0;34m=\u001b[0m \u001b[0;34mf'{path_results}/{filename}'\u001b[0m\u001b[0;34m\u001b[0m\u001b[0;34m\u001b[0m\u001b[0m\n",
      "\u001b[0m\n"
     ]
    },
    {
     "name": "stdin",
     "output_type": "stream",
     "text": [
      "ipdb>  \n"
     ]
    },
    {
     "name": "stdout",
     "output_type": "stream",
     "text": [
      "> \u001b[0;32m/tmp/ipykernel_63467/3883365675.py\u001b[0m(43)\u001b[0;36mset_logger\u001b[0;34m()\u001b[0m\n",
      "\u001b[0;32m     41 \u001b[0;31m        \u001b[0mlogger\u001b[0m\u001b[0;34m.\u001b[0m\u001b[0maddHandler\u001b[0m\u001b[0;34m(\u001b[0m\u001b[0mf_handler\u001b[0m\u001b[0;34m)\u001b[0m\u001b[0;34m\u001b[0m\u001b[0;34m\u001b[0m\u001b[0m\n",
      "\u001b[0m\u001b[0;32m     42 \u001b[0;31m    \u001b[0;31m#logger.propagate = 0\u001b[0m\u001b[0;34m\u001b[0m\u001b[0;34m\u001b[0m\u001b[0;34m\u001b[0m\u001b[0m\n",
      "\u001b[0m\u001b[0;32m---> 43 \u001b[0;31m    \u001b[0mlogger\u001b[0m\u001b[0;34m.\u001b[0m\u001b[0mpropagate\u001b[0m \u001b[0;34m=\u001b[0m \u001b[0;32mFalse\u001b[0m\u001b[0;34m\u001b[0m\u001b[0;34m\u001b[0m\u001b[0m\n",
      "\u001b[0m\u001b[0;32m     44 \u001b[0;31m\u001b[0;34m\u001b[0m\u001b[0m\n",
      "\u001b[0m\u001b[0;32m     45 \u001b[0;31m    \u001b[0;32mreturn\u001b[0m \u001b[0mlogger\u001b[0m\u001b[0;34m\u001b[0m\u001b[0;34m\u001b[0m\u001b[0m\n",
      "\u001b[0m\n"
     ]
    },
    {
     "name": "stdin",
     "output_type": "stream",
     "text": [
      "ipdb>  n\n"
     ]
    },
    {
     "name": "stdout",
     "output_type": "stream",
     "text": [
      "> \u001b[0;32m/tmp/ipykernel_63467/3883365675.py\u001b[0m(45)\u001b[0;36mset_logger\u001b[0;34m()\u001b[0m\n",
      "\u001b[0;32m     41 \u001b[0;31m        \u001b[0mlogger\u001b[0m\u001b[0;34m.\u001b[0m\u001b[0maddHandler\u001b[0m\u001b[0;34m(\u001b[0m\u001b[0mf_handler\u001b[0m\u001b[0;34m)\u001b[0m\u001b[0;34m\u001b[0m\u001b[0;34m\u001b[0m\u001b[0m\n",
      "\u001b[0m\u001b[0;32m     42 \u001b[0;31m    \u001b[0;31m#logger.propagate = 0\u001b[0m\u001b[0;34m\u001b[0m\u001b[0;34m\u001b[0m\u001b[0;34m\u001b[0m\u001b[0m\n",
      "\u001b[0m\u001b[0;32m     43 \u001b[0;31m    \u001b[0mlogger\u001b[0m\u001b[0;34m.\u001b[0m\u001b[0mpropagate\u001b[0m \u001b[0;34m=\u001b[0m \u001b[0;32mFalse\u001b[0m\u001b[0;34m\u001b[0m\u001b[0;34m\u001b[0m\u001b[0m\n",
      "\u001b[0m\u001b[0;32m     44 \u001b[0;31m\u001b[0;34m\u001b[0m\u001b[0m\n",
      "\u001b[0m\u001b[0;32m---> 45 \u001b[0;31m    \u001b[0;32mreturn\u001b[0m \u001b[0mlogger\u001b[0m\u001b[0;34m\u001b[0m\u001b[0;34m\u001b[0m\u001b[0m\n",
      "\u001b[0m\n"
     ]
    },
    {
     "name": "stdin",
     "output_type": "stream",
     "text": [
      "ipdb>  logger.handlers\n"
     ]
    },
    {
     "name": "stdout",
     "output_type": "stream",
     "text": [
      "[]\n"
     ]
    },
    {
     "name": "stdin",
     "output_type": "stream",
     "text": [
      "ipdb>  logger.critical('hello')\n"
     ]
    },
    {
     "name": "stderr",
     "output_type": "stream",
     "text": [
      "hello\n"
     ]
    },
    {
     "name": "stdin",
     "output_type": "stream",
     "text": [
      "ipdb>  logger.removeHandler(sys.stderr)\n",
      "ipdb>  logger.critical('hello')\n"
     ]
    },
    {
     "name": "stderr",
     "output_type": "stream",
     "text": [
      "hello\n"
     ]
    },
    {
     "name": "stdin",
     "output_type": "stream",
     "text": [
      "ipdb>  logger.propagate\n"
     ]
    },
    {
     "name": "stdout",
     "output_type": "stream",
     "text": [
      "False\n"
     ]
    },
    {
     "name": "stdin",
     "output_type": "stream",
     "text": [
      "ipdb>  logger.removeHandler(sys.stdout)\n",
      "ipdb>  logger.critical('hello')\n"
     ]
    },
    {
     "name": "stderr",
     "output_type": "stream",
     "text": [
      "hello\n"
     ]
    },
    {
     "name": "stdin",
     "output_type": "stream",
     "text": [
      "ipdb>  logger.handlers\n"
     ]
    },
    {
     "name": "stdout",
     "output_type": "stream",
     "text": [
      "[]\n"
     ]
    },
    {
     "name": "stdin",
     "output_type": "stream",
     "text": [
      "ipdb>  logger.warning('hello')\n"
     ]
    },
    {
     "name": "stderr",
     "output_type": "stream",
     "text": [
      "hello\n"
     ]
    },
    {
     "name": "stdin",
     "output_type": "stream",
     "text": [
      "ipdb>  logger.info('hello')\n",
      "ipdb>  quit\n"
     ]
    }
   ],
   "source": [
    "tst.run (test_set_logger, tag='dummy')"
   ]
  },
  {
   "cell_type": "markdown",
   "id": "00d67225-1281-4d8f-acf2-9fe10248e6a2",
   "metadata": {},
   "source": [
    "## remove_previous_results"
   ]
  },
  {
   "cell_type": "code",
   "execution_count": 11,
   "id": "914b164c",
   "metadata": {},
   "outputs": [],
   "source": [
    "# export\n",
    "def remove_previous_results (path_results=dflt.path_results):\n",
    "    \"\"\"Remove folder containing previous results, if exists.\"\"\"\n",
    "    if Path(path_results).exists():\n",
    "        shutil.rmtree(path_results)"
   ]
  },
  {
   "cell_type": "markdown",
   "id": "085e6f65-1963-4b80-a53a-0ca53d7e4289",
   "metadata": {
    "tags": []
   },
   "source": [
    "## set_tf_loglevel"
   ]
  },
  {
   "cell_type": "code",
   "execution_count": 12,
   "id": "a4f4d794",
   "metadata": {
    "tags": []
   },
   "outputs": [],
   "source": [
    "# export\n",
    "def set_tf_loglevel(level):\n",
    "    if level >= logging.FATAL:\n",
    "        os.environ['TF_CPP_MIN_LOG_LEVEL'] = '3'\n",
    "    if level >= logging.ERROR:\n",
    "        os.environ['TF_CPP_MIN_LOG_LEVEL'] = '2'\n",
    "    if level >= logging.WARNING:\n",
    "        os.environ['TF_CPP_MIN_LOG_LEVEL'] = '1'\n",
    "    else:\n",
    "        os.environ['TF_CPP_MIN_LOG_LEVEL'] = '0'\n",
    "    logging.getLogger('tensorflow').setLevel(level)\n",
    "    \n",
    "    try:\n",
    "        import tensorflow as tf\n",
    "    except:\n",
    "        print ('tensorflow needs to be installed in order to call set_tf_loglevel()')\n",
    "        \n",
    "    tf.get_logger().setLevel(level)"
   ]
  },
  {
   "cell_type": "markdown",
   "id": "00f14575-28a9-4f3d-8e58-87f491655138",
   "metadata": {},
   "source": [
    "### Usage example"
   ]
  },
  {
   "cell_type": "code",
   "execution_count": 13,
   "id": "7a12809d-278f-4a12-ae0f-7c689fd7a2e1",
   "metadata": {},
   "outputs": [],
   "source": [
    "# exports tests.utils.test_utils\n",
    "#@pytest.mark.reference_fails\n",
    "def test_set_tf_loglevel ():\n",
    "    set_tf_loglevel (logging.DEBUG)\n",
    "    assert logging.getLogger('tensorflow').getEffectiveLevel()==logging.DEBUG"
   ]
  },
  {
   "cell_type": "code",
   "execution_count": 14,
   "id": "e41d642a-9be5-469f-a69a-e9db84d72c1d",
   "metadata": {},
   "outputs": [
    {
     "name": "stdout",
     "output_type": "stream",
     "text": [
      "running test_set_tf_loglevel\n"
     ]
    }
   ],
   "source": [
    "tst.run (test_set_tf_loglevel, tag='dummy', debug=False)"
   ]
  },
  {
   "cell_type": "markdown",
   "id": "6b1b04d5-0af7-43e1-8950-176da34770f4",
   "metadata": {},
   "source": [
    "## store_attrs"
   ]
  },
  {
   "cell_type": "markdown",
   "id": "82814ded-0da2-40ce-b74a-64c1b6bed7a9",
   "metadata": {},
   "source": [
    "### _store_attr"
   ]
  },
  {
   "cell_type": "code",
   "execution_count": 15,
   "id": "2108922c-d1ea-4d98-8e82-f83b1edb7a65",
   "metadata": {},
   "outputs": [],
   "source": [
    "#export\n",
    "def argnames(f, frame=False):\n",
    "    \"Names of arguments to function or frame `f`\"\n",
    "    code = getattr(f, 'f_code' if frame else '__code__')\n",
    "    return code.co_varnames[:code.co_argcount+code.co_kwonlyargcount]"
   ]
  },
  {
   "cell_type": "code",
   "execution_count": 16,
   "id": "0fa9d1a6-fcb3-48b2-93ed-0f22705fe455",
   "metadata": {},
   "outputs": [],
   "source": [
    "#export\n",
    "def _store_attr(self, overwrite=False, error_if_present=False, ignore=set(), **attrs):\n",
    "    stored = getattr(self, '__stored_args__', None)\n",
    "    for n,v in attrs.items():\n",
    "        if hasattr(self, n) and not overwrite:\n",
    "            if (error_if_present and getattr(self, n) is not v and n not in ignore \n",
    "                and not callable(getattr(self, n))):\n",
    "                raise RuntimeError (f'field {n} already present in {self}')\n",
    "            continue\n",
    "        setattr(self, n, v)\n",
    "        if stored is not None: stored[n] = v"
   ]
  },
  {
   "cell_type": "markdown",
   "id": "9dcb1793-241a-4c23-a020-6ac824014ef8",
   "metadata": {},
   "source": [
    "### obtain_class_specific_attrs"
   ]
  },
  {
   "cell_type": "code",
   "execution_count": 17,
   "id": "e2fc6994-9225-49e7-9ff3-184136ebf37f",
   "metadata": {},
   "outputs": [],
   "source": [
    "#export\n",
    "def get_specific_dict_param (self, **kwargs):\n",
    "    if (hasattr(self, 'name') and \n",
    "        kwargs.get(self.name) is not None and\n",
    "        isinstance(kwargs[self.name], dict)):\n",
    "        k = self.name\n",
    "    elif (hasattr(self, 'class_name') and \n",
    "        kwargs.get(self.class_name) is not None and\n",
    "        isinstance(kwargs[self.class_name], dict)):\n",
    "        k = self.class_name\n",
    "    elif (hasattr(self, 'group') and \n",
    "        kwargs.get(self.group) is not None and\n",
    "        isinstance(kwargs[self.group], dict)):\n",
    "        k = self.group\n",
    "    elif (hasattr(self, 'hierarchy_level') and \n",
    "        kwargs.get('levels') is not None and\n",
    "        isinstance(kwargs['levels'], dict) and\n",
    "        'until' in kwargs['levels'] and \n",
    "        self.hierarchy_level <= kwargs['levels']['until']):\n",
    "        k = 'levels'\n",
    "    else:\n",
    "        k = None\n",
    "    \n",
    "    return k\n",
    "\n",
    "def obtain_class_specific_attrs (self, **kwargs):\n",
    "    \"\"\"Overwrites parameters in kwargs with those found in a dictionary of the same name \n",
    "    given to this component.\n",
    "\n",
    "    Checks if there is a parameter whose name is the name of the class or the name given \n",
    "    to this component. In that case, it overwrites the parameters in kwargs with those \n",
    "    found in that dictionary. The parameters in kwargs can be used as *global* parameters\n",
    "    for multiple components, while parameters specific of one component can be set using \n",
    "    a dictionary with the name of that component. See example below.\n",
    "    \"\"\"\n",
    "    k = get_specific_dict_param (self, **kwargs)\n",
    "    \n",
    "    if k is not None:\n",
    "        config = kwargs[k]\n",
    "    else:\n",
    "        config = {}\n",
    "\n",
    "    return config"
   ]
  },
  {
   "cell_type": "markdown",
   "id": "8200eb0b-a4e5-4234-865a-fe66c2fe831c",
   "metadata": {},
   "source": [
    "### get_hierarchy_level"
   ]
  },
  {
   "cell_type": "code",
   "execution_count": 18,
   "id": "04b34a03-ca8c-46e3-ae60-333577f6b5cd",
   "metadata": {},
   "outputs": [],
   "source": [
    "# export\n",
    "def get_hierarchy_level (base_class=object):\n",
    "    stack = inspect.stack()\n",
    "    hierarchy_level=0\n",
    "    last_type = None\n",
    "    for frame_number in range(1, len(stack)):\n",
    "        fr = sys._getframe(frame_number)\n",
    "        fr_stack = stack[frame_number]\n",
    "        if fr is not fr_stack[0]:\n",
    "            raise RuntimeError ('fr is not fr_stack[0]')\n",
    "            \n",
    "        args = argnames(fr, True)\n",
    "        if len(args) > 0:\n",
    "            self = fr.f_locals[args[0]]\n",
    "            if last_type is None:\n",
    "                last_type = type(self)\n",
    "            if ((fr_stack.function == '__init__') and \n",
    "                isinstance(self, base_class) and \n",
    "                (type(self) != last_type) ):\n",
    "                hierarchy_level += 1\n",
    "                last_type = type(self)\n",
    "    return hierarchy_level"
   ]
  },
  {
   "cell_type": "markdown",
   "id": "0de0e983-56de-4281-a878-0e1c54c01570",
   "metadata": {},
   "source": [
    "#### test get_hierarchy_level"
   ]
  },
  {
   "cell_type": "code",
   "execution_count": 19,
   "id": "a5c1e796-a4cb-478c-8fb2-17e17775cf5f",
   "metadata": {},
   "outputs": [],
   "source": [
    "# exports tests.utils.test_utils\n",
    "#@pytest.mark.reference_fails\n",
    "def test_get_hierarchy ():\n",
    "    def f (**kwargs):\n",
    "        return B(**kwargs)\n",
    "\n",
    "    class A ():\n",
    "        def __init__ (self, x=3, **kwargs):\n",
    "            self.hierarchy_level = get_hierarchy_level(base_class=A)\n",
    "\n",
    "    class B(A):\n",
    "        def __init__ (self, y=10, **kwargs):\n",
    "            super().__init__ (**kwargs)\n",
    "            self.ab = A (**kwargs)\n",
    "\n",
    "    class C(B):\n",
    "        def __init__ (self, z=100, **kwargs):\n",
    "            super().__init__ (**kwargs)\n",
    "            self.a = A(**kwargs)\n",
    "            self.b = f(**kwargs)\n",
    "    class D(C):\n",
    "        def __init__ (self, h=100, **kwargs):\n",
    "            super().__init__ (**kwargs)\n",
    "            self.c = C(**kwargs)\n",
    "            self.b = f(**kwargs)\n",
    "    a = A()\n",
    "    b = B()\n",
    "    c = C()\n",
    "    d = D()\n",
    "\n",
    "    assert (a.hierarchy_level==0 and b.hierarchy_level==0 and c.hierarchy_level==0\n",
    "            and c.a.hierarchy_level==1 and c.b.hierarchy_level==1 and c.ab.hierarchy_level==1 \n",
    "            and c.b.ab.hierarchy_level==2 \n",
    "            and d.hierarchy_level == 0 and d.a.hierarchy_level == 1 and d.b.hierarchy_level == 1\n",
    "            and d.ab.hierarchy_level == 1 \n",
    "            and d.b.hierarchy_level==1 and d.b.ab.hierarchy_level==2 and d.c.b.ab.hierarchy_level==3)"
   ]
  },
  {
   "cell_type": "code",
   "execution_count": 20,
   "id": "f87184cf-7b05-4fdb-835f-fec6abb3e074",
   "metadata": {},
   "outputs": [
    {
     "name": "stdout",
     "output_type": "stream",
     "text": [
      "running test_get_hierarchy\n"
     ]
    }
   ],
   "source": [
    "tst.run (test_get_hierarchy, tag='dummy')"
   ]
  },
  {
   "cell_type": "markdown",
   "id": "eb22a5f4-3ae2-4c93-97fd-211044ddac1a",
   "metadata": {},
   "source": [
    "### replace_attr_and_store"
   ]
  },
  {
   "cell_type": "code",
   "execution_count": 21,
   "id": "ba222618-4219-4f74-aa96-b75ddbe91a3f",
   "metadata": {
    "tags": []
   },
   "outputs": [],
   "source": [
    "#export\n",
    "def replace_attr_and_store (names=None, but='', store_args=None, \n",
    "                            recursive=True, base_class=object, \n",
    "                            replace_generic_attr=True, overwrite=False,\n",
    "                            error_if_present=False, ignore=set(), overwrite_name=True, \n",
    "                            self=None, include_first=False, **attrs):\n",
    "    \"\"\"\n",
    "    Replaces generic attributes and stores them into attrs in `self`.\n",
    "        \n",
    "    If kwargs contains an attribute called the same way as the class of\n",
    "    self, all the keys in that dictionary are considered class-specific\n",
    "    attributes whose value overwrites any attribute in kwargs of the same\n",
    "    name.\n",
    "    \n",
    "    The function is called recursively in the hierarchy of parent classes, \n",
    "    from the leaf to the root class, until it reaches an ascendant that \n",
    "    is not an instance of `base_class`. \n",
    "    \n",
    "    Most of the implementation is taken from fastcore library, `store_attrs`\n",
    "    function.\n",
    "    \"\"\"\n",
    "    frame_number=1\n",
    "    stack = inspect.stack()\n",
    "    original_type = None\n",
    "    input_attrs = attrs\n",
    "    while True:\n",
    "        fr = sys._getframe(frame_number)\n",
    "        fr_stack = stack[frame_number]\n",
    "        if fr is not fr_stack[0]:\n",
    "            raise RuntimeError ('fr is not fr_stack[0]')\n",
    "        \n",
    "        args = argnames(fr, True)\n",
    "        if recursive:\n",
    "            if len(args) > 0:\n",
    "                self = fr.f_locals[args[0]]\n",
    "                if not isinstance(self, base_class):\n",
    "                    break\n",
    "                if fr_stack.function != '__init__':\n",
    "                    break\n",
    "                if original_type is None:\n",
    "                    original_type = type(self)\n",
    "                    \n",
    "                if type(self) != original_type:\n",
    "                    break\n",
    "            else:\n",
    "                break\n",
    "        else:\n",
    "            if self is not None:\n",
    "                if include_first:\n",
    "                    args = [self] + list(args) \n",
    "            elif len(args) > 0:\n",
    "                self = fr.f_locals[args[0]]\n",
    "            else:\n",
    "                raise RuntimeError ('self not found')\n",
    "        \n",
    "        if store_args is None: store_args = not hasattr(self,'__slots__')\n",
    "        if store_args and not hasattr(self, '__stored_args__'): self.__stored_args__ = {}\n",
    "        if names and isinstance(names,str): names = re.split(', *', names)\n",
    "        #pdb.set_trace()\n",
    "        ns = names if names is not None else getattr(self, '__slots__', args[1:])\n",
    "        added = {n:fr.f_locals[n] for n in ns}\n",
    "        attrs = {**input_attrs, **added}\n",
    "        if replace_generic_attr and 'kwargs' in fr.f_locals:\n",
    "            class_specific_attrs = obtain_class_specific_attrs (self, **fr.f_locals['kwargs'])\n",
    "            attrs.update(class_specific_attrs)\n",
    "        else:\n",
    "            class_specific_attrs={}\n",
    "        if isinstance(but,str): but = re.split(', *', but)\n",
    "        attrs = {k:v for k,v in attrs.items() if k not in but}\n",
    "        _store_attr(self, overwrite=overwrite, error_if_present=error_if_present, \n",
    "                    ignore=ignore, **attrs)\n",
    "        if overwrite_name and ('name' in class_specific_attrs \n",
    "                               or 'class_name' in class_specific_attrs):\n",
    "            new_attrs = {k:class_specific_attrs[k] for k in ['name', 'class_name'] \n",
    "                         if k in class_specific_attrs}\n",
    "            _store_attr(self, overwrite=True, error_if_present=error_if_present, \n",
    "                        ignore=ignore, **new_attrs)\n",
    "        \n",
    "        if not recursive:\n",
    "            break\n",
    "        \n",
    "        frame_number += 1\n",
    "        "
   ]
  },
  {
   "cell_type": "markdown",
   "id": "3d1ad14b-8d76-474c-aa53-9e5399e5e364",
   "metadata": {},
   "source": [
    "#### test replace_attr_and_store"
   ]
  },
  {
   "cell_type": "code",
   "execution_count": 22,
   "id": "1447e857-b007-454a-aa42-6fced4fb8c39",
   "metadata": {},
   "outputs": [
    {
     "data": {
      "text/plain": [
       "{3, 4}"
      ]
     },
     "execution_count": 22,
     "metadata": {},
     "output_type": "execute_result"
    }
   ],
   "source": [
    "ignore=set()\n",
    "ignore.update ({3,4})\n",
    "ignore"
   ]
  },
  {
   "cell_type": "code",
   "execution_count": 28,
   "id": "7c8d8bfd-d42f-41b2-a370-aa72efdbe6ea",
   "metadata": {},
   "outputs": [],
   "source": [
    "# exports tests.utils.test_utils\n",
    "#@pytest.mark.reference_fails\n",
    "def test_replace_attr_and_store ():\n",
    "    def f (**kwargs):\n",
    "        return B(**kwargs)\n",
    "\n",
    "    class A ():\n",
    "        def __init__ (self, x=3, **kwargs):\n",
    "            replace_attr_and_store (base_class=A)\n",
    "\n",
    "    class B(A):\n",
    "        def __init__ (self, y=10, **kwargs):\n",
    "            super().__init__ (**kwargs)\n",
    "            self.ab = A (**kwargs)\n",
    "\n",
    "    class C(A):\n",
    "        def __init__ (self, z=100, **kwargs):\n",
    "            super().__init__ (**kwargs)\n",
    "            self.a = A(**kwargs)\n",
    "            self.b = f(**kwargs)\n",
    "    a = A()\n",
    "    b = B()\n",
    "    c = C()\n",
    "\n",
    "    assert a.x==3 and b.y==10 and b.x==3 and c.z==100 and c.x==3 and c.a.x==3 and c.b.y==10 and c.b.x==3\n",
    "\n",
    "    with pytest.raises (AttributeError):\n",
    "        print (c.y)\n",
    "\n",
    "    with pytest.raises (AttributeError):\n",
    "        print (c.a.y)\n",
    "\n",
    "    with pytest.raises (AttributeError):\n",
    "        print (c.a.z)\n",
    "\n",
    "    with pytest.raises (AttributeError):\n",
    "        print (b.z)\n",
    "\n",
    "    with pytest.raises (AttributeError):\n",
    "        print (b.ab.y)\n",
    "        \n",
    "    # **************************************************\n",
    "    # test changing the argument\n",
    "    # **************************************************\n",
    "    def f2 (y=10, **kwargs):\n",
    "        y = 2*y\n",
    "        return B2 (y=y, **kwargs)\n",
    "\n",
    "    class A2 ():\n",
    "        def __init__ (self, x='hello', **kwargs):\n",
    "            x=f'{x} world'\n",
    "            replace_attr_and_store (base_class=A2)\n",
    "\n",
    "    class B2 (A2):\n",
    "        def __init__ (self, y=10, **kwargs):\n",
    "            super().__init__ (**kwargs)\n",
    "            self.ab = A2 (**kwargs)\n",
    "\n",
    "    class C2 (A2):\n",
    "        def __init__ (self, z=100, **kwargs):\n",
    "            super().__init__ (**kwargs)\n",
    "            self.a = A2(**kwargs)\n",
    "            self.b = f2 (**kwargs)\n",
    "    a = A2()\n",
    "    b = B2()\n",
    "    c = C2()\n",
    "    assert (a.x, b.x, b.ab.x) == ('hello world', 'hello world', 'hello world')\n",
    "    assert c.b.y == 20\n",
    "\n",
    "    a = A2 ('hey')\n",
    "    b = B2 ()\n",
    "    assert (a.x, b.x, b.ab.x) == ('hey world', 'hello world', 'hello world')\n",
    "\n",
    "    c = C2 (y=3, x='Hi')\n",
    "    assert (c.b.y, c.b.x) == (6, 'Hi world')\n",
    "    \n",
    "    # **************************************************\n",
    "    # test error_if_present\n",
    "    # **************************************************\n",
    "    \n",
    "    def f3 (**kwargs):\n",
    "        return B(**kwargs)\n",
    "\n",
    "    class A3 ():\n",
    "        def __init__ (self, x=3, ignore=set(), **kwargs):\n",
    "            replace_attr_and_store (base_class=A3, error_if_present=True,\n",
    "                                    ignore=ignore, but='ignore')\n",
    "\n",
    "    class B3(A3):\n",
    "        def __init__ (self, y=10, **kwargs):\n",
    "            super().__init__ (**kwargs)\n",
    "            self.ab = A3 (**kwargs)\n",
    "            \n",
    "    \n",
    "    a = A3()\n",
    "    \n",
    "    b = B3()\n",
    "    \n",
    "    b2 = B3(x=5, y=20)\n",
    "    \n",
    "    assert a.x==3 and b.y==10 and b.x==3 and b.ab.x==3 and b2.x==5 and b2.y==20 and b2.ab.x==5\n",
    "    \n",
    "    # *******************\n",
    "    # test using same field in B4 and in A3, but\n",
    "    # B4 passes that value to A3 in super()\n",
    "    # *****************\n",
    "    class B4(A3):\n",
    "        def __init__ (self, x=30, y=10, **kwargs):\n",
    "            super().__init__ (x=x, **kwargs)\n",
    "            self.ab = A3 (**kwargs)\n",
    "\n",
    "    b3 = B4 ()\n",
    "    assert b3.x==30 and b3.ab.x==3 and b3.y==10\n",
    "    \n",
    "    # *******************\n",
    "    # test using same field in B4 and in A3, but\n",
    "    # B4 passes that value to A3 in super(),\n",
    "    # after modifying it\n",
    "    # *****************\n",
    "    class B5(A3):\n",
    "        def __init__ (self, x=30, y=10, **kwargs):\n",
    "            x = x*2\n",
    "            super().__init__ (x=x, **kwargs)\n",
    "            self.ab = A3 (**kwargs)\n",
    "\n",
    "    b3 = B5 ()\n",
    "    assert b3.x==60 and b3.ab.x==3 and b3.y==10\n",
    "    \n",
    "    b3 = B5 (x=6)\n",
    "    assert b3.x==12 and b3.ab.x==3 and b3.y==10\n",
    "    \n",
    "    # *******************\n",
    "    # test using same field in D and in A3, but\n",
    "    # the field is modified in a parent B5\n",
    "    # *****************\n",
    "    class D(B5):\n",
    "        def __init__ (self, x=40, z=100, **kwargs):\n",
    "            super().__init__ (x=x, **kwargs)\n",
    "            self.b = B5(**kwargs)\n",
    "    \n",
    "    with pytest.raises (RuntimeError):\n",
    "        d = D ()\n",
    "        \n",
    "    d = D(ignore={'x'})\n",
    "    assert d.x==80 and d.y==10 and d.z==100 and d.b.x==60 and d.b.y==10\n",
    "    \n",
    "    d = D (x=9, ignore={'x'})\n",
    "    assert d.x==18 and d.y==10 and d.z==100 and d.b.x==60 and d.b.y==10\n",
    "    \n",
    "    assert not hasattr(d, 'ignore')\n",
    "    \n",
    "    # *******************\n",
    "    # test having a field with same name\n",
    "    # *******************\n",
    "    class C3(A3):\n",
    "        def __init__ (self, x=4, z=100, **kwargs):\n",
    "            super().__init__ (**kwargs)\n",
    "            self.a = A3(**kwargs)\n",
    "            self.b = f3(**kwargs)\n",
    "    \n",
    "    with pytest.raises (RuntimeError):\n",
    "        c = C3()\n",
    "        \n",
    "    # **************************************************\n",
    "    # test overwrite\n",
    "    # **************************************************\n",
    "    class A4 ():\n",
    "        def __init__ (self, x=3, **kwargs):\n",
    "            replace_attr_and_store (base_class=A4, overwrite=True)\n",
    "            \n",
    "    class C5(A4):\n",
    "        def __init__ (self, x=4, z=100, **kwargs):\n",
    "            super().__init__ (x=x, **kwargs)\n",
    "            self.a = A4(**kwargs)\n",
    "            \n",
    "    c = C5 ()\n",
    "    assert c.x == 4 and c.a.x==3"
   ]
  },
  {
   "cell_type": "code",
   "execution_count": 29,
   "id": "2d39ffa0-3335-42a7-b84e-a588fff7bfeb",
   "metadata": {},
   "outputs": [
    {
     "name": "stdout",
     "output_type": "stream",
     "text": [
      "running test_replace_attr_and_store\n"
     ]
    }
   ],
   "source": [
    "tst.run (test_replace_attr_and_store, tag='dummy', debug=False)"
   ]
  },
  {
   "cell_type": "markdown",
   "id": "691bd759-73e4-40b2-871c-c5cce43e8c51",
   "metadata": {},
   "source": [
    "#### test replace_attr_and_store without recursiveness"
   ]
  },
  {
   "cell_type": "code",
   "execution_count": 26,
   "id": "80f685dd-bc7d-41c5-b2fb-bcab4a67f003",
   "metadata": {},
   "outputs": [],
   "source": [
    "# exports tests.utils.test_utils\n",
    "#@pytest.mark.reference_fails\n",
    "def test_replace_attr_and_store_no_rec ():\n",
    "    # test without recursiveness\n",
    "    from sklearn.utils import Bunch\n",
    "\n",
    "    def f (x=3, y=4, z=5, **kwargs):\n",
    "        estimator = Bunch ()\n",
    "        replace_attr_and_store (recursive=False,\n",
    "                                self=estimator, include_first=True)\n",
    "        return estimator\n",
    "\n",
    "    estimator = f (y=40, z=50)\n",
    "\n",
    "    stored_args = estimator.pop('__stored_args__')\n",
    "    assert estimator=={'x': 3, 'y': 40, 'z': 50}\n",
    "    assert stored_args == estimator\n",
    "\n",
    "    # test without kwargs\n",
    "    def g (x=3, y=4, z=5):\n",
    "        estimator = Bunch ()\n",
    "        replace_attr_and_store (recursive=False,\n",
    "                                self=estimator, include_first=True)\n",
    "        return estimator\n",
    "\n",
    "    estimator = g (y=40, z=50)\n",
    "\n",
    "    stored_args = estimator.pop('__stored_args__')\n",
    "    assert estimator=={'x': 3, 'y': 40, 'z': 50}\n",
    "    assert stored_args == estimator\n",
    "\n",
    "    # test without kwargs and with replace_generic_attr=False\n",
    "    def h (x=3, y=4, z=5):\n",
    "        estimator = Bunch ()\n",
    "        replace_attr_and_store (recursive=False,\n",
    "                                self=estimator, include_first=True, replace_generic_attr=False)\n",
    "        return estimator\n",
    "\n",
    "    estimator = h (y=40, z=50)\n",
    "\n",
    "    stored_args = estimator.pop('__stored_args__')\n",
    "    assert estimator=={'x': 3, 'y': 40, 'z': 50}\n",
    "    assert stored_args == estimator"
   ]
  },
  {
   "cell_type": "code",
   "execution_count": 27,
   "id": "dbb80d6e-0e67-47bb-b3a7-7a23450996ac",
   "metadata": {},
   "outputs": [
    {
     "name": "stdout",
     "output_type": "stream",
     "text": [
      "running test_replace_attr_and_store_no_rec\n"
     ]
    }
   ],
   "source": [
    "tst.run (test_replace_attr_and_store_no_rec, tag='dummy')"
   ]
  }
 ],
 "metadata": {
  "kernelspec": {
   "display_name": "Python (block_types)",
   "language": "python",
   "name": "block_types"
  },
  "language_info": {
   "codemirror_mode": {
    "name": "ipython",
    "version": 3
   },
   "file_extension": ".py",
   "mimetype": "text/x-python",
   "name": "python",
   "nbconvert_exporter": "python",
   "pygments_lexer": "ipython3",
   "version": "3.7.10"
  }
 },
 "nbformat": 4,
 "nbformat_minor": 5
}
