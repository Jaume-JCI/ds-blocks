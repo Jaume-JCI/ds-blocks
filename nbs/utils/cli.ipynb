{
 "cells": [
  {
   "cell_type": "code",
   "execution_count": 1,
   "id": "e546acea-61b1-4c76-aa31-be9ea956d6fc",
   "metadata": {},
   "outputs": [],
   "source": [
    "# hide\n",
    "# default_exp utils.cli\n",
    "from nbdev.showdoc import *\n",
    "from dsblocks.utils.nbdev_utils import nbdev_setup, TestRunner\n",
    "\n",
    "nbdev_setup ()\n",
    "tst = TestRunner (targets=['dummy'])"
   ]
  },
  {
   "cell_type": "markdown",
   "id": "19772d63-c803-4920-8635-b718e858157b",
   "metadata": {},
   "source": [
    "# cli tools\n",
    "\n",
    "> CLI tools"
   ]
  },
  {
   "cell_type": "code",
   "execution_count": 15,
   "id": "bfbf6aa5-2a90-48f7-8c76-6e8d221554b9",
   "metadata": {},
   "outputs": [],
   "source": [
    "#export\n",
    "from nbdev.imports import *\n",
    "from nbdev.export import *\n",
    "from nbdev.sync import *\n",
    "from nbdev.merge import *\n",
    "from nbdev.export2html import *\n",
    "from nbdev.clean import *\n",
    "from nbdev.test import *\n",
    "from fastcore.script import *"
   ]
  },
  {
   "cell_type": "code",
   "execution_count": null,
   "id": "5fde3741-f71a-4351-a86e-0ac142702f2b",
   "metadata": {},
   "outputs": [],
   "source": [
    "#for tests\n",
    "import os"
   ]
  },
  {
   "cell_type": "code",
   "execution_count": 16,
   "id": "2c067151-64ff-4c1b-bde2-a460c101ea33",
   "metadata": {
    "tags": []
   },
   "outputs": [],
   "source": [
    "# export\n",
    "@call_parse\n",
    "def dsblocks_install_git_hooks():\n",
    "    \"Install git hooks to clean/trust notebooks automatically\"\n",
    "    try: path = get_config().config_file.parent\n",
    "    except: path = Path.cwd()\n",
    "    hook_path = path/'.git'/'hooks'\n",
    "    fn = hook_path/'pre-push'\n",
    "    hook_path.mkdir(parents=True, exist_ok=True)\n",
    "    \n",
    "    fn.write_text(\"\"\"#!/usr/bin/bash\n",
    "\n",
    "echo \"\\n==================== pre-push hook ====================\"\n",
    "\n",
    "# Export conda environment to yaml file\n",
    "conda env export > env.yml\n",
    "\n",
    "# Check if new environment file is different from original \n",
    "git diff --exit-code --quiet env.yml \n",
    "\n",
    "# If new environment file is different, commit it\n",
    "if [[ $? -eq 0 ]]; then\n",
    "    echo \"Conda environment not changed. No additional commit.\"\n",
    "else\n",
    "    echo \"Conda environment changed. Commiting new env.yml\"\n",
    "    git add env.yml\n",
    "    git commit -m \"Updating conda environment\"\n",
    "    echo 'You need to push again to push additional \"Updating conda environment\" commit.'\n",
    "    exit 1\n",
    "fi\n",
    "\"\"\")\n",
    "    \n",
    "    os.chmod(fn, os.stat(fn).st_mode | stat.S_IEXEC)\n",
    "    \n",
    "    fn = hook_path/'post-merge'\n",
    "    hook_path.mkdir(parents=True, exist_ok=True)\n",
    "    \n",
    "    fn.write_text(\"\"\"#!/usr/bin/bash\n",
    "\n",
    "echo \"\\n==================== post-merge hook ====================\"\n",
    "\n",
    "changed_files=\"$(git diff-tree -r --name-only --no-commit-id ORIG_HEAD HEAD)\"\n",
    "\n",
    "check_run() {\n",
    "    echo \"$changed_files\" | grep --quiet \"$1\" && eval \"$2\"\n",
    "}\n",
    "\n",
    "echo \"Have to update the conda environment\"\n",
    "check_run env.yml \"conda env update --file env.yml\"\n",
    "\"\"\")\n",
    "    \n",
    "    os.chmod(fn, os.stat(fn).st_mode | stat.S_IEXEC)"
   ]
  },
  {
   "cell_type": "markdown",
   "id": "430debf7-f10f-4e2b-87c6-97b509c55be6",
   "metadata": {},
   "source": [
    "### Usage example"
   ]
  },
  {
   "cell_type": "code",
   "execution_count": 17,
   "id": "bdec1c3a-980f-43a1-ac17-495f43c9ad8d",
   "metadata": {},
   "outputs": [],
   "source": [
    "# export tests.utils.test_cli  \n",
    "def test_dsblocks_install_git_hooks ():\n",
    "    if os.path.exists('.git/hooks/pre-push'):\n",
    "        os.remove ('.git/hooks/pre-push')\n",
    "\n",
    "    if os.path.exists('.git/hooks/post-merge'):\n",
    "        os.remove ('.git/hooks/post-merge')\n",
    "    \n",
    "    dsblocks_install_git_hooks ()\n",
    "    assert {'post-merge', 'pre-push'}.issubset(os.listdir ('.git/hooks'))\n",
    "    with open('.git/hooks/pre-push', 'rt') as f: txt = f.read ()\n",
    "    assert txt.startswith ('#!/usr/bin/bash\\n\\necho')\n",
    "    assert txt.endswith ('fi\\n')\n",
    "\n",
    "    with open('.git/hooks/post-merge', 'rt') as f: txt = f.read ()\n",
    "    assert txt.startswith ('#!/usr/bin/bash\\n\\necho')\n",
    "    assert txt.endswith ('le env.yml\"\\n')\n",
    "    \n",
    "    os.remove ('.git/hooks/pre-push')\n",
    "    os.remove ('.git/hooks/post-merge')"
   ]
  },
  {
   "cell_type": "code",
   "execution_count": 18,
   "id": "54e85370-fe4e-4a1c-a3e9-6f3dc479ee2b",
   "metadata": {},
   "outputs": [
    {
     "name": "stdout",
     "output_type": "stream",
     "text": [
      "running test_dsblocks_install_git_hooks\n"
     ]
    }
   ],
   "source": [
    "tst.run (test_dsblocks_install_git_hooks, tag='dummy')"
   ]
  }
 ],
 "metadata": {
  "kernelspec": {
   "display_name": "Python (dsblocks)",
   "language": "python",
   "name": "dsblocks"
  },
  "language_info": {
   "codemirror_mode": {
    "name": "ipython",
    "version": 3
   },
   "file_extension": ".py",
   "mimetype": "text/x-python",
   "name": "python",
   "nbconvert_exporter": "python",
   "pygments_lexer": "ipython3",
   "version": "3.9.12"
  }
 },
 "nbformat": 4,
 "nbformat_minor": 5
}
