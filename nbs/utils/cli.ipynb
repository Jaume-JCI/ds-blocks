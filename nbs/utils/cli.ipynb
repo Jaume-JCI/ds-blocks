{
 "cells": [
  {
   "cell_type": "code",
   "execution_count": null,
   "id": "e546acea-61b1-4c76-aa31-be9ea956d6fc",
   "metadata": {},
   "outputs": [],
   "source": [
    "# hide\n",
    "# default_exp utils.cli\n",
    "from nbdev.showdoc import *\n",
    "from dsblocks.utils.nbdev_utils import nbdev_setup, TestRunner\n",
    "\n",
    "nbdev_setup ()\n",
    "tst = TestRunner (targets=['dummy'])"
   ]
  },
  {
   "cell_type": "markdown",
   "id": "19772d63-c803-4920-8635-b718e858157b",
   "metadata": {},
   "source": [
    "# cli tools\n",
    "\n",
    "> CLI tools"
   ]
  },
  {
   "cell_type": "code",
   "execution_count": null,
   "id": "bfbf6aa5-2a90-48f7-8c76-6e8d221554b9",
   "metadata": {},
   "outputs": [],
   "source": [
    "#export\n",
    "from nbdev.imports import *\n",
    "from nbdev.export import *\n",
    "from nbdev.sync import *\n",
    "from nbdev.merge import *\n",
    "from nbdev.export2html import *\n",
    "from nbdev.clean import *\n",
    "from nbdev.test import *\n",
    "from fastcore.script import *"
   ]
  },
  {
   "cell_type": "code",
   "execution_count": null,
   "id": "5fde3741-f71a-4351-a86e-0ac142702f2b",
   "metadata": {},
   "outputs": [],
   "source": [
    "#for tests\n",
    "import os"
   ]
  },
  {
   "cell_type": "code",
   "execution_count": null,
   "id": "2c067151-64ff-4c1b-bde2-a460c101ea33",
   "metadata": {},
   "outputs": [],
   "source": [
    "# export\n",
    "@call_parse\n",
    "def dsblocks_install_git_hooks():\n",
    "    \"Install git hooks to clean/trust notebooks automatically\"\n",
    "    try: path = get_config().config_file.parent\n",
    "    except: path = Path.cwd()\n",
    "    hook_path = path/'.git'/'hooks'\n",
    "    fn = hook_path/'pre-commit'\n",
    "    hook_path.mkdir(parents=True, exist_ok=True)\n",
    "    env_name = os.environ['CONDA_DEFAULT_ENV']\n",
    "    fn.write_text(f\"\"\"#!/bin/sh\n",
    "\n",
    "echo \"\\n==================== pre-commit hook ====================\"\n",
    "\n",
    "# Export conda environment to yaml file\n",
    "conda env export > {env_name}.yml\n",
    "\n",
    "# Check if new environment file is different from original \n",
    "git diff --exit-code --quiet {env_name}.yml \n",
    "\n",
    "# If new environment file is different, commit it\n",
    "if [ $? -eq 0 ]\n",
    "then\n",
    "    echo \"Conda environment not changed. No additional commit.\"\n",
    "else\n",
    "    echo \"Conda environment changed. Commiting new {env_name}.yml\"\n",
    "    git add {env_name}.yml\n",
    "    git commit -m \"Updating conda environment {env_name}\"\n",
    "    exit 1\n",
    "fi\n",
    "\"\"\")\n",
    "    \n",
    "    os.chmod (fn, stat.S_IRUSR | stat.S_IWUSR | stat.S_IXUSR | stat.S_IRGRP | stat.S_IWGRP | stat.S_IXGRP | stat.S_IROTH |  stat.S_IXOTH)\n",
    "    \n",
    "    fn = hook_path/'post-merge'\n",
    "    hook_path.mkdir(parents=True, exist_ok=True)\n",
    "    \n",
    "    fn.write_text(f\"\"\"#!/bin/sh\n",
    "\n",
    "echo \"\\n==================== post-merge hook ====================\"\n",
    "\n",
    "changed_files=\"$(git diff-tree -r --name-only --no-commit-id ORIG_HEAD HEAD)\"\n",
    "\n",
    "check_run() {{\n",
    "    echo \"$changed_files\" | grep --quiet \"$1\" && eval \"$2\"\n",
    "}}\n",
    "\n",
    "echo \"Have to update the conda environment\"\n",
    "check_run {env_name}.yml \"conda env update --file {env_name}.yml\"\n",
    "\"\"\")\n",
    "    \n",
    "    os.chmod (fn, stat.S_IRUSR | stat.S_IWUSR | stat.S_IXUSR | stat.S_IRGRP | stat.S_IWGRP | stat.S_IXGRP | stat.S_IROTH |  stat.S_IXOTH)"
   ]
  },
  {
   "cell_type": "markdown",
   "id": "430debf7-f10f-4e2b-87c6-97b509c55be6",
   "metadata": {},
   "source": [
    "### Usage example"
   ]
  },
  {
   "cell_type": "code",
   "execution_count": null,
   "id": "bdec1c3a-980f-43a1-ac17-495f43c9ad8d",
   "metadata": {},
   "outputs": [],
   "source": [
    "# export tests.utils.test_cli  \n",
    "def test_dsblocks_install_git_hooks ():\n",
    "    if os.path.exists('.git/hooks/pre-push'):\n",
    "        os.remove ('.git/hooks/pre-push')\n",
    "\n",
    "    if os.path.exists('.git/hooks/post-merge'):\n",
    "        os.remove ('.git/hooks/post-merge')\n",
    "    \n",
    "    dsblocks_install_git_hooks ()\n",
    "    assert {'post-merge', 'pre-commit'}.issubset(os.listdir ('.git/hooks'))\n",
    "    with open('.git/hooks/pre-commit', 'rt') as f: txt = f.read ()\n",
    "    assert txt.startswith ('#!/bin/sh\\n\\necho')\n",
    "    assert txt.endswith ('fi\\n')\n",
    "\n",
    "    with open('.git/hooks/post-merge', 'rt') as f: txt = f.read ()\n",
    "    assert txt.startswith ('#!/bin/sh\\n\\necho')\n",
    "    env_name = os.environ['CONDA_DEFAULT_ENV']\n",
    "    assert txt.endswith (f'le {env_name}.yml\"\\n')\n",
    "    \n",
    "    os.remove ('.git/hooks/pre-commit')\n",
    "    os.remove ('.git/hooks/post-merge')"
   ]
  },
  {
   "cell_type": "code",
   "execution_count": null,
   "id": "54e85370-fe4e-4a1c-a3e9-6f3dc479ee2b",
   "metadata": {},
   "outputs": [
    {
     "name": "stdout",
     "output_type": "stream",
     "text": [
      "running test_dsblocks_install_git_hooks\n"
     ]
    }
   ],
   "source": [
    "tst.run (test_dsblocks_install_git_hooks, tag='dummy')"
   ]
  }
 ],
 "metadata": {
  "kernelspec": {
   "display_name": "Python (dsblocks)",
   "language": "python",
   "name": "dsblocks"
  }
 },
 "nbformat": 4,
 "nbformat_minor": 5
}
