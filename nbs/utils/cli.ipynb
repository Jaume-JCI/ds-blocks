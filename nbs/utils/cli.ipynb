{
 "cells": [
  {
   "cell_type": "code",
   "execution_count": null,
   "id": "e546acea-61b1-4c76-aa31-be9ea956d6fc",
   "metadata": {},
   "outputs": [],
   "source": [
    "# hide\n",
    "# default_exp utils.cli\n",
    "from nbdev.showdoc import *\n",
    "from dsblocks.utils.nbdev_utils import nbdev_setup, TestRunner\n",
    "\n",
    "nbdev_setup ()\n",
    "tst = TestRunner (targets=['dummy'])"
   ]
  },
  {
   "cell_type": "markdown",
   "id": "19772d63-c803-4920-8635-b718e858157b",
   "metadata": {},
   "source": [
    "# cli tools\n",
    "\n",
    "> CLI tools"
   ]
  },
  {
   "cell_type": "code",
   "execution_count": null,
   "id": "bfbf6aa5-2a90-48f7-8c76-6e8d221554b9",
   "metadata": {},
   "outputs": [],
   "source": [
    "#export\n",
    "from nbdev.imports import *\n",
    "from nbdev.export import *\n",
    "from nbdev.sync import *\n",
    "from nbdev.merge import *\n",
    "from nbdev.export2html import *\n",
    "from nbdev.clean import *\n",
    "from nbdev.test import *\n",
    "from fastcore.script import *"
   ]
  },
  {
   "cell_type": "code",
   "execution_count": null,
   "id": "5fde3741-f71a-4351-a86e-0ac142702f2b",
   "metadata": {},
   "outputs": [],
   "source": [
    "#for tests\n",
    "import os"
   ]
  },
  {
   "cell_type": "code",
   "execution_count": null,
   "id": "2c067151-64ff-4c1b-bde2-a460c101ea33",
   "metadata": {},
   "outputs": [],
   "source": [
    "# export\n",
    "def dsblocks_install_git_hooks():\n",
    "    \"Install git hooks to clean/trust notebooks automatically\"\n",
    "    try: path = get_config().config_file.parent\n",
    "    except: path = Path.cwd()\n",
    "    hook_path = path/'.git'/'hooks'\n",
    "    fn = hook_path/'pre-commit'\n",
    "    hook_path.mkdir(parents=True, exist_ok=True)\n",
    "    fn.write_text(\"\"\"#!/bin/sh\n",
    "\n",
    "echo \"\\n==================== pre-commit hook ====================\"\n",
    "# Export conda environment to yaml file\n",
    "conda env export > envs/$CONDA_DEFAULT_ENV.yml\n",
    "git add envs/$CONDA_DEFAULT_ENV.yml\n",
    "\"\"\")\n",
    "    \n",
    "    os.chmod (fn, stat.S_IRUSR | stat.S_IWUSR | stat.S_IXUSR | stat.S_IRGRP | stat.S_IWGRP | stat.S_IXGRP | stat.S_IROTH |  stat.S_IXOTH)\n",
    "    \n",
    "    os.makedirs ('envs', exist_ok=True)\n",
    "    \n",
    "@call_parse\n",
    "def main_dsblocks_install_git_hooks():\n",
    "    dsblocks_install_git_hooks ()"
   ]
  },
  {
   "cell_type": "markdown",
   "id": "430debf7-f10f-4e2b-87c6-97b509c55be6",
   "metadata": {},
   "source": [
    "### Usage example"
   ]
  },
  {
   "cell_type": "code",
   "execution_count": null,
   "id": "bdec1c3a-980f-43a1-ac17-495f43c9ad8d",
   "metadata": {},
   "outputs": [],
   "source": [
    "# export tests.utils.test_cli  \n",
    "def test_dsblocks_install_git_hooks ():\n",
    "    if os.path.exists('.git/hooks/pre-push'):\n",
    "        os.remove ('.git/hooks/pre-push')\n",
    "    \n",
    "    dsblocks_install_git_hooks ()\n",
    "    \n",
    "    assert {'pre-commit'}.issubset(os.listdir ('.git/hooks'))\n",
    "    with open('.git/hooks/pre-commit', 'rt') as f: txt = f.read ()\n",
    "    assert txt.startswith ('#!/bin/sh\\n\\necho')\n",
    "    assert txt.endswith ('$CONDA_DEFAULT_ENV.yml\\n')\n",
    "    \n",
    "    os.remove ('.git/hooks/pre-commit')"
   ]
  },
  {
   "cell_type": "code",
   "execution_count": null,
   "id": "54e85370-fe4e-4a1c-a3e9-6f3dc479ee2b",
   "metadata": {},
   "outputs": [
    {
     "name": "stdout",
     "output_type": "stream",
     "text": [
      "running test_dsblocks_install_git_hooks\n"
     ]
    }
   ],
   "source": [
    "tst.run (test_dsblocks_install_git_hooks, tag='dummy')"
   ]
  }
 ],
 "metadata": {
  "kernelspec": {
   "display_name": "Python (dsblocks)",
   "language": "python",
   "name": "dsblocks"
  }
 },
 "nbformat": 4,
 "nbformat_minor": 5
}
