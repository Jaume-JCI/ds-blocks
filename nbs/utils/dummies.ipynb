{
 "cells": [
  {
   "cell_type": "code",
   "execution_count": 1,
   "id": "ccd85e81",
   "metadata": {},
   "outputs": [],
   "source": [
    "# hide\n",
    "# default_exp utils.dummies\n",
    "from nbdev.showdoc import *\n",
    "from block_types.utils.nbdev_utils import nbdev_setup, TestRunner\n",
    "\n",
    "nbdev_setup ()\n",
    "tst = TestRunner (targets=['dummy'])"
   ]
  },
  {
   "cell_type": "markdown",
   "id": "434bfb86",
   "metadata": {
    "tags": []
   },
   "source": [
    "# Dummy components\n",
    "\n",
    "> Dummy components used for testing"
   ]
  },
  {
   "cell_type": "code",
   "execution_count": 2,
   "id": "44f392e1",
   "metadata": {
    "tags": []
   },
   "outputs": [],
   "source": [
    "#export\n",
    "import pandas as pd\n",
    "import numpy as np\n",
    "from sklearn.utils import Bunch\n",
    "\n",
    "from block_types.core.block_types import (Component, \n",
    "                                          PandasComponent, \n",
    "                                          SamplingComponent,\n",
    "                                          NoSaverComponent)\n",
    "from block_types.core.compose import Sequential, Parallel\n",
    "import block_types.config.bt_defaults as dflt"
   ]
  },
  {
   "cell_type": "markdown",
   "id": "2919b6ed-f374-4240-a482-479c4bdf09ab",
   "metadata": {},
   "source": [
    "## Used by Component"
   ]
  },
  {
   "cell_type": "code",
   "execution_count": null,
   "id": "d9f81313-f00b-4f9a-8a91-3892ba05d777",
   "metadata": {},
   "outputs": [],
   "source": [
    "#export\n",
    "class SumXY (Component):\n",
    "    def _apply (self, x, y):\n",
    "        return x+y"
   ]
  },
  {
   "cell_type": "code",
   "execution_count": null,
   "id": "3bf5f46c-9c64-4490-8b0d-1f0d69480743",
   "metadata": {},
   "outputs": [],
   "source": [
    "#export\n",
    "class DummyEstimator ():\n",
    "    def __init__ (self, factor=3):\n",
    "        self.factor = factor\n",
    "    def fit (self, X, y=None):\n",
    "        self.sum = sum(X)\n",
    "    def transform (self, X):\n",
    "        return X * self.factor + self.sum"
   ]
  },
  {
   "cell_type": "markdown",
   "id": "7c47fd59-487c-4b1f-958a-11f9f8c791d1",
   "metadata": {},
   "source": [
    "## Used by Parallel"
   ]
  },
  {
   "cell_type": "markdown",
   "id": "9eabc71b-3fb9-4131-9625-af43ff4b52f4",
   "metadata": {},
   "source": [
    "### `find_last_result`"
   ]
  },
  {
   "cell_type": "code",
   "execution_count": null,
   "id": "2877e7b0-d473-4ac6-abc2-e1048519d23c",
   "metadata": {},
   "outputs": [],
   "source": [
    "#export\n",
    "class Sum1 (Component):\n",
    "    def __init__ (self, raise_error=False, **kwargs):\n",
    "        super().__init__ (**kwargs)\n",
    "        self.applied = False\n",
    "    def _apply (self, X):\n",
    "        return X+1\n",
    "    def apply (self, *X, **kwargs):\n",
    "        self.applied = True\n",
    "        if self.raise_error: raise RuntimeError (f'{self.name}: apply should not be called')\n",
    "        return super().apply (*X, **kwargs)\n",
    "    __call__ = apply\n",
    "    transform = apply\n",
    "\n",
    "class Multiply10 (Component):\n",
    "    def __init__ (self, raise_error=False, **kwargs):\n",
    "        super().__init__ (**kwargs)\n",
    "        self.applied = False\n",
    "    def _apply (self, X):\n",
    "        return X*10\n",
    "    def apply (self, *X, **kwargs):\n",
    "        self.applied = True\n",
    "        if self.raise_error: raise RuntimeError (f'{self.name}: apply should not be called')\n",
    "        return super().apply (*X, **kwargs)\n",
    "    __call__ = apply\n",
    "    transform = apply\n",
    "\n",
    "class NewParallel (Parallel):\n",
    "    def __init__ (self, *components, raise_error=False, **kwargs):\n",
    "        super().__init__ (*components, **kwargs)\n",
    "        self.applied = False\n",
    "    def apply (self, *X, **kwargs):\n",
    "        self.applied = True\n",
    "        if self.raise_error: raise RuntimeError (f'{self.name}: apply should not be called')\n",
    "        return super().apply (*X, **kwargs)\n",
    "    __call__ = apply\n",
    "    transform = apply\n",
    "    \n",
    "def make_pipe1 (**kwargs):\n",
    "    pipe = Sequential (Sum1 (name='A', **kwargs),\n",
    "                        Multiply10 (name='B', **kwargs),\n",
    "                        Sum1 (name='C', **kwargs),\n",
    "                        Multiply10 (name='D', **kwargs),\n",
    "                        Sum1 (name='E', **kwargs),\n",
    "                        **kwargs)\n",
    "    \n",
    "    return pipe\n",
    "\n",
    "def make_pipe2 (new_parallel=False, **kwargs):\n",
    "    ParallelClass = Parallel if not new_parallel else NewParallel\n",
    "    parallel = ParallelClass (\n",
    "        Multiply10 (name='B1', **kwargs),\n",
    "        Sequential (Multiply10 (name='B2a', **kwargs), Sum1 (name='B2b', **kwargs), \n",
    "                    Multiply10 (name='B2c', **kwargs), **kwargs),\n",
    "        Sequential (Sum1 (name='B3a', **kwargs), Multiply10 (name='B3b', **kwargs), \n",
    "                    Sum1 (name='B3c', **kwargs), **kwargs),\n",
    "        Sum1 (name='B4', **kwargs), \n",
    "        initialize_result=lambda:np.array([]),\n",
    "        join_result=lambda Xr, Xi_r, components, i: np.r_[Xr.reshape(-1,Xi_r.shape[1]), Xi_r],\n",
    "        **kwargs)\n",
    "    print (f'parallel class: {parallel.__class__}')            \n",
    "    pipe = Sequential (Sum1 (name='A', **kwargs), parallel, Sum1 (name='C', **kwargs), \n",
    "                       Sum1 (name='D', **kwargs), **kwargs)\n",
    "    pipe.gather_descendants ()\n",
    "    \n",
    "    return pipe\n",
    "\n"
   ]
  },
  {
   "cell_type": "markdown",
   "id": "081db464-9ffd-4492-a72a-c5076a53ff9b",
   "metadata": {},
   "source": [
    "### `find_last_fitted_model`"
   ]
  },
  {
   "cell_type": "code",
   "execution_count": null,
   "id": "a4855cad-892e-44d2-8db8-a41f550f479d",
   "metadata": {
    "tags": []
   },
   "outputs": [],
   "source": [
    "#export\n",
    "class MinMaxClass (Component):\n",
    "    def __init__ (self, raise_error=False, **kwargs):\n",
    "        super().__init__ (**kwargs)\n",
    "        self.estimator = Bunch()\n",
    "        self.applied = False\n",
    "        self.fitted = False\n",
    "        self.fit_applied = False\n",
    "    def apply (self, *X, **kwargs):\n",
    "        self.applied = True\n",
    "        if self.raise_error: raise RuntimeError (f'{self.name}: apply should not be called')\n",
    "        return super().apply (*X, **kwargs)\n",
    "    __call__ = apply\n",
    "    transform = apply\n",
    "    def fit (self, X, y=None, **kwargs):\n",
    "        self.fitted = True\n",
    "        if self.raise_error: raise RuntimeError (f'{self.name}: fit should not be called')\n",
    "        return super().fit (X, y=y, **kwargs)\n",
    "    def fit_apply (self, X, y=None, **kwargs):\n",
    "        self.fit_applied = True\n",
    "        if self.raise_error: raise RuntimeError (f'{self.name}: fit_apply should not be called')\n",
    "        return super().fit_apply (X, y=y, **kwargs)\n",
    "    fit_transform = fit_apply\n",
    "    fit_predict = fit_apply\n",
    "\n",
    "class Min10 (MinMaxClass):\n",
    "    def __init__ (self, **kwargs):\n",
    "        super().__init__ (**kwargs)\n",
    "    def _fit (self, X, y=None):\n",
    "        self.estimator['minim'] = X.min(axis=0)\n",
    "    def _apply (self, X):\n",
    "        return X*10+self.estimator.minim\n",
    "    \n",
    "class Max10 (MinMaxClass):\n",
    "    def __init__ (self, **kwargs):\n",
    "        super().__init__ (**kwargs)\n",
    "    def _fit (self, X, y=None):\n",
    "        self.estimator['maxim'] = X.max(axis=0)\n",
    "    def _apply (self, X):\n",
    "        return X*10+self.estimator.maxim\n",
    "\n",
    "def make_pipe_fit1 (**kwargs):\n",
    "    pipe = Sequential (Sum1 (name='A', **kwargs),\n",
    "                       Min10 (name='B', **kwargs),\n",
    "                        Max10 (name='C', **kwargs),\n",
    "                        Sum1 (name='D', **kwargs),\n",
    "                        Max10 (name='E', **kwargs),\n",
    "                        Sum1 (name='F', **kwargs),\n",
    "                        Min10 (name='G', **kwargs),\n",
    "                        **kwargs)\n",
    "    \n",
    "    return pipe\n",
    "\n",
    "def make_pipe_fit2 (new_parallel=False, **kwargs):\n",
    "    ParallelClass = Parallel if not new_parallel else NewParallel\n",
    "    parallel = ParallelClass (\n",
    "        Multiply10 (name='B1', **kwargs),\n",
    "        Min10 (name='B2', **kwargs),\n",
    "        Sequential (Min10 (name='B3a', **kwargs), Max10 (name='B3b', **kwargs), \n",
    "                    Sum1 (name='B3c', **kwargs), Min10 (name='B3d', **kwargs), **kwargs),\n",
    "        Sequential (Sum1 (name='B4a', **kwargs), Max10 (name='B4b', **kwargs), \n",
    "                    Min10 (name='B4c', **kwargs), Sum1 (name='B4d', **kwargs), \n",
    "                    Max10 (name='B4e', **kwargs), **kwargs),\n",
    "        Max10 (name='B5', **kwargs), \n",
    "        initialize_result=lambda:np.array([]),\n",
    "        join_result=lambda Xr, Xi_r, components, i: np.r_[Xr.reshape(-1,Xi_r.shape[1]), Xi_r],\n",
    "        **kwargs)\n",
    "    print (f'parallel class: {parallel.__class__}')            \n",
    "    pipe = Sequential (Sum1 (name='A0', **kwargs), Min10 (name='A1', **kwargs), parallel, \n",
    "                       Sum1 (name='C', **kwargs), Max10 (name='D', **kwargs), \n",
    "                       Sum1 (name='E', **kwargs), **kwargs)\n",
    "    pipe.gather_descendants ()\n",
    "    \n",
    "    return pipe"
   ]
  },
  {
   "cell_type": "markdown",
   "id": "2964d182-40fe-46ee-9e59-4239bd8771cc",
   "metadata": {},
   "source": [
    "## Used in direct_apply"
   ]
  },
  {
   "cell_type": "code",
   "execution_count": null,
   "id": "5114d383-b5c1-4f8c-87a5-906574398aa0",
   "metadata": {},
   "outputs": [],
   "source": [
    "#export\n",
    "class Min10direct (Component):\n",
    "    def __init__ (self, **kwargs):\n",
    "        super().__init__ (**kwargs)\n",
    "        self.create_estimator ()\n",
    "    def _fit (self, X, y=None):\n",
    "        self.estimator['minim'] = X.min(axis=0)\n",
    "    def _apply (self, X):\n",
    "        return X*10+self.estimator.minim\n",
    "    \n",
    "class Max10direct (Component):\n",
    "    def __init__ (self, **kwargs):\n",
    "        super().__init__ (**kwargs)\n",
    "        self.create_estimator ()\n",
    "    def _fit (self, X, y=None):\n",
    "        self.estimator['maxim'] = X.max(axis=0)\n",
    "    def _apply (self, X):\n",
    "        return X*10+self.estimator.maxim\n",
    "\n",
    "class Sum1direct (Component):\n",
    "    def __init__ (self, **kwargs):\n",
    "        super().__init__ (**kwargs)\n",
    "    def _apply (self, X):\n",
    "        return X+1\n",
    "    \n",
    "class Multiply10direct (Component):\n",
    "    def __init__ (self, **kwargs):\n",
    "        super().__init__ (**kwargs)\n",
    "    def _apply (self, X):\n",
    "        return X*10"
   ]
  },
  {
   "cell_type": "markdown",
   "id": "fcc5b7b4-8c6a-4875-a883-ab3e6f9da8d7",
   "metadata": {},
   "source": [
    "## Used by data conversion"
   ]
  },
  {
   "cell_type": "code",
   "execution_count": null,
   "id": "3d8ac7c4-a879-414c-8c08-fb7818b6e596",
   "metadata": {},
   "outputs": [],
   "source": [
    "#export \n",
    "class MaxOfPositiveWithSeparateLabels (Component):\n",
    "    def __init__ (self, **kwargs):\n",
    "        super().__init__ (**kwargs)\n",
    "        self.create_estimator ()\n",
    "    def _fit (self, X, y):\n",
    "        self.estimator.update (max=np.max(X[y==1], axis=0))\n",
    "    def _apply (self, X):\n",
    "        return X*10 + self.estimator.max\n",
    "    \n",
    "class MinOfPositiveWithoutSeparateLabels (Component):\n",
    "    def __init__ (self, **kwargs):\n",
    "        super().__init__ (**kwargs)\n",
    "        self.create_estimator ()\n",
    "    def _fit (self, X, y):\n",
    "        self.estimator.update (min=np.min(X[X.label==1].values[:,:-1], axis=0))\n",
    "    def _apply (self, X):\n",
    "        return X*10 + self.estimator.min\n",
    "    \n",
    "class DataSource (Component):\n",
    "    def __init__ (self, **kwargs):\n",
    "        super().__init__ (**kwargs)\n",
    "    def _apply (self):\n",
    "        X = pd.DataFrame ({'a': [1,2,3,4],\n",
    "                           'b': [4,5,6,7],\n",
    "                           'c': [10,20,30,40],\n",
    "                           'd': [40,50,60,70]})\n",
    "        Y = pd.DataFrame ({'a': [2,3,4,5],\n",
    "                           'b': [5,6,7,8],\n",
    "                           'c': [1,2,3,4],\n",
    "                           'd': [4,5,6,7]})\n",
    "        label = [0, 1, 1, 0]\n",
    "        \n",
    "        return X, Y, label\n",
    "    \n",
    "def subtract_xy (X, Y):\n",
    "    return X-Y"
   ]
  }
 ],
 "metadata": {
  "kernelspec": {
   "display_name": "Python (block_types)",
   "language": "python",
   "name": "block_types"
  },
  "language_info": {
   "codemirror_mode": {
    "name": "ipython",
    "version": 3
   },
   "file_extension": ".py",
   "mimetype": "text/x-python",
   "name": "python",
   "nbconvert_exporter": "python",
   "pygments_lexer": "ipython3",
   "version": "3.7.10"
  }
 },
 "nbformat": 4,
 "nbformat_minor": 5
}
