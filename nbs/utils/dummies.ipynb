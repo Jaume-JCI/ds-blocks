{
 "cells": [
  {
   "cell_type": "code",
   "execution_count": 1,
   "id": "ccd85e81",
   "metadata": {},
   "outputs": [],
   "source": [
    "# hide\n",
    "# default_exp utils.dummies\n",
    "from nbdev.showdoc import *\n",
    "from block_types.utils.nbdev_utils import nbdev_setup, TestRunner\n",
    "\n",
    "nbdev_setup ()\n",
    "tst = TestRunner (targets=['dummy'])"
   ]
  },
  {
   "cell_type": "markdown",
   "id": "434bfb86",
   "metadata": {
    "tags": []
   },
   "source": [
    "# Dummy components\n",
    "\n",
    "> Dummy components used for testing"
   ]
  },
  {
   "cell_type": "code",
   "execution_count": 2,
   "id": "44f392e1",
   "metadata": {
    "tags": []
   },
   "outputs": [],
   "source": [
    "#export\n",
    "from functools import partial\n",
    "import pandas as pd\n",
    "import numpy as np\n",
    "from sklearn.utils import Bunch\n",
    "\n",
    "from block_types.core.block_types import (Component, \n",
    "                                          PandasComponent, \n",
    "                                          SamplingComponent,\n",
    "                                          NoSaverComponent)\n",
    "from block_types.core.compose import Sequential, Parallel\n",
    "import block_types.config.bt_defaults as dflt"
   ]
  },
  {
   "cell_type": "markdown",
   "id": "2919b6ed-f374-4240-a482-479c4bdf09ab",
   "metadata": {},
   "source": [
    "## Used by Component"
   ]
  },
  {
   "cell_type": "code",
   "execution_count": 3,
   "id": "d9f81313-f00b-4f9a-8a91-3892ba05d777",
   "metadata": {},
   "outputs": [],
   "source": [
    "#export\n",
    "class SumXY (Component):\n",
    "    def _apply (self, x, y):\n",
    "        return x+y"
   ]
  },
  {
   "cell_type": "code",
   "execution_count": 4,
   "id": "3bf5f46c-9c64-4490-8b0d-1f0d69480743",
   "metadata": {},
   "outputs": [],
   "source": [
    "#export\n",
    "class DummyEstimator ():\n",
    "    def __init__ (self, factor=3):\n",
    "        self.factor = factor\n",
    "    def fit (self, X, y=None):\n",
    "        self.sum = sum(X)\n",
    "    def transform (self, X):\n",
    "        return X * self.factor + self.sum"
   ]
  },
  {
   "cell_type": "markdown",
   "id": "7c47fd59-487c-4b1f-958a-11f9f8c791d1",
   "metadata": {},
   "source": [
    "## Used by Parallel"
   ]
  },
  {
   "cell_type": "markdown",
   "id": "9eabc71b-3fb9-4131-9625-af43ff4b52f4",
   "metadata": {},
   "source": [
    "### `find_last_result`"
   ]
  },
  {
   "cell_type": "code",
   "execution_count": 5,
   "id": "2877e7b0-d473-4ac6-abc2-e1048519d23c",
   "metadata": {},
   "outputs": [],
   "source": [
    "#export\n",
    "class Sum1 (Component):\n",
    "    def __init__ (self, raise_error=False, **kwargs):\n",
    "        super().__init__ (**kwargs)\n",
    "        self.applied = False\n",
    "    def _apply (self, X):\n",
    "        return X+1\n",
    "    def apply (self, *X, **kwargs):\n",
    "        self.applied = True\n",
    "        if self.raise_error: raise RuntimeError (f'{self.name}: apply should not be called')\n",
    "        return super().apply (*X, **kwargs)\n",
    "    __call__ = apply\n",
    "    transform = apply\n",
    "\n",
    "class Multiply10 (Component):\n",
    "    def __init__ (self, raise_error=False, **kwargs):\n",
    "        super().__init__ (**kwargs)\n",
    "        self.applied = False\n",
    "    def _apply (self, X):\n",
    "        return X*10\n",
    "    def apply (self, *X, **kwargs):\n",
    "        self.applied = True\n",
    "        if self.raise_error: raise RuntimeError (f'{self.name}: apply should not be called')\n",
    "        return super().apply (*X, **kwargs)\n",
    "    __call__ = apply\n",
    "    transform = apply\n",
    "\n",
    "class NewParallel (Parallel):\n",
    "    def __init__ (self, *components, raise_error=False, **kwargs):\n",
    "        super().__init__ (*components, **kwargs)\n",
    "        self.applied = False\n",
    "    def apply (self, *X, **kwargs):\n",
    "        self.applied = True\n",
    "        if self.raise_error: raise RuntimeError (f'{self.name}: apply should not be called')\n",
    "        return super().apply (*X, **kwargs)\n",
    "    __call__ = apply\n",
    "    transform = apply\n",
    "    \n",
    "def make_pipe1 (**kwargs):\n",
    "    pipe = Sequential (Sum1 (name='A', **kwargs),\n",
    "                        Multiply10 (name='B', **kwargs),\n",
    "                        Sum1 (name='C', **kwargs),\n",
    "                        Multiply10 (name='D', **kwargs),\n",
    "                        Sum1 (name='E', **kwargs),\n",
    "                        **kwargs)\n",
    "    \n",
    "    return pipe\n",
    "\n",
    "def make_pipe2 (new_parallel=False, **kwargs):\n",
    "    ParallelClass = Parallel if not new_parallel else NewParallel\n",
    "    parallel = ParallelClass (\n",
    "        Multiply10 (name='B1', **kwargs),\n",
    "        Sequential (Multiply10 (name='B2a', **kwargs), Sum1 (name='B2b', **kwargs), \n",
    "                    Multiply10 (name='B2c', **kwargs), **kwargs),\n",
    "        Sequential (Sum1 (name='B3a', **kwargs), Multiply10 (name='B3b', **kwargs), \n",
    "                    Sum1 (name='B3c', **kwargs), **kwargs),\n",
    "        Sum1 (name='B4', **kwargs), \n",
    "        initialize_result=lambda:np.array([]),\n",
    "        join_result=lambda Xr, Xi_r, components, i: np.r_[Xr.reshape(-1,Xi_r.shape[1]), Xi_r],\n",
    "        **kwargs)\n",
    "    print (f'parallel class: {parallel.__class__}')            \n",
    "    pipe = Sequential (Sum1 (name='A', **kwargs), parallel, Sum1 (name='C', **kwargs), \n",
    "                       Sum1 (name='D', **kwargs), **kwargs)\n",
    "    pipe.gather_descendants ()\n",
    "    \n",
    "    return pipe\n",
    "\n"
   ]
  },
  {
   "cell_type": "markdown",
   "id": "081db464-9ffd-4492-a72a-c5076a53ff9b",
   "metadata": {},
   "source": [
    "### `find_last_fitted_model`"
   ]
  },
  {
   "cell_type": "code",
   "execution_count": 6,
   "id": "a4855cad-892e-44d2-8db8-a41f550f479d",
   "metadata": {
    "tags": []
   },
   "outputs": [],
   "source": [
    "#export\n",
    "class MinMaxClass (Component):\n",
    "    def __init__ (self, raise_error=False, **kwargs):\n",
    "        super().__init__ (**kwargs)\n",
    "        self.estimator = Bunch()\n",
    "        self.applied = False\n",
    "        self.fitted = False\n",
    "        self.fit_applied = False\n",
    "    def apply (self, *X, **kwargs):\n",
    "        self.applied = True\n",
    "        if self.raise_error: raise RuntimeError (f'{self.name}: apply should not be called')\n",
    "        return super().apply (*X, **kwargs)\n",
    "    __call__ = apply\n",
    "    transform = apply\n",
    "    def fit (self, X, y=None, **kwargs):\n",
    "        self.fitted = True\n",
    "        if self.raise_error: raise RuntimeError (f'{self.name}: fit should not be called')\n",
    "        return super().fit (X, y=y, **kwargs)\n",
    "    def fit_apply (self, X, y=None, **kwargs):\n",
    "        self.fit_applied = True\n",
    "        if self.raise_error: raise RuntimeError (f'{self.name}: fit_apply should not be called')\n",
    "        return super().fit_apply (X, y=y, **kwargs)\n",
    "    fit_transform = fit_apply\n",
    "    fit_predict = fit_apply\n",
    "\n",
    "class Min10 (MinMaxClass):\n",
    "    def __init__ (self, **kwargs):\n",
    "        super().__init__ (**kwargs)\n",
    "    def _fit (self, X, y=None):\n",
    "        self.estimator['minim'] = X.min(axis=0)\n",
    "    def _apply (self, X):\n",
    "        return X*10+self.estimator.minim\n",
    "    \n",
    "class Max10 (MinMaxClass):\n",
    "    def __init__ (self, **kwargs):\n",
    "        super().__init__ (**kwargs)\n",
    "    def _fit (self, X, y=None):\n",
    "        self.estimator['maxim'] = X.max(axis=0)\n",
    "    def _apply (self, X):\n",
    "        return X*10+self.estimator.maxim\n",
    "\n",
    "def make_pipe_fit1 (**kwargs):\n",
    "    pipe = Sequential (Sum1 (name='A', **kwargs),\n",
    "                       Min10 (name='B', **kwargs),\n",
    "                        Max10 (name='C', **kwargs),\n",
    "                        Sum1 (name='D', **kwargs),\n",
    "                        Max10 (name='E', **kwargs),\n",
    "                        Sum1 (name='F', **kwargs),\n",
    "                        Min10 (name='G', **kwargs),\n",
    "                        **kwargs)\n",
    "    \n",
    "    return pipe\n",
    "\n",
    "def make_pipe_fit2 (new_parallel=False, **kwargs):\n",
    "    ParallelClass = Parallel if not new_parallel else NewParallel\n",
    "    parallel = ParallelClass (\n",
    "        Multiply10 (name='B1', **kwargs),\n",
    "        Min10 (name='B2', **kwargs),\n",
    "        Sequential (Min10 (name='B3a', **kwargs), Max10 (name='B3b', **kwargs), \n",
    "                    Sum1 (name='B3c', **kwargs), Min10 (name='B3d', **kwargs), **kwargs),\n",
    "        Sequential (Sum1 (name='B4a', **kwargs), Max10 (name='B4b', **kwargs), \n",
    "                    Min10 (name='B4c', **kwargs), Sum1 (name='B4d', **kwargs), \n",
    "                    Max10 (name='B4e', **kwargs), **kwargs),\n",
    "        Max10 (name='B5', **kwargs), \n",
    "        initialize_result=lambda:np.array([]),\n",
    "        join_result=lambda Xr, Xi_r, components, i: np.r_[Xr.reshape(-1,Xi_r.shape[1]), Xi_r],\n",
    "        **kwargs)\n",
    "    print (f'parallel class: {parallel.__class__}')            \n",
    "    pipe = Sequential (Sum1 (name='A0', **kwargs), Min10 (name='A1', **kwargs), parallel, \n",
    "                       Sum1 (name='C', **kwargs), Max10 (name='D', **kwargs), \n",
    "                       Sum1 (name='E', **kwargs), **kwargs)\n",
    "    pipe.gather_descendants ()\n",
    "    \n",
    "    return pipe"
   ]
  },
  {
   "cell_type": "markdown",
   "id": "2964d182-40fe-46ee-9e59-4239bd8771cc",
   "metadata": {},
   "source": [
    "## Used in direct_apply"
   ]
  },
  {
   "cell_type": "code",
   "execution_count": 7,
   "id": "5114d383-b5c1-4f8c-87a5-906574398aa0",
   "metadata": {},
   "outputs": [],
   "source": [
    "#export\n",
    "class Min10direct (Component):\n",
    "    def __init__ (self, **kwargs):\n",
    "        super().__init__ (**kwargs)\n",
    "        self.create_estimator ()\n",
    "    def _fit (self, X, y=None):\n",
    "        self.estimator['minim'] = X.min(axis=0)\n",
    "    def _apply (self, X):\n",
    "        return X*10+self.estimator.minim\n",
    "    \n",
    "class Max10direct (Component):\n",
    "    def __init__ (self, **kwargs):\n",
    "        super().__init__ (**kwargs)\n",
    "        self.create_estimator ()\n",
    "    def _fit (self, X, y=None):\n",
    "        self.estimator['maxim'] = X.max(axis=0)\n",
    "    def _apply (self, X):\n",
    "        return X*10+self.estimator.maxim\n",
    "\n",
    "class Sum1direct (Component):\n",
    "    def __init__ (self, **kwargs):\n",
    "        super().__init__ (**kwargs)\n",
    "    def _apply (self, X):\n",
    "        return X+1\n",
    "    \n",
    "class Multiply10direct (Component):\n",
    "    def __init__ (self, **kwargs):\n",
    "        super().__init__ (**kwargs)\n",
    "    def _apply (self, X):\n",
    "        return X*10"
   ]
  },
  {
   "cell_type": "markdown",
   "id": "fcc5b7b4-8c6a-4875-a883-ab3e6f9da8d7",
   "metadata": {},
   "source": [
    "## Used by data conversion"
   ]
  },
  {
   "cell_type": "code",
   "execution_count": 8,
   "id": "3d8ac7c4-a879-414c-8c08-fb7818b6e596",
   "metadata": {},
   "outputs": [],
   "source": [
    "#export \n",
    "class MaxOfPositiveWithSeparateLabels (Component):\n",
    "    def __init__ (self, **kwargs):\n",
    "        super().__init__ (**kwargs)\n",
    "        self.create_estimator ()\n",
    "    def _fit (self, X, y):\n",
    "        self.estimator.update (max=np.max(X[y==1], axis=0))\n",
    "    def _apply (self, X):\n",
    "        return X*10 + self.estimator.max\n",
    "    \n",
    "class MinOfPositiveWithoutSeparateLabels (Component):\n",
    "    def __init__ (self, **kwargs):\n",
    "        super().__init__ (**kwargs)\n",
    "        self.create_estimator ()\n",
    "    def _fit (self, X):\n",
    "        self.estimator.update (min=np.min(X[X.label==1].values[:,:-1], axis=0))\n",
    "    def _apply (self, X):\n",
    "        return X*10 + self.estimator.min\n",
    "    \n",
    "class DataSource (Component):\n",
    "    def __init__ (self, **kwargs):\n",
    "        super().__init__ (**kwargs)\n",
    "    def _apply (self):\n",
    "        X = pd.DataFrame ({'a': [1,2,3,4],\n",
    "                           'b': [4,5,6,7],\n",
    "                           'c': [10,20,30,40],\n",
    "                           'd': [40,50,60,70]})\n",
    "        Y = pd.DataFrame ({'a': [2,3,4,5],\n",
    "                           'b': [5,6,7,8],\n",
    "                           'c': [1,2,3,4],\n",
    "                           'd': [4,5,6,7]})\n",
    "        label = [0, 1, 1, 0]\n",
    "        \n",
    "        return X, Y, label\n",
    "    \n",
    "def subtract_xy (X, Y):\n",
    "    return X-Y"
   ]
  },
  {
   "cell_type": "markdown",
   "id": "0789ca4b-a0bb-4a2d-91d1-671bb8d341cf",
   "metadata": {},
   "source": [
    "## Fast dummy classifier"
   ]
  },
  {
   "cell_type": "code",
   "execution_count": 9,
   "id": "1bc3894d-63e8-480b-9c94-6aff9aac21b6",
   "metadata": {},
   "outputs": [],
   "source": [
    "#export\n",
    "class DummyClassifier (Component):\n",
    "    \n",
    "    op_mapping = {'max': np.max, 'min': np.min, 'mean': np.mean, 'sum': np.sum}\n",
    "    \n",
    "    def __init__ (self, project_op='max', statistic='mean', factor=1000, apply_func='simple', **kwargs):\n",
    "        \n",
    "        assert apply_func in {'simple', 'distance'}\n",
    "        self._apply = (self._apply_simple if apply_func=='simple' \n",
    "                      else self._apply_distance)\n",
    "        \n",
    "        self.project_op = partial (self.op_mapping[project_op], axis=1)\n",
    "        self.statistic = self.op_mapping[statistic]\n",
    "        \n",
    "        super().__init__ (**kwargs)\n",
    "        \n",
    "    def _fit (self, X, y, **kwargs):\n",
    "        Xproject = self.project_op (X)\n",
    "        statistic_0 = self.statistic (Xproject[y==0])\n",
    "        statistic_1 = self.statistic (Xproject[y==1])\n",
    "        statistic = (statistic_0 - statistic_1) * self.factor\n",
    "        self.create_estimator (statistic_0=statistic_0, statistic_1=statistic_1, statistic=statistic)\n",
    "           \n",
    "    def _apply_simple (self, X, **kwargs):\n",
    "        return self.project_op(X) + self.estimator.statistic\n",
    "    \n",
    "    def _apply_distance (self, X, **kwargs):\n",
    "        Xproject = self.project_op(X)\n",
    "        return np.abs(Xproject - self.estimator.statistic_0) - np.abs(Xproject - self.estimator.statistic_1)"
   ]
  },
  {
   "cell_type": "code",
   "execution_count": 16,
   "id": "09c4af46-3baf-4e00-aaa7-3259b57a42a0",
   "metadata": {},
   "outputs": [],
   "source": [
    "#export tests.utils.test_dummies\n",
    "def test_dummy_classifier ():\n",
    "    X = np.array ([[2,1,3], [4,6,5], [10,20,30], [40, 50, 60]])\n",
    "    y = np.array ([0, 1, 0, 1])\n",
    "    cl = DummyClassifier (project_op='min', statistic='min')\n",
    "    assert (cl.project_op (X)==np.array([1, 4, 10, 40])).all()\n",
    "    assert (cl.fit_apply (X, y)==np.array([-2999, -2996, -2990, -2960])).all()\n",
    "    assert cl.estimator=={'statistic_0': 1, 'statistic_1': 4, 'statistic': -3000}\n",
    "    \n",
    "    cl = DummyClassifier (project_op='max', statistic='sum')\n",
    "    assert (cl.fit_apply (X, y)==np.array([-32997, -32994, -32970, -32940])).all()\n",
    "    assert cl.estimator == {'statistic_0': 33, 'statistic_1': 66, 'statistic': -33000}\n",
    "\n",
    "    cl = DummyClassifier (project_op='max', statistic='sum', apply_func='distance')\n",
    "    assert (cl.fit_apply (X, y)==np.array([-33, -33, -33,  21])).all()\n",
    "    assert (cl.project_op(X)==np.array([ 3,  6, 30, 60])).all()"
   ]
  },
  {
   "cell_type": "code",
   "execution_count": 17,
   "id": "970ec779-891b-4ef6-9d02-496974754fd1",
   "metadata": {},
   "outputs": [
    {
     "name": "stdout",
     "output_type": "stream",
     "text": [
      "running test_dummy_classifier\n"
     ]
    }
   ],
   "source": [
    "tst.run (test_dummy_classifier, tag='dummy')"
   ]
  }
 ],
 "metadata": {
  "kernelspec": {
   "display_name": "Python (test_block_types)",
   "language": "python",
   "name": "test_block_types"
  },
  "language_info": {
   "codemirror_mode": {
    "name": "ipython",
    "version": 3
   },
   "file_extension": ".py",
   "mimetype": "text/x-python",
   "name": "python",
   "nbconvert_exporter": "python",
   "pygments_lexer": "ipython3",
   "version": "3.7.10"
  }
 },
 "nbformat": 4,
 "nbformat_minor": 5
}
