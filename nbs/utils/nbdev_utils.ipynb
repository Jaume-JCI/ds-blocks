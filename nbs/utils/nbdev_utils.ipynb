{
 "cells": [
  {
   "cell_type": "code",
   "execution_count": 20,
   "id": "86b3a6da",
   "metadata": {},
   "outputs": [],
   "source": [
    "# hide\n",
    "# default_exp utils.nbdev_utils\n",
    "from nbdev.showdoc import *"
   ]
  },
  {
   "cell_type": "markdown",
   "id": "4f1a487f",
   "metadata": {},
   "source": [
    "# nbdev utils\n",
    "\n",
    "> Temporary home for nbdev utils. One of the utilities is functions for  running tests with nbdev."
   ]
  },
  {
   "cell_type": "code",
   "execution_count": 21,
   "id": "c393df2c-674d-44c9-91b6-2f8d9bf3a818",
   "metadata": {},
   "outputs": [],
   "source": [
    "#export\n",
    "import os\n",
    "import shutil\n",
    "import joblib\n",
    "import re\n",
    "from pathlib import Path\n",
    "import socket\n",
    "from configparser import ConfigParser\n",
    "from IPython.display import display, Markdown, Latex"
   ]
  },
  {
   "cell_type": "code",
   "execution_count": 22,
   "id": "12036f68-c442-4741-9e29-8d2c238e310d",
   "metadata": {},
   "outputs": [],
   "source": [
    "# imports used in tests\n",
    "import pytest\n",
    "import os\n",
    "from block_types.utils.utils import remove_previous_results"
   ]
  },
  {
   "cell_type": "markdown",
   "id": "b66335b7-2770-4c75-b112-602ec15209ef",
   "metadata": {},
   "source": [
    "## cd_root"
   ]
  },
  {
   "cell_type": "code",
   "execution_count": 23,
   "id": "0ce3e74f-4809-4205-9e2e-6c467739689e",
   "metadata": {},
   "outputs": [],
   "source": [
    "#export \n",
    "def cd_root ():\n",
    "    max_count=10\n",
    "    while not os.path.exists('settings.ini'):\n",
    "        os.chdir('..')\n",
    "        max_count = max_count - 1\n",
    "        if max_count <= 0:\n",
    "            break"
   ]
  },
  {
   "cell_type": "markdown",
   "id": "91ca3595-d264-43e5-a80f-1dac75be81ca",
   "metadata": {},
   "source": [
    "## nbdev_setup"
   ]
  },
  {
   "cell_type": "code",
   "execution_count": 24,
   "id": "c0ef55e8-bdc6-41c7-882d-e947fa8d7f5b",
   "metadata": {},
   "outputs": [],
   "source": [
    "#export   \n",
    "def nbdev_setup (no_warnings=True):\n",
    "    if no_warnings:\n",
    "        from warnings import filterwarnings\n",
    "        filterwarnings(\"ignore\")\n",
    "    cd_root ()"
   ]
  },
  {
   "cell_type": "code",
   "execution_count": 25,
   "id": "db651be2-7cb8-4201-89db-6820cfc9bf11",
   "metadata": {},
   "outputs": [],
   "source": [
    "cd_root ()"
   ]
  },
  {
   "cell_type": "markdown",
   "id": "7be44a44-8f26-43e3-bae1-346b57ec8aea",
   "metadata": {},
   "source": [
    "## TestRunner"
   ]
  },
  {
   "cell_type": "code",
   "execution_count": 26,
   "id": "412d19c8-22db-487c-bf3f-8d6c936d586e",
   "metadata": {
    "tags": []
   },
   "outputs": [],
   "source": [
    "#export\n",
    "class TestRunner ():\n",
    "    def __init__ (self, do_all=False, do_test=None, all_tests=None, tags=None, targets=None, \n",
    "                  remote_targets=None, load=False, save=True, path_config='config_test/test_names.pk', \n",
    "                  localhostname=None, show=True):\n",
    "        \n",
    "        if save:\n",
    "            Path(path_config).parent.mkdir(parents=True, exist_ok=True)\n",
    "            \n",
    "        if load and Path(path_config).exists():\n",
    "            do_test_, all_tests_, tags_, targets_, remote_targets_, localhostname_ = joblib.load (path_config)\n",
    "            do_test = do_test_ if do_test is None else do_test\n",
    "            all_tests = all_tests_ if all_tests is None else all_tests\n",
    "            tags = tags_ if tags is None else tags\n",
    "            targets = targets_ if targets is None else targets\n",
    "            remote_targets = remote_targets_ if remote_targets is None else remote_targets\n",
    "            localhostname = localhostname_ if localhostname is None else localhostname\n",
    "        else:\n",
    "            do_test = [] if do_test is None else do_test\n",
    "            all_tests = [] if all_tests is None else all_tests\n",
    "            tags = {} if tags is None else tags\n",
    "            targets = [] if targets is None else targets\n",
    "            remote_targets = ['dummy'] if remote_targets is None else remote_targets\n",
    "            localhostname = 'DataScience-VMs-03' if localhostname is None else localhostname\n",
    "        \n",
    "        if not isinstance(targets, list):\n",
    "            targets = [targets]\n",
    "        \n",
    "        self.do_test = do_test\n",
    "        self.all_tests = all_tests\n",
    "        self.tags = tags\n",
    "        self.do_all = do_all\n",
    "        self.targets = targets\n",
    "        self.save = save\n",
    "        self.path_config = path_config\n",
    "        self.hostname = socket.gethostname()\n",
    "        self.localhostname = localhostname\n",
    "        self.remote_targets = remote_targets\n",
    "        self.is_remote = self.localhostname != self.hostname\n",
    "        self.show = show\n",
    "        self.storage = {}\n",
    "        \n",
    "    def get_data (self, data_func, *args, store=False, **kwargs):\n",
    "        name = data_func.__name__\n",
    "        if name in self.storage:\n",
    "            data = self.storage[name]\n",
    "        else:\n",
    "            data = data_func(*args, **kwargs)\n",
    "            if store:\n",
    "                self.storage[name] = data\n",
    "        return data\n",
    "    \n",
    "    def run (self, test_func, data_func=None, do=None, include=False, debug=False,\n",
    "            exclude=False, tag=None, show=None, store=False):\n",
    "        name = test_func.__name__ \n",
    "        show = self.show if show is None else show \n",
    "        if (name not in self.all_tests) and not exclude:\n",
    "            self.all_tests.append (name)\n",
    "        if include and name not in self.do_test:\n",
    "            self.do_test.append (name)\n",
    "        if tag is not None:\n",
    "            if tag in self.tags and name not in self.tags[tag]:\n",
    "                self.tags[tag].append(name)\n",
    "            else:\n",
    "                self.tags[tag] = [name]\n",
    "        if self.save:\n",
    "            joblib.dump ([self.do_test, self.all_tests, self.tags, self.targets,\n",
    "                         self.remote_targets, self.localhostname], self.path_config)\n",
    "        targets = self.remote_targets if self.is_remote else self.targets\n",
    "        if do is not None and not do:\n",
    "            return\n",
    "        if ((name in self.do_test) or do or (self.do_all and not exclude) or\n",
    "            ((tag is not None) and (tag in targets)) ):\n",
    "            if data_func is not None:\n",
    "                data = self.get_data (data_func, store=store)\n",
    "                args = [data]\n",
    "            else:\n",
    "                args = []\n",
    "            if debug:\n",
    "                import pdb\n",
    "                pdb.runcall (test_func, *args)\n",
    "            else:\n",
    "                if show:\n",
    "                    print (f'running {name}')\n",
    "                test_func (*args)"
   ]
  },
  {
   "cell_type": "code",
   "execution_count": 27,
   "id": "1700a6cd-eff2-470e-89c7-060fc3af27e3",
   "metadata": {},
   "outputs": [],
   "source": [
    "tst = TestRunner (targets=['dummy'])"
   ]
  },
  {
   "cell_type": "markdown",
   "id": "c2d97b8a-0748-4cf2-87ad-306f8f535d23",
   "metadata": {},
   "source": [
    "### Usage example"
   ]
  },
  {
   "cell_type": "code",
   "execution_count": 28,
   "id": "da552436-91d3-4120-92b7-66939a6efc26",
   "metadata": {},
   "outputs": [],
   "source": [
    "# export tests.utils.test_nbdev_utils\n",
    "def example_people_data():\n",
    "    return 5\n",
    "\n",
    "def myf (x):\n",
    "    return x*2\n",
    "\n",
    "def my_first_test (example_people_data):\n",
    "    print ('first passes')\n",
    "    assert myf (example_people_data) == 10\n",
    "\n",
    "def second_fails ():\n",
    "    print ('second fails')\n",
    "    assert False\n",
    "    \n",
    "def third_fails ():\n",
    "    print ('third fails')\n",
    "    assert False\n",
    "    \n",
    "def test_test_runner ():\n",
    "    # one test\n",
    "    tst_ = TestRunner (do_test=None, all_tests=None, load=False)\n",
    "    tst_.run (my_first_test, example_people_data, True)\n",
    "    assert tst_.all_tests == ['my_first_test']\n",
    "    assert os.listdir('config_test')==['test_names.pk']\n",
    "    \n",
    "    do_test_, all_tests_, tags_, targets_, remote_targets_, localhostname_ = joblib.load ('config_test/test_names.pk')\n",
    "    assert all_tests_==['my_first_test']\n",
    "    assert remote_targets_==['dummy']\n",
    "    assert tags_=={}\n",
    "    \n",
    "def test_test_runner_two_tests ():\n",
    "    tst_ = TestRunner (do_test=None, all_tests=None, targets='dummy', load=False)\n",
    "    assert tst_.do_test==[]\n",
    "    assert tst_.all_tests==[]\n",
    "    tst_.run (my_first_test, example_people_data, tag='dummy')\n",
    "    tst_.run (second_fails, tag='slow')\n",
    "    with pytest.raises (AssertionError):\n",
    "        tst_.run (third_fails, tag='dummy')\n",
    "\n",
    "    assert tst_.all_tests == ['my_first_test', 'second_fails', 'third_fails']\n",
    "    assert tst_.tags == {'dummy': ['my_first_test', 'third_fails'], 'slow': ['second_fails']}\n",
    "    assert tst_.targets==['dummy']\n",
    "    assert tst_.do_test==[]\n",
    "\n",
    "    do_test_, all_tests_, tags_, targets_, remote_targets_, localhostname_ = joblib.load ('config_test/test_names.pk')\n",
    "\n",
    "    assert all_tests_ == ['my_first_test', 'second_fails', 'third_fails']\n",
    "    assert tags_ == {'dummy': ['my_first_test', 'third_fails'], 'slow': ['second_fails']}\n",
    "    assert targets_==['dummy']\n",
    "    assert do_test_==[]\n",
    "    \n",
    "    tst_ = TestRunner (do_test=None, all_tests=None, load=True)\n",
    "    assert tst_.all_tests == ['my_first_test', 'second_fails', 'third_fails']\n",
    "    \n",
    "    tst_ = TestRunner (do_test=None, all_tests=None, load=False)\n",
    "    assert tst_.all_tests == []\n",
    "    \n",
    "def test_test_runner_two_targets ():\n",
    "    tst_ = TestRunner (targets=['dummy','slow'], load=False)\n",
    "    tst_.run (my_first_test, example_people_data, tag='slow')\n",
    "    tst_.run (second_fails, tag='other')\n",
    "    with pytest.raises (AssertionError):\n",
    "        tst_.run (third_fails, tag='dummy')"
   ]
  },
  {
   "cell_type": "code",
   "execution_count": 29,
   "id": "54e85370-fe4e-4a1c-a3e9-6f3dc479ee2b",
   "metadata": {},
   "outputs": [
    {
     "name": "stdout",
     "output_type": "stream",
     "text": [
      "running test_test_runner\n",
      "running my_first_test\n",
      "first passes\n",
      "running test_test_runner_two_tests\n",
      "running my_first_test\n",
      "first passes\n",
      "running third_fails\n",
      "third fails\n",
      "running test_test_runner_two_targets\n",
      "running my_first_test\n",
      "first passes\n",
      "running third_fails\n",
      "third fails\n"
     ]
    }
   ],
   "source": [
    "tst.run (test_test_runner, tag='dummy')\n",
    "tst.run (test_test_runner_two_tests, tag='dummy')\n",
    "tst.run (test_test_runner_two_targets, tag='dummy')"
   ]
  },
  {
   "cell_type": "markdown",
   "id": "b630876f-c37b-42f5-a9a7-d1989ff86030",
   "metadata": {},
   "source": [
    "### testing cd_root"
   ]
  },
  {
   "cell_type": "code",
   "execution_count": 69,
   "id": "af61676c-7fb9-4a13-bc98-3b7505d79aa0",
   "metadata": {},
   "outputs": [],
   "source": [
    "# export tests.utils.test_nbdev_utils    \n",
    "def test_cd_root ():\n",
    "    os.chdir('nbs/utils')\n",
    "    d = os.listdir ('.')\n",
    "    assert 'settings.ini' not in d\n",
    "    cd_root ()\n",
    "    d = os.listdir ('.')\n",
    "    assert 'settings.ini' in d"
   ]
  },
  {
   "cell_type": "code",
   "execution_count": 70,
   "id": "5798ba1a-eaa0-4f0d-9d2f-57c7a7e3cd0d",
   "metadata": {},
   "outputs": [
    {
     "name": "stdout",
     "output_type": "stream",
     "text": [
      "running test_cd_root\n"
     ]
    }
   ],
   "source": [
    "tst.run (test_cd_root, tag='dummy')"
   ]
  },
  {
   "cell_type": "markdown",
   "id": "8bbcca8a-60c9-4b3f-9023-057a84e568b8",
   "metadata": {},
   "source": [
    "### testing nbdev_setup"
   ]
  },
  {
   "cell_type": "code",
   "execution_count": 69,
   "id": "d4848f9a-c322-4e21-8dc1-cba1261f56cc",
   "metadata": {},
   "outputs": [],
   "source": [
    "# export tests.utils.test_nbdev_utils    \n",
    "def test_nbdev_setup ():\n",
    "    os.chdir('nbs/utils')\n",
    "    d = os.listdir ('.')\n",
    "    assert 'settings.ini' not in d\n",
    "    nbdev_setup ()\n",
    "    d = os.listdir ('.')\n",
    "    assert 'settings.ini' in d"
   ]
  },
  {
   "cell_type": "code",
   "execution_count": 70,
   "id": "85f469fe-60a9-497a-bb80-302df34a3e93",
   "metadata": {},
   "outputs": [
    {
     "name": "stdout",
     "output_type": "stream",
     "text": [
      "running test_cd_root\n"
     ]
    }
   ],
   "source": [
    "tst.run (test_nbdev_setup, tag='dummy')"
   ]
  },
  {
   "cell_type": "markdown",
   "id": "10c9fc28-f2f2-483e-bf69-e8786a48a12b",
   "metadata": {},
   "source": [
    "## md"
   ]
  },
  {
   "cell_type": "code",
   "execution_count": 30,
   "id": "5f7f278b-a169-4915-a27c-6b16b2af8c36",
   "metadata": {},
   "outputs": [],
   "source": [
    "#export\n",
    "def md (txt, nl=''):\n",
    "    if 'b' in nl: print ('\\n')\n",
    "    display(Markdown(txt))\n",
    "    if 'e' in nl: print ('\\n')"
   ]
  },
  {
   "cell_type": "markdown",
   "id": "499c35d7-0235-4cf0-b606-f5389dd1f609",
   "metadata": {},
   "source": [
    "## nbdev_build_test"
   ]
  },
  {
   "cell_type": "code",
   "execution_count": 31,
   "id": "2e8a1055-3af1-4cdb-847b-8232d98e9f1b",
   "metadata": {
    "tags": []
   },
   "outputs": [],
   "source": [
    "#export\n",
    "def replace_imports (path_file, library_name):\n",
    "    file = open (path_file, 'rt')\n",
    "    text = file.read ()\n",
    "    file.close ()\n",
    "    text = re.sub (r'from \\.+', f'from {library_name}.', text)\n",
    "    \n",
    "    file = open (path_file, 'wt')\n",
    "    file.write (text)\n",
    "    file.close ()"
   ]
  },
  {
   "cell_type": "code",
   "execution_count": 32,
   "id": "ac339618-af1f-4993-adc0-ca4a0d1a71a1",
   "metadata": {
    "tags": []
   },
   "outputs": [],
   "source": [
    "#export\n",
    "def nbdev_build_test (library_name=None, test_folder='tests'):\n",
    "    cd_root ()\n",
    "    if (library_name is None) or (test_folder is None):\n",
    "        config = ConfigParser(delimiters=['='])\n",
    "        config.read('settings.ini')\n",
    "        cfg = config['DEFAULT']\n",
    "    if library_name is None:\n",
    "        library_name = cfg['lib_name']\n",
    "    if test_folder is None:\n",
    "        test_folder = cfg['test_path']\n",
    "    print (f'moving {library_name}/{test_folder} to root path: {os.getcwd()}')\n",
    "    if os.path.exists (test_folder):\n",
    "        print (f'{test_folder} exists, removing it')\n",
    "        shutil.rmtree (test_folder)\n",
    "    shutil.move (f'{library_name}/{test_folder}', '.')\n",
    "    for root, dirs, files in os.walk(test_folder, topdown=False):\n",
    "        for name in files:\n",
    "            if name.endswith('.py'):\n",
    "                print (f'replacing imports in {os.path.join(root, name)}')\n",
    "                replace_imports (os.path.join(root, name), library_name)"
   ]
  },
  {
   "cell_type": "markdown",
   "id": "29f464e3-d9ab-4a66-b070-aac2b93d8edf",
   "metadata": {},
   "source": [
    "### Usage example"
   ]
  },
  {
   "cell_type": "code",
   "execution_count": 57,
   "id": "5041375c-17c1-434c-a469-b8752692eb5c",
   "metadata": {},
   "outputs": [],
   "source": [
    "# export tests.utils.test_nbdev_utils\n",
    "def create_fake_tests ():\n",
    "    os.makedirs ('mylibrary/mytests/first', exist_ok=True)\n",
    "    os.makedirs ('mylibrary/mytests/second', exist_ok=True)\n",
    "    f = open ('mylibrary/mytests/first/mod_a.py','wt')\n",
    "    f.write ('from ')\n",
    "    f.write ('...mytests.second.mod_b import b\\na=3\\nprint(a)')\n",
    "    f.close()\n",
    "    f = open ('mylibrary/mytests/second/mod_b.py','wt')\n",
    "    f.write ('b=4\\nprint(b)')\n",
    "    f.close()\n",
    "    f = open ('mylibrary/mytests/first/mod_c.py','wt')\n",
    "    f.write ('from ')\n",
    "    f.write ('...mytests.first.mod_a import a\\nc=5\\nprint(c)')\n",
    "    f.close()\n",
    "    f = open ('mylibrary/mytests/mod_d.py','wt')\n",
    "    f.write ('d=6\\nprint(d)')\n",
    "    f.close()\n",
    "    \n",
    "def test_nbdev_build_test ():\n",
    "    create_fake_tests ()\n",
    "    nbdev_build_test (library_name='mylibrary', test_folder='mytests')\n",
    "    \n",
    "    # tests\n",
    "    assert len(os.listdir ('mylibrary'))==0\n",
    "    assert sorted(os.listdir ('mytests'))==['first', 'mod_d.py', 'second']\n",
    "    assert sorted(os.listdir ('mytests/first'))==['mod_a.py', 'mod_c.py']\n",
    "    assert sorted(os.listdir ('mytests/second'))==['mod_b.py']\n",
    "\n",
    "    f = open ('mytests/first/mod_c.py','rt')\n",
    "    lines = f.readlines ()\n",
    "    f.close()\n",
    "    assert lines[0]=='from mylibrary.mytests.first.mod_a import a\\n'\n",
    "\n",
    "    f = open ('mytests/first/mod_a.py','rt')\n",
    "    lines = f.readlines ()\n",
    "    f.close()\n",
    "    assert lines[0]=='from mylibrary.mytests.second.mod_b import b\\n'\n",
    "    \n",
    "    remove_previous_results ('mylibrary')\n",
    "    remove_previous_results ('mytests')"
   ]
  },
  {
   "cell_type": "code",
   "execution_count": 58,
   "id": "d3242a42-87bf-4277-9856-e930e2ef2313",
   "metadata": {},
   "outputs": [
    {
     "name": "stdout",
     "output_type": "stream",
     "text": [
      "running test_nbdev_build_test\n",
      "moving mylibrary/mytests to root path: /home/jcidatascience/jaume/workspace/remote/block-types\n",
      "mytests exists, removing it\n",
      "replacing imports in mytests/second/mod_b.py\n",
      "replacing imports in mytests/first/mod_c.py\n",
      "replacing imports in mytests/first/mod_a.py\n",
      "replacing imports in mytests/mod_d.py\n"
     ]
    }
   ],
   "source": [
    "tst.run (test_nbdev_build_test, tag='dummy')"
   ]
  }
 ],
 "metadata": {
  "kernelspec": {
   "display_name": "Python (athena_old)",
   "language": "python",
   "name": "athena_old"
  },
  "language_info": {
   "codemirror_mode": {
    "name": "ipython",
    "version": 3
   },
   "file_extension": ".py",
   "mimetype": "text/x-python",
   "name": "python",
   "nbconvert_exporter": "python",
   "pygments_lexer": "ipython3",
   "version": "3.7.10"
  }
 },
 "nbformat": 4,
 "nbformat_minor": 5
}
