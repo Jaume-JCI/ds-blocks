{
 "cells": [
  {
   "cell_type": "code",
   "execution_count": 12,
   "id": "86b3a6da",
   "metadata": {},
   "outputs": [],
   "source": [
    "# hide\n",
    "# default_exp utils.nbdev_utils\n",
    "from nbdev.showdoc import *"
   ]
  },
  {
   "cell_type": "markdown",
   "id": "4f1a487f",
   "metadata": {},
   "source": [
    "# nbdev utils\n",
    "\n",
    "> Temporary home for nbdev utils. One of the utilities is functions for  running tests with nbdev."
   ]
  },
  {
   "cell_type": "code",
   "execution_count": 3,
   "id": "c393df2c-674d-44c9-91b6-2f8d9bf3a818",
   "metadata": {},
   "outputs": [],
   "source": [
    "#export\n",
    "import os\n",
    "import shutil\n",
    "import joblib\n",
    "import re\n",
    "from pathlib import Path\n",
    "import socket\n",
    "from configparser import ConfigParser"
   ]
  },
  {
   "cell_type": "code",
   "execution_count": 14,
   "id": "12036f68-c442-4741-9e29-8d2c238e310d",
   "metadata": {},
   "outputs": [],
   "source": [
    "# imports used in tests\n",
    "import pytest"
   ]
  },
  {
   "cell_type": "markdown",
   "id": "b66335b7-2770-4c75-b112-602ec15209ef",
   "metadata": {},
   "source": [
    "## cd_root"
   ]
  },
  {
   "cell_type": "code",
   "execution_count": 15,
   "id": "0ce3e74f-4809-4205-9e2e-6c467739689e",
   "metadata": {},
   "outputs": [],
   "source": [
    "#export \n",
    "def cd_root ():\n",
    "    max_count=10\n",
    "    while not os.path.exists('settings.ini'):\n",
    "        os.chdir('..')\n",
    "        max_count = max_count - 1\n",
    "        if max_count <= 0:\n",
    "            break"
   ]
  },
  {
   "cell_type": "markdown",
   "id": "91ca3595-d264-43e5-a80f-1dac75be81ca",
   "metadata": {},
   "source": [
    "## nbdev_setup"
   ]
  },
  {
   "cell_type": "code",
   "execution_count": 16,
   "id": "c0ef55e8-bdc6-41c7-882d-e947fa8d7f5b",
   "metadata": {},
   "outputs": [],
   "source": [
    "#export   \n",
    "def nbdev_setup (no_warnings=True):\n",
    "    if no_warnings:\n",
    "        from warnings import filterwarnings\n",
    "        filterwarnings(\"ignore\")\n",
    "    cd_root ()"
   ]
  },
  {
   "cell_type": "code",
   "execution_count": 17,
   "id": "db651be2-7cb8-4201-89db-6820cfc9bf11",
   "metadata": {},
   "outputs": [],
   "source": [
    "cd_root ()"
   ]
  },
  {
   "cell_type": "markdown",
   "id": "7be44a44-8f26-43e3-bae1-346b57ec8aea",
   "metadata": {},
   "source": [
    "## TestRunner"
   ]
  },
  {
   "cell_type": "code",
   "execution_count": 74,
   "id": "412d19c8-22db-487c-bf3f-8d6c936d586e",
   "metadata": {
    "tags": []
   },
   "outputs": [],
   "source": [
    "#export\n",
    "class TestRunner ():\n",
    "    def __init__ (self, do_all=False, do_test=None, all_tests=None, tags=None, targets=None, \n",
    "                  remote_targets=None, load=False, save=True, path_config='config_test/test_names.pk', \n",
    "                  localhostname=None, show=True):\n",
    "        \n",
    "        if save:\n",
    "            Path(path_config).parent.mkdir(parents=True, exist_ok=True)\n",
    "            \n",
    "        if load and Path(path_config).exists():\n",
    "            do_test_, all_tests_, tags_, targets_, remote_targets_, localhostname_ = joblib.load (path_config)\n",
    "            do_test = do_test_ if do_test is None else do_test\n",
    "            all_tests = all_tests_ if all_tests is None else all_tests\n",
    "            tags = tags_ if tags is None else tags\n",
    "            targets = targets_ if targets is None else targets\n",
    "            remote_targets = remote_targets_ if remote_targets is None else remote_targets\n",
    "            localhostname = localhostname_ if localhostname is None else localhostname\n",
    "        else:\n",
    "            do_test = [] if do_test is None else do_test\n",
    "            all_tests = [] if all_tests is None else all_tests\n",
    "            tags = {} if tags is None else tags\n",
    "            targets = [] if targets is None else targets\n",
    "            remote_targets = ['dummy'] if remote_targets is None else remote_targets\n",
    "            localhostname = 'DataScience-VMs-03' if localhostname is None else localhostname\n",
    "        \n",
    "        if not isinstance(targets, list):\n",
    "            targets = [targets]\n",
    "        \n",
    "        self.do_test = do_test\n",
    "        self.all_tests = all_tests\n",
    "        self.tags = tags\n",
    "        self.do_all = do_all\n",
    "        self.targets = targets\n",
    "        self.save = save\n",
    "        self.path_config = path_config\n",
    "        self.hostname = socket.gethostname()\n",
    "        self.localhostname = localhostname\n",
    "        self.remote_targets = remote_targets\n",
    "        self.is_remote = self.localhostname != self.hostname\n",
    "        self.show = show\n",
    "        self.storage = {}\n",
    "        \n",
    "    def get_data (self, data_func, *args, store=False, **kwargs):\n",
    "        name = data_func.__name__\n",
    "        if name in self.storage:\n",
    "            data = self.storage[name]\n",
    "        else:\n",
    "            data = data_func(*args, **kwargs)\n",
    "            if store:\n",
    "                self.storage[name] = data\n",
    "        return data\n",
    "    \n",
    "    def run (self, test_func, data_func=None, do=False, include=False, debug=False,\n",
    "            exclude=False, tag=None, show=None, store=False):\n",
    "        name = test_func.__name__ \n",
    "        show = self.show if show is None else show \n",
    "        if (name not in self.all_tests) and not exclude:\n",
    "            self.all_tests.append (name)\n",
    "        if include and name not in self.do_test:\n",
    "            self.do_test.append (name)\n",
    "        if tag is not None:\n",
    "            if tag in self.tags and name not in self.tags[tag]:\n",
    "                self.tags[tag].append(name)\n",
    "            else:\n",
    "                self.tags[tag] = [name]\n",
    "        if self.save:\n",
    "            joblib.dump ([self.do_test, self.all_tests, self.tags, self.targets,\n",
    "                         self.remote_targets, self.localhostname], self.path_config)\n",
    "        targets = self.remote_targets if self.is_remote else self.targets\n",
    "        if ((name in self.do_test) or do or (self.do_all and not exclude) or\n",
    "            (tag is not None) and (tag in targets)):\n",
    "            if data_func is not None:\n",
    "                data = self.get_data (data_func, store=store)\n",
    "                args = [data]\n",
    "            else:\n",
    "                args = []\n",
    "            if debug:\n",
    "                import pdb\n",
    "                pdb.runcall (test_func, *args)\n",
    "            else:\n",
    "                if show:\n",
    "                    print (f'running {name}')\n",
    "                test_func (*args)"
   ]
  },
  {
   "cell_type": "code",
   "execution_count": 75,
   "id": "1700a6cd-eff2-470e-89c7-060fc3af27e3",
   "metadata": {},
   "outputs": [],
   "source": [
    "tst = TestRunner ()"
   ]
  },
  {
   "cell_type": "markdown",
   "id": "c2d97b8a-0748-4cf2-87ad-306f8f535d23",
   "metadata": {},
   "source": [
    "### example / test"
   ]
  },
  {
   "cell_type": "code",
   "execution_count": 78,
   "id": "da552436-91d3-4120-92b7-66939a6efc26",
   "metadata": {},
   "outputs": [],
   "source": [
    "# export tests.utils.test_nbdev_utils\n",
    "def example_people_data():\n",
    "    return 5\n",
    "\n",
    "def myf (x):\n",
    "    return x*2\n",
    "\n",
    "def my_first_test (example_people_data):\n",
    "    print ('first passes')\n",
    "    assert myf (example_people_data) == 10\n",
    "\n",
    "def second_fails ():\n",
    "    print ('second fails')\n",
    "    assert False\n",
    "    \n",
    "def third_fails ():\n",
    "    print ('third fails')\n",
    "    assert False\n",
    "    \n",
    "def test_test_runner ():\n",
    "    # one test\n",
    "    tst_ = TestRunner (do_test=None, all_tests=None, load=False)\n",
    "    tst_.run (my_first_test, example_people_data, True)\n",
    "    assert tst_.all_tests == ['my_first_test']\n",
    "    assert os.listdir('config_test')==['test_names.pk']\n",
    "    \n",
    "    do_test_, all_tests_, tags_, targets_, remote_targets_, localhostname_ = joblib.load ('config_test/test_names.pk')\n",
    "    assert all_tests_==['my_first_test']\n",
    "    assert remote_targets_==['dummy']\n",
    "    assert tags_=={}\n",
    "    \n",
    "def test_test_runner_two_tests ():\n",
    "    tst_ = TestRunner (do_test=None, all_tests=None, targets='dummy', load=False)\n",
    "    assert tst_.do_test==[]\n",
    "    assert tst_.all_tests==[]\n",
    "    tst_.run (my_first_test, example_people_data, tag='dummy')\n",
    "    tst_.run (second_fails, tag='slow')\n",
    "    with pytest.raises (AssertionError):\n",
    "        tst_.run (third_fails, tag='dummy')\n",
    "\n",
    "    assert tst_.all_tests == ['my_first_test', 'second_fails', 'third_fails']\n",
    "    assert tst_.tags == {'dummy': ['my_first_test', 'third_fails'], 'slow': ['second_fails']}\n",
    "    assert tst_.targets==['dummy']\n",
    "    assert tst_.do_test==[]\n",
    "\n",
    "    do_test_, all_tests_, tags_, targets_, remote_targets_, localhostname_ = joblib.load ('config_test/test_names.pk')\n",
    "\n",
    "    assert all_tests_ == ['my_first_test', 'second_fails', 'third_fails']\n",
    "    assert tags_ == {'dummy': ['my_first_test', 'third_fails'], 'slow': ['second_fails']}\n",
    "    assert targets_==['dummy']\n",
    "    assert do_test_==[]\n",
    "    \n",
    "    tst_ = TestRunner (do_test=None, all_tests=None, load=True)\n",
    "    assert tst_.all_tests == ['my_first_test', 'second_fails', 'third_fails']\n",
    "    \n",
    "    tst_ = TestRunner (do_test=None, all_tests=None, load=False)\n",
    "    assert tst_.all_tests == []\n",
    "    \n",
    "def test_test_runner_two_targets ():\n",
    "    tst_ = TestRunner (targets=['dummy','slow'], load=False)\n",
    "    tst_.run (my_first_test, example_people_data, tag='slow')\n",
    "    tst_.run (second_fails, tag='other')\n",
    "    with pytest.raises (AssertionError):\n",
    "        tst_.run (third_fails, tag='dummy')"
   ]
  },
  {
   "cell_type": "code",
   "execution_count": null,
   "id": "54e85370-fe4e-4a1c-a3e9-6f3dc479ee2b",
   "metadata": {},
   "outputs": [],
   "source": [
    "tst.run (test_test_runner, do=True)\n",
    "tst.run (test_test_runner_two_tests, do=True)\n",
    "tst.run (test_test_runner_two_targets, do=True)"
   ]
  },
  {
   "cell_type": "markdown",
   "id": "499c35d7-0235-4cf0-b606-f5389dd1f609",
   "metadata": {},
   "source": [
    "## nbdev_build_test"
   ]
  },
  {
   "cell_type": "code",
   "execution_count": null,
   "id": "2e8a1055-3af1-4cdb-847b-8232d98e9f1b",
   "metadata": {},
   "outputs": [],
   "source": [
    "#export\n",
    "def replace_imports (path_file, library_name):\n",
    "    file = open (path_file, 'rt')\n",
    "    text = file.read ()\n",
    "    file.close ()\n",
    "    text = re.sub (r'from \\.+', f'from {library_name}.', text)\n",
    "    \n",
    "    file = open (path_file, 'wt')\n",
    "    file.write (text)\n",
    "    file.close ()"
   ]
  },
  {
   "cell_type": "code",
   "execution_count": null,
   "id": "ac339618-af1f-4993-adc0-ca4a0d1a71a1",
   "metadata": {},
   "outputs": [],
   "source": [
    "#export\n",
    "def nbdev_build_test (library_name=None, test_folder='tests'):\n",
    "    cd_root ()\n",
    "    if (library_name is None) or (test_folder is None):\n",
    "        config = ConfigParser(delimiters=['='])\n",
    "        config.read('settings.ini')\n",
    "        cfg = config['DEFAULT']\n",
    "    if library_name is None:\n",
    "        library_name = cfg['lib_name']\n",
    "    if test_folder is None:\n",
    "        test_folder = cfg['test_path']\n",
    "    print (f'moving {library_name}/{test_folder} to root path: {os.getcwd()}')\n",
    "    if os.path.exists (test_folder):\n",
    "        print (f'{test_folder} exists, removing it')\n",
    "        shutil.rmtree (test_folder)\n",
    "    shutil.move (f'{library_name}/{test_folder}', '.')\n",
    "    for root, dirs, files in os.walk(test_folder, topdown=False):\n",
    "        for name in files:\n",
    "            if name.endswith('.py'):\n",
    "                print (f'replacing imports in {os.path.join(root, name)}')\n",
    "                replace_imports (os.path.join(root, name), library_name)"
   ]
  }
 ],
 "metadata": {
  "kernelspec": {
   "display_name": "Python (athena_old)",
   "language": "python",
   "name": "athena_old"
  },
  "language_info": {
   "codemirror_mode": {
    "name": "ipython",
    "version": 3
   },
   "file_extension": ".py",
   "mimetype": "text/x-python",
   "name": "python",
   "nbconvert_exporter": "python",
   "pygments_lexer": "ipython3",
   "version": "3.7.10"
  }
 },
 "nbformat": 4,
 "nbformat_minor": 5
}
