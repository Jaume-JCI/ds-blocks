{
 "cells": [
  {
   "cell_type": "code",
   "execution_count": null,
   "id": "86b3a6da",
   "metadata": {},
   "outputs": [],
   "source": [
    "# hide\n",
    "# default_exp utils.session\n",
    "from nbdev.showdoc import *\n",
    "from dsblocks.utils.nbdev_utils import nbdev_setup, TestRunner\n",
    "\n",
    "nbdev_setup ()\n",
    "#tst = TestRunner (targets=['dummy'])\n",
    "tst = TestRunner (targets=[])"
   ]
  },
  {
   "cell_type": "markdown",
   "id": "4f1a487f",
   "metadata": {},
   "source": [
    "# Session"
   ]
  },
  {
   "cell_type": "code",
   "execution_count": null,
   "id": "00c30900-4c9d-473d-aa61-630512bc57c9",
   "metadata": {},
   "outputs": [],
   "source": [
    "# export\n",
    "import joblib\n",
    "\n",
    "# block-types\n",
    "import dsblocks.config.bt_defaults as dflt"
   ]
  },
  {
   "cell_type": "code",
   "execution_count": null,
   "id": "7ef37c2e-429f-4c21-9792-3666f230cd3c",
   "metadata": {},
   "outputs": [],
   "source": [
    "#for tests\n",
    "import pytest"
   ]
  },
  {
   "cell_type": "markdown",
   "id": "fa45dfbe-b6b1-48b4-9792-ac1759a02c23",
   "metadata": {},
   "source": [
    "## load"
   ]
  },
  {
   "cell_type": "code",
   "execution_count": null,
   "id": "6951e136-9afe-48e6-85a8-16c4274bd356",
   "metadata": {},
   "outputs": [],
   "source": [
    "#export\n",
    "def load (path=None):\n",
    "    if path is None: path = f'{dflt.path_session_folder}/last_run/{dflt.session_filename}'\n",
    "    return joblib.load (path)"
   ]
  },
  {
   "cell_type": "markdown",
   "id": "0c63dbcb-8d96-4187-91a1-d70f2f8acebf",
   "metadata": {},
   "source": [
    "### Usage example"
   ]
  },
  {
   "cell_type": "code",
   "execution_count": null,
   "id": "d75d6ec4-4812-49a7-968f-a89682e0808f",
   "metadata": {},
   "outputs": [],
   "source": [
    "# exports tests.utils.test_session\n",
    "from dsblocks.utils.dummies import make_pipe1\n",
    "def test_load ():\n",
    "    pipe = make_pipe1 ()\n",
    "    pipe.save_object ()\n",
    "    pipe2 = load ()\n",
    "    assert [x.name for x in pipe2.components]==['A', 'B', 'C', 'D', 'E']"
   ]
  },
  {
   "cell_type": "code",
   "execution_count": null,
   "id": "084e45c5-e9b4-41d9-bccd-196959b24a06",
   "metadata": {},
   "outputs": [],
   "source": [
    "tst.run (test_load, tag='dummy')"
   ]
  }
 ],
 "metadata": {
  "kernelspec": {
   "display_name": "Python (dsblocks)",
   "language": "python",
   "name": "dsblocks"
  }
 },
 "nbformat": 4,
 "nbformat_minor": 5
}
