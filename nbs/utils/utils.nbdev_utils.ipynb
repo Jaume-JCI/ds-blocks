{
 "cells": [
  {
   "cell_type": "code",
   "execution_count": 12,
   "id": "86b3a6da",
   "metadata": {},
   "outputs": [],
   "source": [
    "# hide\n",
    "# default_exp utils.nbdev_utils\n",
    "from nbdev.showdoc import *"
   ]
  },
  {
   "cell_type": "markdown",
   "id": "4f1a487f",
   "metadata": {},
   "source": [
    "# nbdev utils\n",
    "\n",
    "> Temporary home for nbdev utils. One of the utilities is functions for  running tests with nbdev."
   ]
  },
  {
   "cell_type": "code",
   "execution_count": 13,
   "id": "c393df2c-674d-44c9-91b6-2f8d9bf3a818",
   "metadata": {},
   "outputs": [],
   "source": [
    "#export\n",
    "import os\n",
    "import joblib\n",
    "from pathlib import Path\n",
    "import socket"
   ]
  },
  {
   "cell_type": "code",
   "execution_count": 14,
   "id": "12036f68-c442-4741-9e29-8d2c238e310d",
   "metadata": {},
   "outputs": [],
   "source": [
    "import pytest\n",
    "import os"
   ]
  },
  {
   "cell_type": "code",
   "execution_count": 15,
   "id": "0ce3e74f-4809-4205-9e2e-6c467739689e",
   "metadata": {},
   "outputs": [],
   "source": [
    "#export \n",
    "def cd_root ():\n",
    "    max_count=10\n",
    "    while not os.path.exists('settings.ini'):\n",
    "        os.chdir('..')\n",
    "        max_count = max_count - 1\n",
    "        if max_count <= 0:\n",
    "            break"
   ]
  },
  {
   "cell_type": "code",
   "execution_count": 16,
   "id": "c0ef55e8-bdc6-41c7-882d-e947fa8d7f5b",
   "metadata": {},
   "outputs": [],
   "source": [
    "#export   \n",
    "def nbdev_setup (no_warnings=True):\n",
    "    if no_warnings:\n",
    "        from warnings import filterwarnings\n",
    "        filterwarnings(\"ignore\")\n",
    "    cd_root ()"
   ]
  },
  {
   "cell_type": "code",
   "execution_count": 17,
   "id": "db651be2-7cb8-4201-89db-6820cfc9bf11",
   "metadata": {},
   "outputs": [],
   "source": [
    "cd_root ()"
   ]
  },
  {
   "cell_type": "code",
   "execution_count": 74,
   "id": "412d19c8-22db-487c-bf3f-8d6c936d586e",
   "metadata": {
    "tags": []
   },
   "outputs": [],
   "source": [
    "#export\n",
    "class TestRunner ():\n",
    "    def __init__ (self, do_all=False, do_test=None, all_tests=None, tags=None, targets=None, \n",
    "                  remote_targets=None, load=True, save=True, path_config='config_test/test_names.pk', \n",
    "                  localhostname=None, show=True):\n",
    "        \n",
    "        if save:\n",
    "            Path(path_config).parent.mkdir(parents=True, exist_ok=True)\n",
    "            \n",
    "        if load and Path(path_config).exists():\n",
    "            do_test_, all_tests_, tags_, targets_, remote_targets_, localhostname_ = joblib.load (path_config)\n",
    "            do_test = do_test_ if do_test is None else do_test\n",
    "            all_tests = all_tests_ if all_tests is None else all_tests\n",
    "            tags = tags_ if tags is None else tags\n",
    "            targets = targets_ if targets is None else targets\n",
    "            remote_targets = remote_targets_ if remote_targets is None else remote_targets\n",
    "            localhostname = localhostname_ if localhostname is None else localhostname\n",
    "        else:\n",
    "            do_test = [] if do_test is None else do_test\n",
    "            all_tests = [] if all_tests is None else all_tests\n",
    "            tags = {} if tags is None else tags\n",
    "            targets = [] if targets is None else targets\n",
    "            remote_targets = ['dummy'] if remote_targets is None else remote_targets\n",
    "            localhostname = 'DataScience-VMs-03' if localhostname is None else localhostname\n",
    "        \n",
    "        if not isinstance(targets, list):\n",
    "            targets = [targets]\n",
    "        \n",
    "        self.do_test = do_test\n",
    "        self.all_tests = all_tests\n",
    "        self.tags = tags\n",
    "        self.do_all = do_all\n",
    "        self.targets = targets\n",
    "        self.save = save\n",
    "        self.path_config = path_config\n",
    "        self.hostname = socket.gethostname()\n",
    "        self.localhostname = localhostname\n",
    "        self.remote_targets = remote_targets\n",
    "        self.is_remote = self.localhostname != self.hostname\n",
    "        self.show = show\n",
    "    \n",
    "    def run (self, test_func, data_func=None, do=False, include=False, debug=False,\n",
    "            exclude=False, tag=None, show=None):\n",
    "        name = test_func.__name__ \n",
    "        show = self.show if show is None else show \n",
    "        if (name not in self.all_tests) and not exclude:\n",
    "            self.all_tests.append (name)\n",
    "        if include and name not in self.do_test:\n",
    "            self.do_test.append (name)\n",
    "        if tag is not None:\n",
    "            if tag in self.tags and name not in self.tags[tag]:\n",
    "                self.tags[tag].append(name)\n",
    "            else:\n",
    "                self.tags[tag] = [name]\n",
    "        if self.save:\n",
    "            joblib.dump ([self.do_test, self.all_tests, self.tags, self.targets,\n",
    "                         self.remote_targets, self.localhostname], self.path_config)\n",
    "        targets = self.remote_targets if self.is_remote else self.targets\n",
    "        if ((name in self.do_test) or do or (self.do_all and not exclude) or\n",
    "            (tag is not None) and (tag in targets)):\n",
    "            if data_func is not None:\n",
    "                data = data_func()\n",
    "                args = [data]\n",
    "            else:\n",
    "                args = []\n",
    "            if debug:\n",
    "                import pdb\n",
    "                pdb.runcall (test_func, *args)\n",
    "            else:\n",
    "                if show:\n",
    "                    print (f'running {name}')\n",
    "                test_func (*args)"
   ]
  },
  {
   "cell_type": "code",
   "execution_count": 75,
   "id": "1700a6cd-eff2-470e-89c7-060fc3af27e3",
   "metadata": {},
   "outputs": [],
   "source": [
    "tst = TestRunner ()"
   ]
  },
  {
   "cell_type": "code",
   "execution_count": 78,
   "id": "da552436-91d3-4120-92b7-66939a6efc26",
   "metadata": {},
   "outputs": [],
   "source": [
    "# export test.utils.test_nbdev_utils\n",
    "def example_people_data():\n",
    "    return 5\n",
    "\n",
    "def myf (x):\n",
    "    return x*2\n",
    "\n",
    "def my_first_test (example_people_data):\n",
    "    print ('first passes')\n",
    "    assert myf (example_people_data) == 10\n",
    "\n",
    "def second_fails ():\n",
    "    print ('second fails')\n",
    "    assert False\n",
    "    \n",
    "def third_fails ():\n",
    "    print ('third fails')\n",
    "    assert False\n",
    "    \n",
    "def test_test_runner ():\n",
    "    # one test\n",
    "    tst_ = TestRunner (do_test=None, all_tests=None, load=False)\n",
    "    tst_.run (my_first_test, example_people_data, True)\n",
    "    assert tst_.all_tests == ['my_first_test']\n",
    "    assert os.listdir('config_test')==['test_names.pk']\n",
    "    \n",
    "    do_test_, all_tests_, tags_, targets_, remote_targets_, localhostname_ = joblib.load ('config_test/test_names.pk')\n",
    "    assert all_tests_==['my_first_test']\n",
    "    assert remote_targets_==['dummy']\n",
    "    assert tags_=={}\n",
    "    \n",
    "def test_test_runner_two_tests ():\n",
    "    tst_ = TestRunner (do_test=None, all_tests=None, targets='dummy', load=False)\n",
    "    assert tst_.do_test==[]\n",
    "    assert tst_.all_tests==[]\n",
    "    tst_.run (my_first_test, example_people_data, tag='dummy')\n",
    "    tst_.run (second_fails, tag='slow')\n",
    "    with pytest.raises (AssertionError):\n",
    "        tst_.run (third_fails, tag='dummy')\n",
    "\n",
    "    assert tst_.all_tests == ['my_first_test', 'second_fails', 'third_fails']\n",
    "    assert tst_.tags == {'dummy': ['my_first_test', 'third_fails'], 'slow': ['second_fails']}\n",
    "    assert tst_.targets==['dummy']\n",
    "    assert tst_.do_test==[]\n",
    "\n",
    "    do_test_, all_tests_, tags_, targets_, remote_targets_, localhostname_ = joblib.load ('config_test/test_names.pk')\n",
    "\n",
    "    assert all_tests_ == ['my_first_test', 'second_fails', 'third_fails']\n",
    "    assert tags_ == {'dummy': ['my_first_test', 'third_fails'], 'slow': ['second_fails']}\n",
    "    assert targets_==['dummy']\n",
    "    assert do_test_==[]\n",
    "    \n",
    "    tst_ = TestRunner (do_test=None, all_tests=None, load=True)\n",
    "    assert tst_.all_tests == ['my_first_test', 'second_fails', 'third_fails']\n",
    "    \n",
    "    tst_ = TestRunner (do_test=None, all_tests=None, load=False)\n",
    "    assert tst_.all_tests == []\n",
    "    \n",
    "def test_test_runner_two_targets ():\n",
    "    tst_ = TestRunner (targets=['dummy','slow'], load=False)\n",
    "    tst_.run (my_first_test, example_people_data, tag='slow')\n",
    "    tst_.run (second_fails, tag='other')\n",
    "    with pytest.raises (AssertionError):\n",
    "        tst_.run (third_fails, tag='dummy')"
   ]
  },
  {
   "cell_type": "code",
   "execution_count": null,
   "id": "54e85370-fe4e-4a1c-a3e9-6f3dc479ee2b",
   "metadata": {},
   "outputs": [],
   "source": [
    "tst.run (test_test_runner, do=True)\n",
    "tst.run (test_test_runner_two_tests, do=True)\n",
    "tst.run (test_test_runner_two_targets, do=True)"
   ]
  }
 ],
 "metadata": {
  "kernelspec": {
   "display_name": "Python (block_types)",
   "language": "python",
   "name": "block_types"
  },
  "language_info": {
   "codemirror_mode": {
    "name": "ipython",
    "version": 3
   },
   "file_extension": ".py",
   "mimetype": "text/x-python",
   "name": "python",
   "nbconvert_exporter": "python",
   "pygments_lexer": "ipython3",
   "version": "3.7.10"
  }
 },
 "nbformat": 4,
 "nbformat_minor": 5
}
