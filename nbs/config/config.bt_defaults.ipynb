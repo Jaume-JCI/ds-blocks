{
 "cells": [
  {
   "cell_type": "code",
   "execution_count": null,
   "id": "d35b3dbf",
   "metadata": {},
   "outputs": [],
   "source": [
    "# hide\n",
    "# default_exp config.bt_defaults\n",
    "from nbdev.showdoc import *\n",
    "from dsblocks.utils.nbdev_utils import nbdev_setup, TestRunner\n",
    "\n",
    "nbdev_setup ()"
   ]
  },
  {
   "cell_type": "markdown",
   "id": "a1cb586a",
   "metadata": {},
   "source": [
    "# Default values\n",
    "\n",
    "> Default values in block-types"
   ]
  },
  {
   "cell_type": "markdown",
   "id": "c7232152-afce-4b72-9fdd-0078ffac8d9b",
   "metadata": {},
   "source": [
    "## data_io"
   ]
  },
  {
   "cell_type": "code",
   "execution_count": null,
   "id": "1c0d2c5d",
   "metadata": {},
   "outputs": [],
   "source": [
    "#exports\n",
    "path_results = None\n",
    "path_models = None\n",
    "path_data = 'data'\n",
    "file_format = 'parquet'\n",
    "verbose = None\n",
    "name_logger='log'\n",
    "\n",
    "save_splits = dict(training=True,\n",
    "                  test=True,\n",
    "                  validation=True,\n",
    "                  whole=True)"
   ]
  },
  {
   "cell_type": "markdown",
   "id": "9b446269-234f-4ad5-97e1-ff4fd9a36a69",
   "metadata": {},
   "source": [
    "## dsblocks"
   ]
  },
  {
   "cell_type": "code",
   "execution_count": null,
   "id": "1c9be533",
   "metadata": {},
   "outputs": [],
   "source": [
    "#exports\n",
    "group = 'group_0'\n",
    "error_if_present = False\n",
    "overwrite_field = False\n",
    "mode_logger = 'a'"
   ]
  },
  {
   "cell_type": "markdown",
   "id": "fa41813e-d89a-4f06-94ca-4eedb9f9eeea",
   "metadata": {},
   "source": [
    "## MultiComponent"
   ]
  },
  {
   "cell_type": "code",
   "execution_count": null,
   "id": "bc2ba88e-f218-46d2-b499-7783f8112fe7",
   "metadata": {},
   "outputs": [],
   "source": [
    "#exports\n",
    "separate_labels=False\n",
    "warning_if_nick_name_exists=False\n",
    "propagate=False\n",
    "path_session_folder='session'\n",
    "session_filename='pipeline.pk'"
   ]
  },
  {
   "cell_type": "markdown",
   "id": "591956ba-04fa-4472-acbe-8aef5947402f",
   "metadata": {},
   "source": [
    "## Utils\n",
    "### Logger"
   ]
  },
  {
   "cell_type": "code",
   "execution_count": null,
   "id": "c935c631-0270-426f-b783-58e794786af4",
   "metadata": {},
   "outputs": [],
   "source": [
    "#export\n",
    "path_logger_folder='log'\n",
    "logger_filename='logs.txt'\n",
    "logger_null_filename='null_log.txt'\n",
    "mode_logger='w'\n",
    "stdout_logger=True\n",
    "null_name_logger='no_logging'"
   ]
  }
 ],
 "metadata": {
  "kernelspec": {
   "display_name": "Python (dsblocks)",
   "language": "python",
   "name": "dsblocks"
  }
 },
 "nbformat": 4,
 "nbformat_minor": 5
}
