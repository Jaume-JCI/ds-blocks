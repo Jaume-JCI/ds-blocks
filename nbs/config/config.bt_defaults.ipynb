{
 "cells": [
  {
   "cell_type": "code",
   "execution_count": null,
   "id": "d35b3dbf",
   "metadata": {},
   "outputs": [],
   "source": [
    "# hide\n",
    "# default_exp config.bt_defaults\n",
    "import os\n",
    "from nbdev.showdoc import *\n",
    "if not os.path.exists('settings.ini'):\n",
    "    os.chdir('..')\n",
    "    "
   ]
  },
  {
   "cell_type": "markdown",
   "id": "a1cb586a",
   "metadata": {},
   "source": [
    "# Default values\n",
    "\n",
    "> Default values in block-types"
   ]
  },
  {
   "cell_type": "markdown",
   "id": "c7232152-afce-4b72-9fdd-0078ffac8d9b",
   "metadata": {},
   "source": [
    "## data_io"
   ]
  },
  {
   "cell_type": "code",
   "execution_count": 1,
   "id": "1c0d2c5d",
   "metadata": {},
   "outputs": [],
   "source": [
    "#exports\n",
    "path_results = None\n",
    "path_data = 'data'\n",
    "file_format = 'parquet'\n",
    "verbose = None\n",
    "name_logger='log'\n",
    "\n",
    "save_splits = dict(training=True,\n",
    "                  test=True,\n",
    "                  validation=True,\n",
    "                  whole=True)"
   ]
  },
  {
   "cell_type": "markdown",
   "id": "9b446269-234f-4ad5-97e1-ff4fd9a36a69",
   "metadata": {},
   "source": [
    "## block_types"
   ]
  },
  {
   "cell_type": "code",
   "execution_count": null,
   "id": "1c9be533",
   "metadata": {},
   "outputs": [],
   "source": [
    "#exports\n",
    "group = 'group_0'\n",
    "error_if_present = False\n",
    "overwrite_field = False\n",
    "mode_logger = 'a'"
   ]
  },
  {
   "cell_type": "markdown",
   "id": "fa41813e-d89a-4f06-94ca-4eedb9f9eeea",
   "metadata": {},
   "source": [
    "## MultiComponent"
   ]
  },
  {
   "cell_type": "code",
   "execution_count": null,
   "id": "bc2ba88e-f218-46d2-b499-7783f8112fe7",
   "metadata": {},
   "outputs": [],
   "source": [
    "#exports\n",
    "separate_labels=False\n",
    "warning_if_nick_name_exists=False\n",
    "propagate=False"
   ]
  }
 ],
 "metadata": {
  "kernelspec": {
   "display_name": "Python (csp_new)",
   "language": "python",
   "name": "csp_new"
  },
  "language_info": {
   "codemirror_mode": {
    "name": "ipython",
    "version": 3
   },
   "file_extension": ".py",
   "mimetype": "text/x-python",
   "name": "python",
   "nbconvert_exporter": "python",
   "pygments_lexer": "ipython3",
   "version": "3.7.10"
  }
 },
 "nbformat": 4,
 "nbformat_minor": 5
}
